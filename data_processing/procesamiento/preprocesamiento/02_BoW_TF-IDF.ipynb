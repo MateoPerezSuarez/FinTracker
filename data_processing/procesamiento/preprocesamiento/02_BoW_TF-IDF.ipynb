{
 "cells": [
  {
   "cell_type": "markdown",
   "id": "50ae5783",
   "metadata": {},
   "source": [
    "# PREPROCESAMIENTO DE TODO"
   ]
  },
  {
   "cell_type": "markdown",
   "id": "ddd62094",
   "metadata": {},
   "source": [
    "## PARA MÉTODOS TRADICIONALES(TF-IDF)"
   ]
  },
  {
   "cell_type": "markdown",
   "id": "dedaa1e1",
   "metadata": {},
   "source": [
    "### PRUEBA CON SPACY"
   ]
  },
  {
   "cell_type": "code",
   "execution_count": null,
   "id": "cb17b031",
   "metadata": {},
   "outputs": [],
   "source": [
    "import spacy\n",
    "from tqdm import tqdm\n",
    "import re\n",
    "import en_core_web_sm\n",
    "from spacy.lang.en import English\n",
    "import pandas as pd"
   ]
  },
  {
   "cell_type": "code",
   "execution_count": 3,
   "id": "58f6039f",
   "metadata": {},
   "outputs": [
    {
     "name": "stdout",
     "output_type": "stream",
     "text": [
      "The UK jobs market continues to show signs of weakness, with pay growth slowing and unemployment edging higher ahead of the autumn budget next month.\n",
      "The latest data from the Office for National Statistics (ONS), released on Tuesday, showed that annual wage growth excluding bonuses in the three months to August was 4.7%, down slightly from 4.8% between May and July.\n",
      "The unemployment rate came in at 4.8% for the period, slightly higher than the 4.7% recorded for the previous three months.\n",
      "The number of employees on the payroll in the year to August was estimated to have fallen by 93,000, though it increased by 10,000 between July and August.\n",
      "Early estimates for the number of payrolled employees in September suggested a fall of 100,000 on the year and 10,000 on a monthly basis, though the ONS said this was likely to be revised when more data is received next month.\n",
      "The estimated number of job vacancies fell by 9,000 from the previous three months to 717,000 in July to September.\n",
      "Read more: 12 taxes you may not hear about in the budget – and what you can do about them\n",
      "Liz McKeown, director of economic statistics at the ONS, said: \"After a long period of weak hiring activity, there are signs that the falls we have seen in both payroll numbers and vacancies are now levelling off.\n",
      "\"We see different patterns across the age ranges with record numbers of over-65s in work, while the increase in unemployment was driven mostly by younger people.\"\n",
      "The figures come ahead of the government's autumn budget, which chancellor Rachel Reeves is due to deliver on 26 November, with speculation ramping up as to what policy changes she could announce to raise funds to support public finances.\n",
      "Professor Joe Nellis, an economic adviser at accountancy and advisory firm MHA, said that the labour market \"continues to show signs of strain\".\n",
      "\"Hiring momentum has slowed across most sectors, with many employers holding off on new recruitment or scaling back hours instead of making redundancies,\" he said. \"While this suggests a degree of resilience, it also signals that businesses are operating with caution amid fragile demand, elevated borrowing costs, and uncertainty ahead of the autumn budget.\"\n"
     ]
    }
   ],
   "source": [
    "csv_path = r\"..\\..\\finnhubAPI\\data\\porEmpresas\\definitivos\\AAPL_scrapped_filtrado.csv\"\n",
    "df = pd.read_csv(csv_path)\n",
    "\n",
    "texto = df[\"article_text\"].dropna().iloc[0]\n",
    "print(texto)\n"
   ]
  },
  {
   "cell_type": "code",
   "execution_count": 4,
   "id": "85fd2457",
   "metadata": {},
   "outputs": [],
   "source": [
    "nlp = spacy.load(\"en_core_web_sm\")\n",
    "english_stop_words = nlp.Defaults.stop_words\n",
    "\n",
    "df['processed_text'] = ''"
   ]
  },
  {
   "cell_type": "markdown",
   "id": "9e5f82eb",
   "metadata": {},
   "source": [
    "### En nuestro caso, vamos a aplicar normalización cuantitativa, visto en papers distintos"
   ]
  },
  {
   "cell_type": "markdown",
   "id": "9645c606",
   "metadata": {},
   "source": [
    "pillar valores como, $, million, trillion,... Como marcas de dinero. Es decir como MoneyValue\n",
    "\n",
    "Lo mismo para years, vamos a coger cifras de 4 en cuatro."
   ]
  },
  {
   "cell_type": "code",
   "execution_count": null,
   "id": "ed257dd3",
   "metadata": {},
   "outputs": [],
   "source": [
    "def procesarDatos(text):\n",
    "    text = re.sub(\n",
    "    r'(\\$|€|£)\\s*\\d[\\d,\\.]*\\s*(bn|b|m|k)?'\n",
    "    r'|(\\d[\\d,\\.]*\\s*(million|billion|trillion|m|bn))'\n",
    "    r'|(\\d[\\d,\\.]*\\s*(percent|%))',\n",
    "    flags=re.IGNORECASE\n",
    "    )   \n",
    "    \n",
    "    text = re.sub(r'\\b\\d{4}\\b', '<YEAR>', text)\n",
    "    doc = nlp(text)\n",
    "\n",
    "    tokens = []\n",
    "\n",
    "\n",
    "    for token in doc:\n",
    "        lemma = token.lemma_.lower()\n",
    "\n",
    "        if not token.is_punct and not token.is_space:\n",
    "            if lemma not in english_stop_words:\n",
    "                tokens.append(lemma)\n",
    "    return \" \".join(tokens)\n"
   ]
  },
  {
   "cell_type": "markdown",
   "id": "669cfc3c",
   "metadata": {},
   "source": [
    "### Aplicarlo al dataset (Prueba)"
   ]
  },
  {
   "cell_type": "code",
   "execution_count": null,
   "id": "148707c9",
   "metadata": {},
   "outputs": [],
   "source": [
    "import re\n",
    "import pandas as pd\n",
    "from tqdm import tqdm\n",
    "import spacy\n",
    "\n",
    "nlp = spacy.load(\"en_core_web_sm\")\n",
    "tqdm.pandas()\n",
    "\n",
    "csv_path = r\"..\\..\\finnhubAPI\\data\\porEmpresas\\definitivos\\INDEX_ALL_scrapped_filtrado.csv\"\n",
    "df = pd.read_csv(csv_path)\n",
    "\n",
    "OUT_COL = \"preprocessed_text\"\n",
    "if OUT_COL not in df.columns:\n",
    "    df[OUT_COL] = \"\"\n"
   ]
  },
  {
   "cell_type": "code",
   "execution_count": 3,
   "id": "6abaa3ff",
   "metadata": {},
   "outputs": [],
   "source": [
    "english_stop_words = nlp.Defaults.stop_words\n",
    "\n",
    "\n",
    "BOILERPLATE_PATTERNS = [\n",
    "    r'^read more:.*$',              # líneas de \"Read more:\"\n",
    "    r'^story continues.*$',         # otros ganchos\n",
    "    r'copyright\\s+©.*$',\n",
    "]\n",
    "BOILERPLATE_RE = re.compile(\"|\".join(BOILERPLATE_PATTERNS), flags=re.IGNORECASE | re.MULTILINE)\n",
    "\n",
    "def procesarDatos(text: str) -> str:\n",
    "    if not isinstance(text, str) or not text.strip():\n",
    "        return \"\"\n",
    "\n",
    "    # 1) Limpia boilerplate\n",
    "    text = BOILERPLATE_RE.sub(\"\", text)\n",
    "\n",
    "    text = re.sub(r'\\bQ([1-4])\\b', r'__QTR\\1__', text, flags=re.IGNORECASE)\n",
    "\n",
    "    text = re.sub(r'\\b\\d[\\d,\\.]*\\s*%\\b', '__PERCENT__', text)\n",
    "    text = re.sub(r'\\b\\d[\\d,\\.]*\\s*percent\\b', '__PERCENT__', text, flags=re.IGNORECASE)\n",
    "\n",
    "    text = re.sub(r'(\\$|€|£)\\s*\\d[\\d,\\.]*\\s*(bn|b|m|k)?\\b', '__MONEY__', text, flags=re.IGNORECASE)\n",
    "    text = re.sub(r'\\b\\d[\\d,\\.]*\\s*(million|billion|trillion|bn|m)\\b', '__AMOUNT__', text, flags=re.IGNORECASE)\n",
    "\n",
    "\n",
    "    text = re.sub(r'\\b(19|20)\\d{2}\\b', '__YEAR__', text)\n",
    "    text = re.sub(r'\\b((jan|feb|mar|apr|may|jun|jul|aug|sep|sept|oct|nov|dec)[a-z]*\\s+\\d{1,2})\\b','__DATE__', text)\n",
    "    text = re.sub(r'\\b(\\d{1,2}\\s+(jan|feb|mar|apr|may|jun|jul|aug|sep|sept|oct|nov|dec)[a-z]*)\\b','__DATE__', text)\n",
    "    text = re.sub(r'(?<![A-Za-z_])\\b\\d[\\d,\\.]*\\b(?![A-Za-z_])', '__NUM__', text)\n",
    "\n",
    "    doc = nlp(text)\n",
    "\n",
    "    out = []\n",
    "    for tok in doc:\n",
    "        if tok.is_punct or tok.is_space:\n",
    "            continue\n",
    "        lemma = tok.lemma_.lower()\n",
    "\n",
    "        # 3) Correcciones de lema útiles en finanzas\n",
    "        if tok.text.lower() == \"data\" and lemma == \"datum\":\n",
    "            lemma = \"data\"\n",
    "        if tok.text.lower() == \"percent\":\n",
    "            lemma = \"%\"\n",
    "\n",
    "        # stopwords\n",
    "        if lemma in nlp.Defaults.stop_words:\n",
    "            continue\n",
    "\n",
    "        out.append(lemma)\n",
    "    return \" \".join(out)\n"
   ]
  },
  {
   "cell_type": "code",
   "execution_count": 5,
   "id": "2a203e0a",
   "metadata": {},
   "outputs": [
    {
     "name": "stderr",
     "output_type": "stream",
     "text": [
      "100%|██████████| 5160/5160 [04:45<00:00, 18.04it/s]\n"
     ]
    }
   ],
   "source": [
    "mask_valid = df['article_text'].notna() & df['article_text'].astype(str).str.len().gt(0)\n",
    "df.loc[mask_valid, OUT_COL] = df.loc[mask_valid, 'article_text'].progress_apply(procesarDatos)\n"
   ]
  },
  {
   "cell_type": "code",
   "execution_count": 6,
   "id": "f516f8ed",
   "metadata": {},
   "outputs": [
    {
     "name": "stdout",
     "output_type": "stream",
     "text": [
      "TEXTO ORIGINAL DE LA PRIMERA NOTICIA:\n",
      "The UK jobs market continues to show signs of weakness, with pay growth slowing and unemployment edging higher ahead of the autumn budget next month.\n",
      "The latest data from the Office for National Statistics (ONS), released on Tuesday, showed that annual wage growth excluding bonuses in the three months to August was 4.7%, down slightly from 4.8% between May and July.\n",
      "The unemployment rate came in at 4.8% for the period, slightly higher than the 4.7% recorded for the previous three months.\n",
      "The number of employees on the payroll in the year to August was estimated to have fallen by 93,000, though it increased by 10,000 between July and August.\n",
      "Early estimates for the number of payrolled employees in September suggested a fall of 100,000 on the year and 10,000 on a monthly basis, though the ONS said this was likely to be revised when more data is received next month.\n",
      "The estimated number of job vacancies fell by 9,000 from the previous three months to 717,000 in July to September.\n",
      "Read more: 12 taxes you may not hear about in the budget – and what you can do about them\n",
      "Liz McKeown, director of economic statistics at the ONS, said: \"After a long period of weak hiring activity, there are signs that the falls we have seen in both payroll numbers and vacancies are now levelling off.\n",
      "\"We see different patterns across the age ranges with record numbers of over-65s in work, while the increase in unemployment was driven mostly by younger people.\"\n",
      "The figures come ahead of the government's autumn budget, which chancellor Rachel Reeves is due to deliver on 26 November, with speculation ramping up as to what policy changes she could announce to raise funds to support public finances.\n",
      "Professor Joe Nellis, an economic adviser at accountancy and advisory firm MHA, said that the labour market \"continues to show signs of strain\".\n",
      "\"Hiring momentum has slowed across most sectors, with many employers holding off on new recruitment or scaling back hours instead of making redundancies,\" he said. \"While this suggests a degree of resilience, it also signals that businesses are operating with caution amid fragile demand, elevated borrowing costs, and uncertainty ahead of the autumn budget.\"\n",
      "TEXTO PREPROCESADO:\n",
      "uk job market continue sign weakness pay growth slowing unemployment edge higher ahead autumn budget month late data office national statistics ons release tuesday annual wage growth exclude bonus month august num__% slightly num__% july unemployment rate come num__% period slightly high num__% record previous month number employee payroll year august estimate fall num increase num july august early estimate number payrolle employee september suggest fall num year num monthly basis ons likely revise data receive month estimated number job vacancy fall num previous month num july september liz mckeown director economic statistic ons long period weak hire activity sign fall payroll number vacancy level different pattern age range record number over-65s work increase unemployment drive young people figure come ahead government autumn budget chancellor rachel reeves deliver num november speculation ramp policy change announce raise fund support public finance professor joe nellis economic adviser accountancy advisory firm mha labour market continue sign strain hire momentum slow sector employer hold new recruitment scale hour instead redundancy suggest degree resilience signal business operate caution amid fragile demand elevated borrowing cost uncertainty ahead autumn budget\n",
      "PRUEBA\n",
      "[('The', 'DET', 'the'), ('UK', 'PROPN', 'UK'), ('jobs', 'NOUN', 'job'), ('market', 'NOUN', 'market'), ('continues', 'VERB', 'continue'), ('to', 'PART', 'to'), ('show', 'VERB', 'show'), ('signs', 'NOUN', 'sign'), ('of', 'ADP', 'of'), ('weakness', 'NOUN', 'weakness')]\n",
      "No hay artículos válidos en 'article_text'.\n"
     ]
    }
   ],
   "source": [
    "\n",
    "first_original_text = df.loc[mask_valid, \"article_text\"].iloc[0]\n",
    "first_preprocessed_text = df.loc[mask_valid, OUT_COL].iloc[0]\n",
    "\n",
    "print(\"TEXTO ORIGINAL DE LA PRIMERA NOTICIA:\")\n",
    "print(first_original_text)\n",
    "\n",
    "print(\"TEXTO PREPROCESADO:\")\n",
    "print(first_preprocessed_text)\n",
    "\n",
    "print(\"PRUEBA\")\n",
    "doc_test = nlp(first_original_text)\n",
    "verification_data = [(w.text, w.pos_, w.lemma_) for w in doc_test][:10]\n",
    "print(verification_data)\n",
    "print(\"No hay artículos válidos en 'article_text'.\")\n"
   ]
  },
  {
   "cell_type": "markdown",
   "id": "78fad7b7",
   "metadata": {},
   "source": [
    "# **TF-IDF**"
   ]
  },
  {
   "cell_type": "markdown",
   "id": "bbbb2dbf",
   "metadata": {},
   "source": [
    "## PREPROCESADO"
   ]
  },
  {
   "cell_type": "code",
   "execution_count": null,
   "id": "ed1a05b0",
   "metadata": {},
   "outputs": [],
   "source": [
    "import re\n",
    "import pandas as pd\n",
    "from tqdm import tqdm\n",
    "import spacy\n",
    "nlp = spacy.load(\"en_core_web_sm\", disable=[\"ner\", \"parser\", \"textcat\"])\n",
    "tqdm.pandas()\n",
    "\n",
    "csv_path = r\"..\\..\\finnhubAPI\\data\\porEmpresas\\definitivos\\INDEX_ALL_scrapped_filtrado.csv\"\n",
    "df = pd.read_csv(csv_path)\n",
    "\n",
    "OUT_COL = \"preprocessed_text\"\n",
    "if OUT_COL not in df.columns:\n",
    "    df[OUT_COL] = \"\"\n",
    "\n",
    "STOPWORDS = set(nlp.Defaults.stop_words)\n",
    "# Si quieres conservar la negación:\n",
    "# STOPWORDS.discard(\"not\")\n",
    "\n",
    "# ======= Regex de limpieza/placeholder =======\n",
    "URL_RE = re.compile(r\"https?://\\S+|www\\.\\S+\")\n",
    "HTML_TAG_RE = re.compile(r\"<[^>]+>\")\n",
    "BOILERPLATE_RE = re.compile(\n",
    "    r\"(^read more:.*$|^story continues.*$|copyright\\s*©.*$)\",\n",
    "    flags=re.IGNORECASE | re.MULTILINE,\n",
    ")\n",
    "CASHTAG_RE = re.compile(r\"\\$[A-Za-z]{1,10}\\b\")\n",
    "PLACEHOLDER_RE = re.compile(r\"__\\w+__\")  # detecta __PERCENT__, __NUM__, etc.\n",
    "\n",
    "def pre_rules(text: str) -> str:\n",
    "    if not isinstance(text, str) or not text.strip():\n",
    "        return \"\"\n",
    "\n",
    "    # Normalizaciones unicode ligeras (evita tokens raros)\n",
    "    text = (text.replace(\"’\", \"'\")\n",
    "                .replace(\"“\", '\"').replace(\"”\", '\"')\n",
    "                .replace(\"–\", \"-\").replace(\"—\", \"-\"))\n",
    "\n",
    "    t = BOILERPLATE_RE.sub(\"\", text)\n",
    "    t = HTML_TAG_RE.sub(\" \", t)\n",
    "    t = URL_RE.sub(\" \", t)\n",
    "\n",
    "    # Cashtags/tickers ($AAPL) -> __TICKER__\n",
    "    t = CASHTAG_RE.sub(\"__TICKER__\", t)\n",
    "\n",
    "    # === Placeholders financieros (¡orden importa!) ===\n",
    "    # Q1..Q4\n",
    "    t = re.sub(r'\\bQ([1-4])\\b', r'__QTR\\1__', t, flags=re.IGNORECASE)\n",
    "\n",
    "    # % con posible signo y puntuación detrás (4.7%, -3.2% etc.)\n",
    "    t = re.sub(r'\\b[+-]?\\d[\\d,\\.]*\\s*%(?=\\W|$)', '__PERCENT__', t)\n",
    "\n",
    "    # \"percent\" y \"per cent\" (con puntuación detrás)\n",
    "    t = re.sub(r'\\b[+-]?\\d[\\d,\\.]*\\s*percent(?=\\W|$)', '__PERCENT__', t, flags=re.IGNORECASE)\n",
    "    t = re.sub(r'\\b[+-]?\\d[\\d,\\.]*\\s*per\\s+cent(?=\\W|$)', '__PERCENT__', t, flags=re.IGNORECASE)\n",
    "\n",
    "    # Dinero: símbolo + cantidad + sufijo (bn/b/m/k)\n",
    "    t = re.sub(r'(\\$|€|£)\\s*\\d[\\d,\\.]*\\s*(?:bn|b|m|k)?\\b', '__MONEY__', t, flags=re.IGNORECASE)\n",
    "\n",
    "    # Cantidades con sufijo textual: million/billion/...\n",
    "    t = re.sub(r'\\b\\d[\\d,\\.]*\\s*(million|billion|trillion|bn|m)\\b',\n",
    "               '__AMOUNT__', t, flags=re.IGNORECASE)\n",
    "\n",
    "    # Año tipo 2010…2099\n",
    "    t = re.sub(r'\\b(19|20)\\d{2}\\b', '__YEAR__', t)\n",
    "\n",
    "    # Fechas \"Nov 26\" o \"26 Nov\"\n",
    "    t = re.sub(r'\\b((jan|feb|mar|apr|may|jun|jul|aug|sep|sept|oct|nov|dec)[a-z]*\\s+\\d{1,2})\\b',\n",
    "               '__DATE__', t, flags=re.IGNORECASE)\n",
    "    t = re.sub(r'\\b(\\d{1,2}\\s+(jan|feb|mar|apr|may|jun|jul|aug|sep|sept|oct|nov|dec)[a-z]*)\\b',\n",
    "               '__DATE__', t, flags=re.IGNORECASE)\n",
    "\n",
    "    # Números genéricos (al final, para no pisar los anteriores)\n",
    "    t = re.sub(r'(?<![A-Za-z_])\\b\\d[\\d,\\.]*\\b(?![A-Za-z_])', '__NUM__', t)\n",
    "\n",
    "    # Compacta espacios\n",
    "    t = re.sub(r'\\s+', ' ', t).strip()\n",
    "    return t\n",
    "\n",
    "def spacy_clean(doc) -> str:\n",
    "    out = []\n",
    "    for tok in doc:\n",
    "        if tok.is_punct or tok.is_space:\n",
    "            continue\n",
    "        if PLACEHOLDER_RE.fullmatch(tok.text):\n",
    "            out.append(tok.text)\n",
    "            continue\n",
    "\n",
    "        # 2) Descarta % sueltos\n",
    "        if tok.text == \"%\":\n",
    "            continue\n",
    "\n",
    "        # 3) Lema normal\n",
    "        lemma = tok.lemma_.lower()\n",
    "\n",
    "        # 4) Correcciones semánticas\n",
    "        if lemma == \"percent\":\n",
    "            out.append(\"__PERCENT__\")\n",
    "            continue\n",
    "        if tok.text.lower() == \"data\" and lemma == \"datum\":\n",
    "            lemma = \"data\"\n",
    "\n",
    "        # 5) Stopwords tras lematizar\n",
    "        if lemma in STOPWORDS:\n",
    "            continue\n",
    "\n",
    "        out.append(lemma)\n",
    "    return \" \".join(out)\n",
    "\n"
   ]
  },
  {
   "cell_type": "code",
   "execution_count": 25,
   "id": "bfd04c72",
   "metadata": {},
   "outputs": [
    {
     "name": "stdout",
     "output_type": "stream",
     "text": [
      "Procesando 5160 textos con spaCy...\n"
     ]
    },
    {
     "name": "stderr",
     "output_type": "stream",
     "text": [
      "100%|██████████| 5160/5160 [01:57<00:00, 44.07it/s] \n"
     ]
    },
    {
     "name": "stdout",
     "output_type": "stream",
     "text": [
      "Ya está: preprocessed_text\n"
     ]
    }
   ],
   "source": [
    "mask_valid = df['article_text'].notna() & df['article_text'].astype(str).str.len().gt(0)\n",
    "texts = df.loc[mask_valid, 'article_text'].astype(str).map(pre_rules).tolist()\n",
    "\n",
    "print(f\"Procesando {len(texts)} textos con spaCy...\")\n",
    "processed = []\n",
    "for doc in tqdm(nlp.pipe(texts, batch_size=1000, n_process=2), total=len(texts)):\n",
    "    processed.append(spacy_clean(doc))\n",
    "\n",
    "df.loc[mask_valid, OUT_COL] = processed\n",
    "print(\"Ya está:\", OUT_COL)\n"
   ]
  },
  {
   "cell_type": "code",
   "execution_count": 26,
   "id": "0c7762e2",
   "metadata": {},
   "outputs": [
    {
     "name": "stdout",
     "output_type": "stream",
     "text": [
      "\n",
      "============================\n",
      "Texto original\n",
      "============================\n",
      "\n",
      "The UK jobs market continues to show signs of weakness, with pay growth slowing and unemployment edging higher ahead of the autumn budget next month.\n",
      "The latest data from the Office for National Statistics (ONS), released on Tuesday, showed that annual wage growth excluding bonuses in the three months to August was 4.7%, down slightly from 4.8% between May and July.\n",
      "The unemployment rate came in at 4.8% for the period, slightly higher than the 4.7% recorded for the previous three months.\n",
      "The number of employees on the payroll in the year to August was estimated to have fallen by 93,000, though it increased by 10,000 between July and August.\n",
      "Early estimates for the number of payrolled employees in September suggested a fall of 100,000 on the year and 10,000 on a monthly basis, though the ONS said this was likely to be revised when more data is received next month.\n",
      "The estimated number of job vacancies fell by 9,000 from the previous three months to 717,000 in July to September.\n",
      "Read more: 12 taxes you may not hear about in the budget – and what you can do about them\n",
      "Liz McKeown, director of economic statistics at the ONS, said: \"After a long period of weak hiring activity, there are signs that the falls we have seen in both payroll numbers and vacancies are now levelling off.\n",
      "\"We see different patterns across the age ranges with record numbers of over-65s in work, while the increase in unemployment was driven mostly by younger people.\"\n",
      "The figures come ahead of the government's autumn budget, which chancellor Rachel Reeves is due to deliver on 26 November, with speculation ramping up as to what policy changes she could announce to raise funds to support public finances.\n",
      "Professor Joe Nellis, an economic adviser at accountancy and advisory firm MHA, said that the labour market \"continues to show signs of strain\".\n",
      "\"Hiring momentum has slowed across most sectors, with many employers holding off on new recruitment or scaling back hours instead of making redundancies,\" he said. \"While this suggests a degree of resilience, it also signals that businesses are operating with caution amid fragile demand, elevated borrowing costs, and uncertainty ahead of the autumn budget.\" ...\n",
      "\n",
      "\n",
      "============================\n",
      "Ver Prueba de procesado\n",
      "============================\n",
      "\n",
      "uk job market continue sign weakness pay growth slowing unemployment edge higher ahead autumn budget month late data office national statistics ons release tuesday annual wage growth exclude bonus month august __PERCENT__ slightly __PERCENT__ july unemployment rate come __PERCENT__ period slightly high __PERCENT__ record previous month number employee payroll year august estimate fall num increase num july august early estimate number payrolle employee september suggest fall num year num monthly basis ons likely revise data receive month estimate number job vacancy fall num previous month num july september liz mckeown director economic statistic ons long period weak hire activity sign fall payroll number vacancy level different pattern age range record number over-65s work increase unemployment drive young people figure come ahead government autumn budget chancellor rachel reeves deliver date speculation ramp policy change announce raise fund support public finance professor joe nellis economic adviser accountancy advisory firm mha labour market continue sign strain hire momentum slow sector employer hold new recruitment scale hour instead redundancy suggest degree resilience signal business operate caution amid fragile demand elevated borrowing cost uncertainty ahead autumn budget ...\n",
      "\n",
      "431\n",
      "[('The', 'DET', 'the'), ('UK', 'PROPN', 'UK'), ('jobs', 'NOUN', 'job'), ('market', 'NOUN', 'market'), ('continues', 'VERB', 'continue'), ('to', 'PART', 'to'), ('show', 'VERB', 'show'), ('signs', 'NOUN', 'sign'), ('of', 'ADP', 'of'), ('weakness', 'NOUN', 'weakness'), (',', 'PUNCT', ','), ('with', 'ADP', 'with'), ('pay', 'NOUN', 'pay'), ('growth', 'NOUN', 'growth'), ('slowing', 'NOUN', 'slowing'), ('and', 'CCONJ', 'and'), ('unemployment', 'NOUN', 'unemployment'), ('edging', 'VERB', 'edge'), ('higher', 'ADV', 'higher'), ('ahead', 'ADV', 'ahead'), ('of', 'ADP', 'of'), ('the', 'DET', 'the'), ('autumn', 'NOUN', 'autumn'), ('budget', 'NOUN', 'budget'), ('next', 'ADJ', 'next'), ('month', 'NOUN', 'month'), ('.', 'PUNCT', '.'), ('\\r\\n', 'SPACE', '\\r\\n'), ('The', 'DET', 'the'), ('latest', 'ADJ', 'late'), ('data', 'NOUN', 'datum'), ('from', 'ADP', 'from'), ('the', 'DET', 'the'), ('Office', 'PROPN', 'Office'), ('for', 'ADP', 'for'), ('National', 'PROPN', 'National'), ('Statistics', 'PROPN', 'Statistics'), ('(', 'PUNCT', '('), ('ONS', 'PROPN', 'ONS'), (')', 'PUNCT', ')'), (',', 'PUNCT', ','), ('released', 'VERB', 'release'), ('on', 'ADP', 'on'), ('Tuesday', 'PROPN', 'Tuesday'), (',', 'PUNCT', ','), ('showed', 'VERB', 'show'), ('that', 'SCONJ', 'that'), ('annual', 'ADJ', 'annual'), ('wage', 'NOUN', 'wage'), ('growth', 'NOUN', 'growth'), ('excluding', 'VERB', 'exclude'), ('bonuses', 'NOUN', 'bonus'), ('in', 'ADP', 'in'), ('the', 'DET', 'the'), ('three', 'NUM', 'three'), ('months', 'NOUN', 'month'), ('to', 'ADP', 'to'), ('August', 'PROPN', 'August'), ('was', 'AUX', 'be'), ('4.7', 'NUM', '4.7'), ('%', 'NOUN', '%'), (',', 'PUNCT', ','), ('down', 'ADV', 'down'), ('slightly', 'ADV', 'slightly'), ('from', 'ADP', 'from'), ('4.8', 'NUM', '4.8'), ('%', 'NOUN', '%'), ('between', 'ADP', 'between'), ('May', 'PROPN', 'May'), ('and', 'CCONJ', 'and'), ('July', 'PROPN', 'July'), ('.', 'PUNCT', '.'), ('\\r\\n', 'SPACE', '\\r\\n'), ('The', 'DET', 'the'), ('unemployment', 'NOUN', 'unemployment'), ('rate', 'NOUN', 'rate'), ('came', 'VERB', 'come'), ('in', 'ADP', 'in'), ('at', 'ADP', 'at'), ('4.8', 'NUM', '4.8'), ('%', 'NOUN', '%'), ('for', 'ADP', 'for'), ('the', 'DET', 'the'), ('period', 'NOUN', 'period'), (',', 'PUNCT', ','), ('slightly', 'ADV', 'slightly'), ('higher', 'ADJ', 'high'), ('than', 'ADP', 'than'), ('the', 'DET', 'the'), ('4.7', 'NUM', '4.7'), ('%', 'NOUN', '%'), ('recorded', 'VERB', 'record'), ('for', 'ADP', 'for'), ('the', 'DET', 'the'), ('previous', 'ADJ', 'previous'), ('three', 'NUM', 'three'), ('months', 'NOUN', 'month'), ('.', 'PUNCT', '.'), ('\\r\\n', 'SPACE', '\\r\\n'), ('The', 'DET', 'the'), ('number', 'NOUN', 'number'), ('of', 'ADP', 'of'), ('employees', 'NOUN', 'employee'), ('on', 'ADP', 'on'), ('the', 'DET', 'the'), ('payroll', 'NOUN', 'payroll'), ('in', 'ADP', 'in'), ('the', 'DET', 'the'), ('year', 'NOUN', 'year'), ('to', 'ADP', 'to'), ('August', 'PROPN', 'August'), ('was', 'AUX', 'be'), ('estimated', 'VERB', 'estimate'), ('to', 'PART', 'to'), ('have', 'AUX', 'have'), ('fallen', 'VERB', 'fall'), ('by', 'ADP', 'by'), ('93,000', 'NUM', '93,000'), (',', 'PUNCT', ','), ('though', 'SCONJ', 'though'), ('it', 'PRON', 'it'), ('increased', 'VERB', 'increase'), ('by', 'ADP', 'by'), ('10,000', 'NUM', '10,000'), ('between', 'ADP', 'between'), ('July', 'PROPN', 'July'), ('and', 'CCONJ', 'and'), ('August', 'PROPN', 'August'), ('.', 'PUNCT', '.'), ('\\r\\n', 'SPACE', '\\r\\n'), ('Early', 'ADJ', 'early'), ('estimates', 'NOUN', 'estimate'), ('for', 'ADP', 'for'), ('the', 'DET', 'the'), ('number', 'NOUN', 'number'), ('of', 'ADP', 'of'), ('payrolled', 'VERB', 'payrolle'), ('employees', 'NOUN', 'employee'), ('in', 'ADP', 'in'), ('September', 'PROPN', 'September'), ('suggested', 'VERB', 'suggest'), ('a', 'DET', 'a'), ('fall', 'NOUN', 'fall'), ('of', 'ADP', 'of'), ('100,000', 'NUM', '100,000'), ('on', 'ADP', 'on'), ('the', 'DET', 'the'), ('year', 'NOUN', 'year'), ('and', 'CCONJ', 'and'), ('10,000', 'NUM', '10,000'), ('on', 'ADP', 'on'), ('a', 'DET', 'a'), ('monthly', 'ADJ', 'monthly'), ('basis', 'NOUN', 'basis'), (',', 'PUNCT', ','), ('though', 'SCONJ', 'though'), ('the', 'DET', 'the'), ('ONS', 'PROPN', 'ONS'), ('said', 'VERB', 'say'), ('this', 'DET', 'this'), ('was', 'AUX', 'be'), ('likely', 'ADJ', 'likely'), ('to', 'PART', 'to'), ('be', 'AUX', 'be'), ('revised', 'VERB', 'revise'), ('when', 'SCONJ', 'when'), ('more', 'ADJ', 'more'), ('data', 'NOUN', 'datum'), ('is', 'AUX', 'be'), ('received', 'VERB', 'receive'), ('next', 'ADJ', 'next'), ('month', 'NOUN', 'month'), ('.', 'PUNCT', '.'), ('\\r\\n', 'SPACE', '\\r\\n'), ('The', 'DET', 'the'), ('estimated', 'ADJ', 'estimated'), ('number', 'NOUN', 'number'), ('of', 'ADP', 'of'), ('job', 'NOUN', 'job'), ('vacancies', 'NOUN', 'vacancy'), ('fell', 'VERB', 'fall'), ('by', 'ADP', 'by'), ('9,000', 'NUM', '9,000'), ('from', 'ADP', 'from'), ('the', 'DET', 'the'), ('previous', 'ADJ', 'previous'), ('three', 'NUM', 'three'), ('months', 'NOUN', 'month'), ('to', 'ADP', 'to'), ('717,000', 'NUM', '717,000'), ('in', 'ADP', 'in'), ('July', 'PROPN', 'July'), ('to', 'ADP', 'to'), ('September', 'PROPN', 'September'), ('.', 'PUNCT', '.'), ('\\r\\n', 'SPACE', '\\r\\n'), ('Read', 'VERB', 'read'), ('more', 'ADJ', 'more'), (':', 'PUNCT', ':'), ('12', 'NUM', '12'), ('taxes', 'NOUN', 'taxis'), ('you', 'PRON', 'you'), ('may', 'AUX', 'may'), ('not', 'PART', 'not'), ('hear', 'VERB', 'hear'), ('about', 'ADP', 'about'), ('in', 'ADP', 'in'), ('the', 'DET', 'the'), ('budget', 'NOUN', 'budget'), ('–', 'PUNCT', '–'), ('and', 'CCONJ', 'and'), ('what', 'PRON', 'what'), ('you', 'PRON', 'you'), ('can', 'AUX', 'can'), ('do', 'AUX', 'do'), ('about', 'ADP', 'about'), ('them', 'PRON', 'they'), ('\\r\\n', 'SPACE', '\\r\\n'), ('Liz', 'PROPN', 'Liz'), ('McKeown', 'PROPN', 'McKeown'), (',', 'PUNCT', ','), ('director', 'NOUN', 'director'), ('of', 'ADP', 'of'), ('economic', 'ADJ', 'economic'), ('statistics', 'NOUN', 'statistic'), ('at', 'ADP', 'at'), ('the', 'DET', 'the'), ('ONS', 'PROPN', 'ONS'), (',', 'PUNCT', ','), ('said', 'VERB', 'say'), (':', 'PUNCT', ':'), ('\"', 'PUNCT', '\"'), ('After', 'ADP', 'after'), ('a', 'DET', 'a'), ('long', 'ADJ', 'long'), ('period', 'NOUN', 'period'), ('of', 'ADP', 'of'), ('weak', 'ADJ', 'weak'), ('hiring', 'VERB', 'hire'), ('activity', 'NOUN', 'activity'), (',', 'PUNCT', ','), ('there', 'PRON', 'there'), ('are', 'AUX', 'be'), ('signs', 'NOUN', 'sign'), ('that', 'SCONJ', 'that'), ('the', 'DET', 'the'), ('falls', 'NOUN', 'fall'), ('we', 'PRON', 'we'), ('have', 'AUX', 'have'), ('seen', 'VERB', 'see'), ('in', 'ADP', 'in'), ('both', 'DET', 'both'), ('payroll', 'NOUN', 'payroll'), ('numbers', 'NOUN', 'number'), ('and', 'CCONJ', 'and'), ('vacancies', 'NOUN', 'vacancy'), ('are', 'AUX', 'be'), ('now', 'ADV', 'now'), ('levelling', 'VERB', 'level'), ('off', 'ADP', 'off'), ('.', 'PUNCT', '.'), ('\\r\\n', 'SPACE', '\\r\\n'), ('\"', 'PUNCT', '\"'), ('We', 'PRON', 'we'), ('see', 'VERB', 'see'), ('different', 'ADJ', 'different'), ('patterns', 'NOUN', 'pattern'), ('across', 'ADP', 'across'), ('the', 'DET', 'the'), ('age', 'NOUN', 'age'), ('ranges', 'VERB', 'range'), ('with', 'ADP', 'with'), ('record', 'NOUN', 'record'), ('numbers', 'NOUN', 'number'), ('of', 'ADP', 'of'), ('over-65s', 'NOUN', 'over-65s'), ('in', 'ADP', 'in'), ('work', 'NOUN', 'work'), (',', 'PUNCT', ','), ('while', 'SCONJ', 'while'), ('the', 'DET', 'the'), ('increase', 'NOUN', 'increase'), ('in', 'ADP', 'in'), ('unemployment', 'NOUN', 'unemployment'), ('was', 'AUX', 'be'), ('driven', 'VERB', 'drive'), ('mostly', 'ADV', 'mostly'), ('by', 'ADP', 'by'), ('younger', 'ADJ', 'young'), ('people', 'NOUN', 'people'), ('.', 'PUNCT', '.'), ('\"', 'PUNCT', '\"'), ('\\r\\n', 'SPACE', '\\r\\n'), ('The', 'DET', 'the'), ('figures', 'NOUN', 'figure'), ('come', 'VERB', 'come'), ('ahead', 'ADV', 'ahead'), ('of', 'ADP', 'of'), ('the', 'DET', 'the'), ('government', 'NOUN', 'government'), (\"'s\", 'PART', \"'s\"), ('autumn', 'NOUN', 'autumn'), ('budget', 'NOUN', 'budget'), (',', 'PUNCT', ','), ('which', 'DET', 'which'), ('chancellor', 'NOUN', 'chancellor'), ('Rachel', 'PROPN', 'Rachel'), ('Reeves', 'PROPN', 'Reeves'), ('is', 'AUX', 'be'), ('due', 'ADJ', 'due'), ('to', 'PART', 'to'), ('deliver', 'VERB', 'deliver'), ('on', 'ADP', 'on'), ('26', 'NUM', '26'), ('November', 'PROPN', 'November'), (',', 'PUNCT', ','), ('with', 'ADP', 'with'), ('speculation', 'NOUN', 'speculation'), ('ramping', 'VERB', 'ramp'), ('up', 'ADP', 'up'), ('as', 'ADP', 'as'), ('to', 'ADP', 'to'), ('what', 'PRON', 'what'), ('policy', 'NOUN', 'policy'), ('changes', 'NOUN', 'change'), ('she', 'PRON', 'she'), ('could', 'AUX', 'could'), ('announce', 'VERB', 'announce'), ('to', 'PART', 'to'), ('raise', 'VERB', 'raise'), ('funds', 'NOUN', 'fund'), ('to', 'PART', 'to'), ('support', 'VERB', 'support'), ('public', 'ADJ', 'public'), ('finances', 'NOUN', 'finance'), ('.', 'PUNCT', '.'), ('\\r\\n', 'SPACE', '\\r\\n'), ('Professor', 'PROPN', 'Professor'), ('Joe', 'PROPN', 'Joe'), ('Nellis', 'PROPN', 'Nellis'), (',', 'PUNCT', ','), ('an', 'DET', 'an'), ('economic', 'ADJ', 'economic'), ('adviser', 'NOUN', 'adviser'), ('at', 'ADP', 'at'), ('accountancy', 'NOUN', 'accountancy'), ('and', 'CCONJ', 'and'), ('advisory', 'ADJ', 'advisory'), ('firm', 'NOUN', 'firm'), ('MHA', 'PROPN', 'MHA'), (',', 'PUNCT', ','), ('said', 'VERB', 'say'), ('that', 'SCONJ', 'that'), ('the', 'DET', 'the'), ('labour', 'ADJ', 'labour'), ('market', 'NOUN', 'market'), ('\"', 'PUNCT', '\"'), ('continues', 'VERB', 'continue'), ('to', 'PART', 'to'), ('show', 'VERB', 'show'), ('signs', 'NOUN', 'sign'), ('of', 'ADP', 'of'), ('strain', 'NOUN', 'strain'), ('\"', 'PUNCT', '\"'), ('.', 'PUNCT', '.'), ('\\r\\n', 'SPACE', '\\r\\n'), ('\"', 'PUNCT', '\"'), ('Hiring', 'VERB', 'hire'), ('momentum', 'NOUN', 'momentum'), ('has', 'AUX', 'have'), ('slowed', 'VERB', 'slow'), ('across', 'ADP', 'across'), ('most', 'ADJ', 'most'), ('sectors', 'NOUN', 'sector'), (',', 'PUNCT', ','), ('with', 'ADP', 'with'), ('many', 'ADJ', 'many'), ('employers', 'NOUN', 'employer'), ('holding', 'VERB', 'hold'), ('off', 'ADP', 'off'), ('on', 'ADP', 'on'), ('new', 'ADJ', 'new'), ('recruitment', 'NOUN', 'recruitment'), ('or', 'CCONJ', 'or'), ('scaling', 'VERB', 'scale'), ('back', 'ADP', 'back'), ('hours', 'NOUN', 'hour'), ('instead', 'ADV', 'instead'), ('of', 'ADP', 'of'), ('making', 'VERB', 'make'), ('redundancies', 'NOUN', 'redundancy'), (',', 'PUNCT', ','), ('\"', 'PUNCT', '\"'), ('he', 'PRON', 'he'), ('said', 'VERB', 'say'), ('.', 'PUNCT', '.'), ('\"', 'PUNCT', '\"'), ('While', 'SCONJ', 'while'), ('this', 'DET', 'this'), ('suggests', 'VERB', 'suggest'), ('a', 'DET', 'a'), ('degree', 'NOUN', 'degree'), ('of', 'ADP', 'of'), ('resilience', 'NOUN', 'resilience'), (',', 'PUNCT', ','), ('it', 'PRON', 'it'), ('also', 'ADV', 'also'), ('signals', 'VERB', 'signal'), ('that', 'SCONJ', 'that'), ('businesses', 'NOUN', 'business'), ('are', 'AUX', 'be'), ('operating', 'VERB', 'operate'), ('with', 'ADP', 'with'), ('caution', 'NOUN', 'caution'), ('amid', 'ADP', 'amid'), ('fragile', 'ADJ', 'fragile'), ('demand', 'NOUN', 'demand'), (',', 'PUNCT', ','), ('elevated', 'ADJ', 'elevated'), ('borrowing', 'NOUN', 'borrowing'), ('costs', 'NOUN', 'cost'), (',', 'PUNCT', ','), ('and', 'CCONJ', 'and'), ('uncertainty', 'NOUN', 'uncertainty'), ('ahead', 'ADV', 'ahead'), ('of', 'ADP', 'of'), ('the', 'DET', 'the'), ('autumn', 'NOUN', 'autumn'), ('budget', 'NOUN', 'budget'), ('.', 'PUNCT', '.'), ('\"', 'PUNCT', '\"')]\n"
     ]
    }
   ],
   "source": [
    "\n",
    "if mask_valid.any():\n",
    "    first_original_text = df.loc[mask_valid, \"article_text\"].iloc[0]\n",
    "    first_preprocessed_text = df.loc[mask_valid, OUT_COL].iloc[0]\n",
    "\n",
    "    print(\"\\n============================\") \n",
    "    print(\"Texto original\") \n",
    "    print(\"============================\\n\")\n",
    "    print(first_original_text, \"...\\n\")\n",
    "    print(\"\\n============================\") \n",
    "    print(\"Ver Prueba de procesado\") \n",
    "    print(\"============================\\n\")\n",
    "    print(first_preprocessed_text, \"...\\n\")\n",
    "\n",
    "    doc_test = nlp(first_original_text)\n",
    "    verification_data = [(w.text, w.pos_, w.lemma_) for w in doc_test]\n",
    "\n",
    "    print(f\"{len(verification_data)}\")\n",
    "\n",
    "    print(verification_data)"
   ]
  },
  {
   "cell_type": "markdown",
   "id": "08200377",
   "metadata": {},
   "source": [
    "### Guardar el dataset procesado para no runear todo el rato"
   ]
  },
  {
   "cell_type": "code",
   "execution_count": 27,
   "id": "b9d93561",
   "metadata": {},
   "outputs": [],
   "source": [
    "save_path = r\"..\\..\\finnhubAPI\\data\\procesadosINDEX_ALL_preprocessed.csv\"\n",
    "df.to_csv(save_path, index=False, encoding=\"utf-8\")"
   ]
  },
  {
   "cell_type": "markdown",
   "id": "30145996",
   "metadata": {},
   "source": [
    "## MONTAR EMBEDDING"
   ]
  },
  {
   "cell_type": "code",
   "execution_count": 30,
   "id": "535a2237",
   "metadata": {},
   "outputs": [
    {
     "name": "stdout",
     "output_type": "stream",
     "text": [
      "Shape TF-IDF: (5160, 104149)\n",
      "Tamaño del vocabulario: 104149\n",
      "✅ Guardado en: C:\\Users\\mpsua\\OneDrive\\Escritorio\\ud\\CUARTO\\Primer_Cuatri\\PLN\\Proyecto\\FinTracker\\data_processing\\procesamiento\\preprocesamiento\\embeddings_tfidf\n"
     ]
    }
   ],
   "source": [
    "# === TF-IDF: construcción y exportación de artefactos ===\n",
    "import json, numpy as np, pandas as pd\n",
    "from pathlib import Path\n",
    "from scipy import sparse\n",
    "from sklearn.feature_extraction.text import TfidfVectorizer\n",
    "from joblib import dump\n",
    "\n",
    "TEXT_COL = \"preprocessed_text\"    # tu columna ya procesada\n",
    "SAVE_DIR = Path(\"embeddings_tfidf\")\n",
    "SAVE_DIR.mkdir(parents=True, exist_ok=True)\n",
    "\n",
    "TFIDF_CFG = {\n",
    "    \"ngram_range\": (1, 2),        # unigrams + bigrams\n",
    "    \"min_df\": 3,\n",
    "    \"max_df\": 0.90,\n",
    "    \"max_features\": 120_000,      # sube/baja según RAM\n",
    "    \"norm\": \"l2\",\n",
    "    \"use_idf\": True,\n",
    "    \"smooth_idf\": True,\n",
    "    \"sublinear_tf\": False,\n",
    "    \"dtype\": np.float32,\n",
    "}\n",
    "\n",
    "df_embed = df[[TEXT_COL]].dropna()\n",
    "df_embed = df_embed[df_embed[TEXT_COL].astype(str).str.strip().astype(bool)]\n",
    "texts = df_embed[TEXT_COL].astype(str).tolist()\n",
    "\n",
    "vec = TfidfVectorizer(**TFIDF_CFG)\n",
    "X = vec.fit_transform(texts)                # <--- ESTE es tu embedding (sparse)\n",
    "\n",
    "print(\"Shape TF-IDF:\", X.shape)             # (n_docs, n_features)\n",
    "print(\"Tamaño del vocabulario:\", len(vec.vocabulary_))\n",
    "\n",
    "# Guarda matriz y artefactos\n",
    "sparse.save_npz(SAVE_DIR / \"tfidf_X.npz\", X)\n",
    "dump(vec, SAVE_DIR / \"tfidf_vectorizer.joblib\")\n",
    "\n",
    "# Vocabulario e IDF (útil para inspección/reproducibilidad)\n",
    "terms = vec.get_feature_names_out()\n",
    "idf = vec.idf_\n",
    "idf_df = pd.DataFrame({\"term\": terms, \"idf\": idf}).sort_values(\"idf\", ascending=False)\n",
    "idf_df.to_csv(SAVE_DIR / \"tfidf_idf.csv\", index=False)\n",
    "\n",
    "# ⚙️ Crear versión JSON serializable del config\n",
    "TFIDF_CFG_JSON = dict(TFIDF_CFG)\n",
    "TFIDF_CFG_JSON[\"dtype\"] = np.dtype(TFIDF_CFG[\"dtype\"]).name  # convierte float32 en \"float32\"\n",
    "TFIDF_CFG_JSON[\"ngram_range\"] = list(TFIDF_CFG[\"ngram_range\"])  # convierte tuple → list\n",
    "\n",
    "with open(SAVE_DIR / \"tfidf_config.json\", \"w\", encoding=\"utf-8\") as f:\n",
    "    json.dump(TFIDF_CFG_JSON, f, indent=2)\n",
    "\n",
    "print(\"✅ Guardado en:\", SAVE_DIR.resolve())\n",
    "\n"
   ]
  },
  {
   "cell_type": "markdown",
   "id": "a9fe88ca",
   "metadata": {},
   "source": [
    "## EVALUACIÓN TRADICIONAL"
   ]
  },
  {
   "cell_type": "code",
   "execution_count": 32,
   "id": "3c74454d",
   "metadata": {},
   "outputs": [
    {
     "name": "stdout",
     "output_type": "stream",
     "text": [
      "📘 Shape TF-IDF: (5160, 104149) (docs x vocab)\n",
      "📊 Sparsity: 0.002787  (0.2787% de celdas no nulas)\n",
      "🔠 Tamaño del vocabulario: 104,149\n",
      "\n",
      "🔥 10 términos más comunes (bajo IDF):\n",
      "year, company, num, ai, __percent__, market, stock, new, share, high\n",
      "\n",
      "🧊 10 términos más raros (alto IDF):\n",
      "zuckerberg year, zuckerberg widely, zuckerberg wednesday, zuckerberg time, zuckerberg talk, gpu operate, zuckerberg recognition, zuckerberg recently, zuckerberg quickly, zuckerberg pull\n",
      "\n",
      "📰 Top 10 términos del documento 0:\n",
      "autumn budget        0.19996\n",
      "ons                  0.19609\n",
      "autumn               0.18688\n",
      "unemployment         0.17604\n",
      "fall num             0.17263\n",
      "estimate number      0.15747\n",
      "number               0.15146\n",
      "num july             0.14965\n",
      "vacancy              0.14668\n",
      "continue sign        0.14668\n",
      "\n",
      "🤝 Similitud coseno entre documento 0 y 1: 0.0351\n",
      "\n",
      "✅ Informe de embedding guardado en: embeddings_tfidf\\embedding_summary.txt\n"
     ]
    }
   ],
   "source": [
    "# === Evaluación exploratoria del embedding TF-IDF ===\n",
    "import numpy as np\n",
    "from sklearn.metrics.pairwise import cosine_similarity\n",
    "\n",
    "n_docs, n_features = X.shape\n",
    "sparsity = X.nnz / (n_docs * n_features)  # proporción de elementos distintos de 0\n",
    "print(f\"📘 Shape TF-IDF: {X.shape} (docs x vocab)\")\n",
    "print(f\"📊 Sparsity: {sparsity:.6f}  ({sparsity*100:.4f}% de celdas no nulas)\")\n",
    "print(f\"🔠 Tamaño del vocabulario: {len(vec.vocabulary_):,}\")\n",
    "\n",
    "# --- 2️⃣ Términos más comunes / más raros ---\n",
    "terms = np.array(vec.get_feature_names_out())\n",
    "idf = vec.idf_\n",
    "\n",
    "common_terms = terms[np.argsort(idf)[:10]]\n",
    "rare_terms   = terms[np.argsort(-idf)[:10]]\n",
    "\n",
    "print(\"\\n🔥 10 términos más comunes (bajo IDF):\")\n",
    "print(\", \".join(common_terms))\n",
    "print(\"\\n🧊 10 términos más raros (alto IDF):\")\n",
    "print(\", \".join(rare_terms))\n",
    "\n",
    "# --- 3️⃣ Top términos de un documento específico ---\n",
    "def top_terms_for_doc(i, vec, X, n=10):\n",
    "    row = X[i].toarray().ravel()\n",
    "    top_idx = row.argsort()[::-1][:n]\n",
    "    return list(zip(terms[top_idx], row[top_idx]))\n",
    "\n",
    "idx_example = 0  # cambia el índice para otros documentos\n",
    "top_terms = top_terms_for_doc(idx_example, vec, X, n=10)\n",
    "print(f\"\\n📰 Top 10 términos del documento {idx_example}:\")\n",
    "for term, weight in top_terms:\n",
    "    print(f\"{term:<20} {weight:.5f}\")\n",
    "\n",
    "# --- 4️⃣ Similitud entre documentos ---\n",
    "if X.shape[0] > 1:\n",
    "    sim = cosine_similarity(X[0], X[1])[0,0]\n",
    "    print(f\"\\n🤝 Similitud coseno entre documento 0 y 1: {sim:.4f}\")\n",
    "\n",
    "# --- 5️⃣ (Opcional) Guardar resumen rápido ---\n",
    "with open(SAVE_DIR / \"embedding_summary.txt\", \"w\", encoding=\"utf-8\") as f:\n",
    "    f.write(f\"Shape: {X.shape}\\n\")\n",
    "    f.write(f\"Sparsity: {sparsity:.6f}\\n\")\n",
    "    f.write(\"Top comunes: \" + \", \".join(common_terms) + \"\\n\")\n",
    "    f.write(\"Top raros: \" + \", \".join(rare_terms) + \"\\n\")\n",
    "    f.write(f\"Ejemplo doc {idx_example}: \" +\n",
    "            \", \".join([t for t,_ in top_terms]) + \"\\n\")\n",
    "print(\"\\n✅ Informe de embedding guardado en:\", SAVE_DIR / \"embedding_summary.txt\")\n"
   ]
  },
  {
   "cell_type": "markdown",
   "id": "53459d48",
   "metadata": {},
   "source": [
    "# FINAL\n"
   ]
  }
 ],
 "metadata": {
  "kernelspec": {
   "display_name": "dl",
   "language": "python",
   "name": "python3"
  },
  "language_info": {
   "codemirror_mode": {
    "name": "ipython",
    "version": 3
   },
   "file_extension": ".py",
   "mimetype": "text/x-python",
   "name": "python",
   "nbconvert_exporter": "python",
   "pygments_lexer": "ipython3",
   "version": "3.10.12"
  }
 },
 "nbformat": 4,
 "nbformat_minor": 5
}
