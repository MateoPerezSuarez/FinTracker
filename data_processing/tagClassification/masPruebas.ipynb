{
 "cells": [
  {
   "cell_type": "code",
   "execution_count": 1,
   "id": "8ac8e9e5",
   "metadata": {},
   "outputs": [
    {
     "data": {
      "text/html": [
       "<div>\n",
       "<style scoped>\n",
       "    .dataframe tbody tr th:only-of-type {\n",
       "        vertical-align: middle;\n",
       "    }\n",
       "\n",
       "    .dataframe tbody tr th {\n",
       "        vertical-align: top;\n",
       "    }\n",
       "\n",
       "    .dataframe thead th {\n",
       "        text-align: right;\n",
       "    }\n",
       "</style>\n",
       "<table border=\"1\" class=\"dataframe\">\n",
       "  <thead>\n",
       "    <tr style=\"text-align: right;\">\n",
       "      <th></th>\n",
       "      <th>source</th>\n",
       "      <th>author</th>\n",
       "      <th>headline</th>\n",
       "      <th>summary</th>\n",
       "      <th>url_original</th>\n",
       "      <th>url_image</th>\n",
       "      <th>publishedAt</th>\n",
       "      <th>content_truncated</th>\n",
       "      <th>language</th>\n",
       "      <th>full_text</th>\n",
       "      <th>extractor_used</th>\n",
       "      <th>status</th>\n",
       "      <th>error</th>\n",
       "      <th>final_url</th>\n",
       "      <th>text_length</th>\n",
       "    </tr>\n",
       "  </thead>\n",
       "  <tbody>\n",
       "    <tr>\n",
       "      <th>0</th>\n",
       "      <td>Forbes</td>\n",
       "      <td>Mark Faithfull, Contributor, \\n Mark Faithfull...</td>\n",
       "      <td>Dick’s Bets On Foot Locker To Kick Start Globa...</td>\n",
       "      <td>As a huge deal closes to see Dick's take over ...</td>\n",
       "      <td>https://www.forbes.com/sites/markfaithfull/202...</td>\n",
       "      <td>https://imageio.forbes.com/specials-images/ima...</td>\n",
       "      <td>2025-09-09T23:10:13Z</td>\n",
       "      <td>Foot Locker's newly reimagined concept store a...</td>\n",
       "      <td>en</td>\n",
       "      <td>When Dick’s Sporting Goods announced in May th...</td>\n",
       "      <td>trafilatura</td>\n",
       "      <td>200</td>\n",
       "      <td>NaN</td>\n",
       "      <td>https://www.forbes.com/sites/markfaithfull/202...</td>\n",
       "      <td>4737</td>\n",
       "    </tr>\n",
       "    <tr>\n",
       "      <th>1</th>\n",
       "      <td>Forbes</td>\n",
       "      <td>Andy Meek, Senior Contributor, \\n Andy Meek, S...</td>\n",
       "      <td>Lachlan Murdoch’s Control Of Fox And News Corp...</td>\n",
       "      <td>Lachlan Murdoch now holds full control of Fox ...</td>\n",
       "      <td>https://www.forbes.com/sites/andymeek/2025/09/...</td>\n",
       "      <td>https://imageio.forbes.com/specials-images/ima...</td>\n",
       "      <td>2025-09-09T22:41:21Z</td>\n",
       "      <td>Lachlan Murdoch, Fox Corp. CEO and chairman of...</td>\n",
       "      <td>en</td>\n",
       "      <td>The Murdoch family drama has played out for ye...</td>\n",
       "      <td>trafilatura</td>\n",
       "      <td>200</td>\n",
       "      <td>NaN</td>\n",
       "      <td>https://www.forbes.com/sites/andymeek/2025/09/...</td>\n",
       "      <td>3722</td>\n",
       "    </tr>\n",
       "  </tbody>\n",
       "</table>\n",
       "</div>"
      ],
      "text/plain": [
       "   source                                             author  \\\n",
       "0  Forbes  Mark Faithfull, Contributor, \\n Mark Faithfull...   \n",
       "1  Forbes  Andy Meek, Senior Contributor, \\n Andy Meek, S...   \n",
       "\n",
       "                                            headline  \\\n",
       "0  Dick’s Bets On Foot Locker To Kick Start Globa...   \n",
       "1  Lachlan Murdoch’s Control Of Fox And News Corp...   \n",
       "\n",
       "                                             summary  \\\n",
       "0  As a huge deal closes to see Dick's take over ...   \n",
       "1  Lachlan Murdoch now holds full control of Fox ...   \n",
       "\n",
       "                                        url_original  \\\n",
       "0  https://www.forbes.com/sites/markfaithfull/202...   \n",
       "1  https://www.forbes.com/sites/andymeek/2025/09/...   \n",
       "\n",
       "                                           url_image           publishedAt  \\\n",
       "0  https://imageio.forbes.com/specials-images/ima...  2025-09-09T23:10:13Z   \n",
       "1  https://imageio.forbes.com/specials-images/ima...  2025-09-09T22:41:21Z   \n",
       "\n",
       "                                   content_truncated language  \\\n",
       "0  Foot Locker's newly reimagined concept store a...       en   \n",
       "1  Lachlan Murdoch, Fox Corp. CEO and chairman of...       en   \n",
       "\n",
       "                                           full_text extractor_used  status  \\\n",
       "0  When Dick’s Sporting Goods announced in May th...    trafilatura     200   \n",
       "1  The Murdoch family drama has played out for ye...    trafilatura     200   \n",
       "\n",
       "  error                                          final_url  text_length  \n",
       "0   NaN  https://www.forbes.com/sites/markfaithfull/202...         4737  \n",
       "1   NaN  https://www.forbes.com/sites/andymeek/2025/09/...         3722  "
      ]
     },
     "execution_count": 1,
     "metadata": {},
     "output_type": "execute_result"
    }
   ],
   "source": [
    "import pandas as pd\n",
    "\n",
    "df = pd.read_csv(\"../newsAPI/data/news_finance_full.csv\")\n",
    "df.head(2)"
   ]
  },
  {
   "cell_type": "code",
   "execution_count": 6,
   "id": "a01f9bb5",
   "metadata": {},
   "outputs": [],
   "source": [
    "df_prueba = df[\"full_text\"].head(5)"
   ]
  },
  {
   "cell_type": "code",
   "execution_count": null,
   "id": "d82efa75",
   "metadata": {},
   "outputs": [],
   "source": [
    "from nltk.stem import SnowballStemmer\n",
    "import re\n",
    "\n",
    "stemmer = SnowballStemmer(\"english\")\n",
    "\n",
    "def tokenize_and_stem(text):\n",
    "    if pd.isna(text):\n",
    "        return []\n",
    "    text = re.sub(r'[^a-zA-Z\\s]', '', str(text))\n",
    "    tokens = text.lower().split() # Case Folding + Tokenization\n",
    "    stems = [stemmer.stem(t) for t in tokens]\n",
    "    return stems\n",
    "\n"
   ]
  },
  {
   "cell_type": "code",
   "execution_count": 13,
   "id": "28bd7333",
   "metadata": {},
   "outputs": [
    {
     "name": "stderr",
     "output_type": "stream",
     "text": [
      "c:\\Users\\Iñigo Peña\\Desktop\\Clase\\2025-26\\ProcesamientoDelLenguajeNatural\\FinTracker\\ftenv\\Lib\\site-packages\\tqdm\\auto.py:21: TqdmWarning: IProgress not found. Please update jupyter and ipywidgets. See https://ipywidgets.readthedocs.io/en/stable/user_install.html\n",
      "  from .autonotebook import tqdm as notebook_tqdm\n",
      "c:\\Users\\Iñigo Peña\\Desktop\\Clase\\2025-26\\ProcesamientoDelLenguajeNatural\\FinTracker\\ftenv\\Lib\\site-packages\\sklearn\\feature_extraction\\text.py:517: UserWarning: The parameter 'token_pattern' will not be used since 'tokenizer' is not None'\n",
      "  warnings.warn(\n",
      "c:\\Users\\Iñigo Peña\\Desktop\\Clase\\2025-26\\ProcesamientoDelLenguajeNatural\\FinTracker\\ftenv\\Lib\\site-packages\\sklearn\\feature_extraction\\text.py:402: UserWarning: Your stop_words may be inconsistent with your preprocessing. Tokenizing the stop words generated tokens ['abov', 'afterward', 'alon', 'alreadi', 'alway', 'ani', 'anoth', 'anyon', 'anyth', 'anywher', 'becam', 'becaus', 'becom', 'befor', 'besid', 'cri', 'describ', 'dure', 'els', 'elsewher', 'empti', 'everi', 'everyon', 'everyth', 'everywher', 'fifti', 'forti', 'henc', 'hereaft', 'herebi', 'howev', 'hundr', 'inde', 'mani', 'meanwhil', 'moreov', 'nobodi', 'noon', 'noth', 'nowher', 'onc', 'onli', 'otherwis', 'ourselv', 'perhap', 'pleas', 'sever', 'sinc', 'sincer', 'sixti', 'someon', 'someth', 'sometim', 'somewher', 'themselv', 'thenc', 'thereaft', 'therebi', 'therefor', 'togeth', 'twelv', 'twenti', 'veri', 'whatev', 'whenc', 'whenev', 'wherea', 'whereaft', 'wherebi', 'wherev', 'whi', 'yourselv'] not in stop_words.\n",
      "  warnings.warn(\n"
     ]
    },
    {
     "data": {
      "text/html": [
       "<style>#sk-container-id-1 {\n",
       "  /* Definition of color scheme common for light and dark mode */\n",
       "  --sklearn-color-text: #000;\n",
       "  --sklearn-color-text-muted: #666;\n",
       "  --sklearn-color-line: gray;\n",
       "  /* Definition of color scheme for unfitted estimators */\n",
       "  --sklearn-color-unfitted-level-0: #fff5e6;\n",
       "  --sklearn-color-unfitted-level-1: #f6e4d2;\n",
       "  --sklearn-color-unfitted-level-2: #ffe0b3;\n",
       "  --sklearn-color-unfitted-level-3: chocolate;\n",
       "  /* Definition of color scheme for fitted estimators */\n",
       "  --sklearn-color-fitted-level-0: #f0f8ff;\n",
       "  --sklearn-color-fitted-level-1: #d4ebff;\n",
       "  --sklearn-color-fitted-level-2: #b3dbfd;\n",
       "  --sklearn-color-fitted-level-3: cornflowerblue;\n",
       "\n",
       "  /* Specific color for light theme */\n",
       "  --sklearn-color-text-on-default-background: var(--sg-text-color, var(--theme-code-foreground, var(--jp-content-font-color1, black)));\n",
       "  --sklearn-color-background: var(--sg-background-color, var(--theme-background, var(--jp-layout-color0, white)));\n",
       "  --sklearn-color-border-box: var(--sg-text-color, var(--theme-code-foreground, var(--jp-content-font-color1, black)));\n",
       "  --sklearn-color-icon: #696969;\n",
       "\n",
       "  @media (prefers-color-scheme: dark) {\n",
       "    /* Redefinition of color scheme for dark theme */\n",
       "    --sklearn-color-text-on-default-background: var(--sg-text-color, var(--theme-code-foreground, var(--jp-content-font-color1, white)));\n",
       "    --sklearn-color-background: var(--sg-background-color, var(--theme-background, var(--jp-layout-color0, #111)));\n",
       "    --sklearn-color-border-box: var(--sg-text-color, var(--theme-code-foreground, var(--jp-content-font-color1, white)));\n",
       "    --sklearn-color-icon: #878787;\n",
       "  }\n",
       "}\n",
       "\n",
       "#sk-container-id-1 {\n",
       "  color: var(--sklearn-color-text);\n",
       "}\n",
       "\n",
       "#sk-container-id-1 pre {\n",
       "  padding: 0;\n",
       "}\n",
       "\n",
       "#sk-container-id-1 input.sk-hidden--visually {\n",
       "  border: 0;\n",
       "  clip: rect(1px 1px 1px 1px);\n",
       "  clip: rect(1px, 1px, 1px, 1px);\n",
       "  height: 1px;\n",
       "  margin: -1px;\n",
       "  overflow: hidden;\n",
       "  padding: 0;\n",
       "  position: absolute;\n",
       "  width: 1px;\n",
       "}\n",
       "\n",
       "#sk-container-id-1 div.sk-dashed-wrapped {\n",
       "  border: 1px dashed var(--sklearn-color-line);\n",
       "  margin: 0 0.4em 0.5em 0.4em;\n",
       "  box-sizing: border-box;\n",
       "  padding-bottom: 0.4em;\n",
       "  background-color: var(--sklearn-color-background);\n",
       "}\n",
       "\n",
       "#sk-container-id-1 div.sk-container {\n",
       "  /* jupyter's `normalize.less` sets `[hidden] { display: none; }`\n",
       "     but bootstrap.min.css set `[hidden] { display: none !important; }`\n",
       "     so we also need the `!important` here to be able to override the\n",
       "     default hidden behavior on the sphinx rendered scikit-learn.org.\n",
       "     See: https://github.com/scikit-learn/scikit-learn/issues/21755 */\n",
       "  display: inline-block !important;\n",
       "  position: relative;\n",
       "}\n",
       "\n",
       "#sk-container-id-1 div.sk-text-repr-fallback {\n",
       "  display: none;\n",
       "}\n",
       "\n",
       "div.sk-parallel-item,\n",
       "div.sk-serial,\n",
       "div.sk-item {\n",
       "  /* draw centered vertical line to link estimators */\n",
       "  background-image: linear-gradient(var(--sklearn-color-text-on-default-background), var(--sklearn-color-text-on-default-background));\n",
       "  background-size: 2px 100%;\n",
       "  background-repeat: no-repeat;\n",
       "  background-position: center center;\n",
       "}\n",
       "\n",
       "/* Parallel-specific style estimator block */\n",
       "\n",
       "#sk-container-id-1 div.sk-parallel-item::after {\n",
       "  content: \"\";\n",
       "  width: 100%;\n",
       "  border-bottom: 2px solid var(--sklearn-color-text-on-default-background);\n",
       "  flex-grow: 1;\n",
       "}\n",
       "\n",
       "#sk-container-id-1 div.sk-parallel {\n",
       "  display: flex;\n",
       "  align-items: stretch;\n",
       "  justify-content: center;\n",
       "  background-color: var(--sklearn-color-background);\n",
       "  position: relative;\n",
       "}\n",
       "\n",
       "#sk-container-id-1 div.sk-parallel-item {\n",
       "  display: flex;\n",
       "  flex-direction: column;\n",
       "}\n",
       "\n",
       "#sk-container-id-1 div.sk-parallel-item:first-child::after {\n",
       "  align-self: flex-end;\n",
       "  width: 50%;\n",
       "}\n",
       "\n",
       "#sk-container-id-1 div.sk-parallel-item:last-child::after {\n",
       "  align-self: flex-start;\n",
       "  width: 50%;\n",
       "}\n",
       "\n",
       "#sk-container-id-1 div.sk-parallel-item:only-child::after {\n",
       "  width: 0;\n",
       "}\n",
       "\n",
       "/* Serial-specific style estimator block */\n",
       "\n",
       "#sk-container-id-1 div.sk-serial {\n",
       "  display: flex;\n",
       "  flex-direction: column;\n",
       "  align-items: center;\n",
       "  background-color: var(--sklearn-color-background);\n",
       "  padding-right: 1em;\n",
       "  padding-left: 1em;\n",
       "}\n",
       "\n",
       "\n",
       "/* Toggleable style: style used for estimator/Pipeline/ColumnTransformer box that is\n",
       "clickable and can be expanded/collapsed.\n",
       "- Pipeline and ColumnTransformer use this feature and define the default style\n",
       "- Estimators will overwrite some part of the style using the `sk-estimator` class\n",
       "*/\n",
       "\n",
       "/* Pipeline and ColumnTransformer style (default) */\n",
       "\n",
       "#sk-container-id-1 div.sk-toggleable {\n",
       "  /* Default theme specific background. It is overwritten whether we have a\n",
       "  specific estimator or a Pipeline/ColumnTransformer */\n",
       "  background-color: var(--sklearn-color-background);\n",
       "}\n",
       "\n",
       "/* Toggleable label */\n",
       "#sk-container-id-1 label.sk-toggleable__label {\n",
       "  cursor: pointer;\n",
       "  display: flex;\n",
       "  width: 100%;\n",
       "  margin-bottom: 0;\n",
       "  padding: 0.5em;\n",
       "  box-sizing: border-box;\n",
       "  text-align: center;\n",
       "  align-items: start;\n",
       "  justify-content: space-between;\n",
       "  gap: 0.5em;\n",
       "}\n",
       "\n",
       "#sk-container-id-1 label.sk-toggleable__label .caption {\n",
       "  font-size: 0.6rem;\n",
       "  font-weight: lighter;\n",
       "  color: var(--sklearn-color-text-muted);\n",
       "}\n",
       "\n",
       "#sk-container-id-1 label.sk-toggleable__label-arrow:before {\n",
       "  /* Arrow on the left of the label */\n",
       "  content: \"▸\";\n",
       "  float: left;\n",
       "  margin-right: 0.25em;\n",
       "  color: var(--sklearn-color-icon);\n",
       "}\n",
       "\n",
       "#sk-container-id-1 label.sk-toggleable__label-arrow:hover:before {\n",
       "  color: var(--sklearn-color-text);\n",
       "}\n",
       "\n",
       "/* Toggleable content - dropdown */\n",
       "\n",
       "#sk-container-id-1 div.sk-toggleable__content {\n",
       "  display: none;\n",
       "  text-align: left;\n",
       "  /* unfitted */\n",
       "  background-color: var(--sklearn-color-unfitted-level-0);\n",
       "}\n",
       "\n",
       "#sk-container-id-1 div.sk-toggleable__content.fitted {\n",
       "  /* fitted */\n",
       "  background-color: var(--sklearn-color-fitted-level-0);\n",
       "}\n",
       "\n",
       "#sk-container-id-1 div.sk-toggleable__content pre {\n",
       "  margin: 0.2em;\n",
       "  border-radius: 0.25em;\n",
       "  color: var(--sklearn-color-text);\n",
       "  /* unfitted */\n",
       "  background-color: var(--sklearn-color-unfitted-level-0);\n",
       "}\n",
       "\n",
       "#sk-container-id-1 div.sk-toggleable__content.fitted pre {\n",
       "  /* unfitted */\n",
       "  background-color: var(--sklearn-color-fitted-level-0);\n",
       "}\n",
       "\n",
       "#sk-container-id-1 input.sk-toggleable__control:checked~div.sk-toggleable__content {\n",
       "  /* Expand drop-down */\n",
       "  display: block;\n",
       "  width: 100%;\n",
       "  overflow: visible;\n",
       "}\n",
       "\n",
       "#sk-container-id-1 input.sk-toggleable__control:checked~label.sk-toggleable__label-arrow:before {\n",
       "  content: \"▾\";\n",
       "}\n",
       "\n",
       "/* Pipeline/ColumnTransformer-specific style */\n",
       "\n",
       "#sk-container-id-1 div.sk-label input.sk-toggleable__control:checked~label.sk-toggleable__label {\n",
       "  color: var(--sklearn-color-text);\n",
       "  background-color: var(--sklearn-color-unfitted-level-2);\n",
       "}\n",
       "\n",
       "#sk-container-id-1 div.sk-label.fitted input.sk-toggleable__control:checked~label.sk-toggleable__label {\n",
       "  background-color: var(--sklearn-color-fitted-level-2);\n",
       "}\n",
       "\n",
       "/* Estimator-specific style */\n",
       "\n",
       "/* Colorize estimator box */\n",
       "#sk-container-id-1 div.sk-estimator input.sk-toggleable__control:checked~label.sk-toggleable__label {\n",
       "  /* unfitted */\n",
       "  background-color: var(--sklearn-color-unfitted-level-2);\n",
       "}\n",
       "\n",
       "#sk-container-id-1 div.sk-estimator.fitted input.sk-toggleable__control:checked~label.sk-toggleable__label {\n",
       "  /* fitted */\n",
       "  background-color: var(--sklearn-color-fitted-level-2);\n",
       "}\n",
       "\n",
       "#sk-container-id-1 div.sk-label label.sk-toggleable__label,\n",
       "#sk-container-id-1 div.sk-label label {\n",
       "  /* The background is the default theme color */\n",
       "  color: var(--sklearn-color-text-on-default-background);\n",
       "}\n",
       "\n",
       "/* On hover, darken the color of the background */\n",
       "#sk-container-id-1 div.sk-label:hover label.sk-toggleable__label {\n",
       "  color: var(--sklearn-color-text);\n",
       "  background-color: var(--sklearn-color-unfitted-level-2);\n",
       "}\n",
       "\n",
       "/* Label box, darken color on hover, fitted */\n",
       "#sk-container-id-1 div.sk-label.fitted:hover label.sk-toggleable__label.fitted {\n",
       "  color: var(--sklearn-color-text);\n",
       "  background-color: var(--sklearn-color-fitted-level-2);\n",
       "}\n",
       "\n",
       "/* Estimator label */\n",
       "\n",
       "#sk-container-id-1 div.sk-label label {\n",
       "  font-family: monospace;\n",
       "  font-weight: bold;\n",
       "  display: inline-block;\n",
       "  line-height: 1.2em;\n",
       "}\n",
       "\n",
       "#sk-container-id-1 div.sk-label-container {\n",
       "  text-align: center;\n",
       "}\n",
       "\n",
       "/* Estimator-specific */\n",
       "#sk-container-id-1 div.sk-estimator {\n",
       "  font-family: monospace;\n",
       "  border: 1px dotted var(--sklearn-color-border-box);\n",
       "  border-radius: 0.25em;\n",
       "  box-sizing: border-box;\n",
       "  margin-bottom: 0.5em;\n",
       "  /* unfitted */\n",
       "  background-color: var(--sklearn-color-unfitted-level-0);\n",
       "}\n",
       "\n",
       "#sk-container-id-1 div.sk-estimator.fitted {\n",
       "  /* fitted */\n",
       "  background-color: var(--sklearn-color-fitted-level-0);\n",
       "}\n",
       "\n",
       "/* on hover */\n",
       "#sk-container-id-1 div.sk-estimator:hover {\n",
       "  /* unfitted */\n",
       "  background-color: var(--sklearn-color-unfitted-level-2);\n",
       "}\n",
       "\n",
       "#sk-container-id-1 div.sk-estimator.fitted:hover {\n",
       "  /* fitted */\n",
       "  background-color: var(--sklearn-color-fitted-level-2);\n",
       "}\n",
       "\n",
       "/* Specification for estimator info (e.g. \"i\" and \"?\") */\n",
       "\n",
       "/* Common style for \"i\" and \"?\" */\n",
       "\n",
       ".sk-estimator-doc-link,\n",
       "a:link.sk-estimator-doc-link,\n",
       "a:visited.sk-estimator-doc-link {\n",
       "  float: right;\n",
       "  font-size: smaller;\n",
       "  line-height: 1em;\n",
       "  font-family: monospace;\n",
       "  background-color: var(--sklearn-color-background);\n",
       "  border-radius: 1em;\n",
       "  height: 1em;\n",
       "  width: 1em;\n",
       "  text-decoration: none !important;\n",
       "  margin-left: 0.5em;\n",
       "  text-align: center;\n",
       "  /* unfitted */\n",
       "  border: var(--sklearn-color-unfitted-level-1) 1pt solid;\n",
       "  color: var(--sklearn-color-unfitted-level-1);\n",
       "}\n",
       "\n",
       ".sk-estimator-doc-link.fitted,\n",
       "a:link.sk-estimator-doc-link.fitted,\n",
       "a:visited.sk-estimator-doc-link.fitted {\n",
       "  /* fitted */\n",
       "  border: var(--sklearn-color-fitted-level-1) 1pt solid;\n",
       "  color: var(--sklearn-color-fitted-level-1);\n",
       "}\n",
       "\n",
       "/* On hover */\n",
       "div.sk-estimator:hover .sk-estimator-doc-link:hover,\n",
       ".sk-estimator-doc-link:hover,\n",
       "div.sk-label-container:hover .sk-estimator-doc-link:hover,\n",
       ".sk-estimator-doc-link:hover {\n",
       "  /* unfitted */\n",
       "  background-color: var(--sklearn-color-unfitted-level-3);\n",
       "  color: var(--sklearn-color-background);\n",
       "  text-decoration: none;\n",
       "}\n",
       "\n",
       "div.sk-estimator.fitted:hover .sk-estimator-doc-link.fitted:hover,\n",
       ".sk-estimator-doc-link.fitted:hover,\n",
       "div.sk-label-container:hover .sk-estimator-doc-link.fitted:hover,\n",
       ".sk-estimator-doc-link.fitted:hover {\n",
       "  /* fitted */\n",
       "  background-color: var(--sklearn-color-fitted-level-3);\n",
       "  color: var(--sklearn-color-background);\n",
       "  text-decoration: none;\n",
       "}\n",
       "\n",
       "/* Span, style for the box shown on hovering the info icon */\n",
       ".sk-estimator-doc-link span {\n",
       "  display: none;\n",
       "  z-index: 9999;\n",
       "  position: relative;\n",
       "  font-weight: normal;\n",
       "  right: .2ex;\n",
       "  padding: .5ex;\n",
       "  margin: .5ex;\n",
       "  width: min-content;\n",
       "  min-width: 20ex;\n",
       "  max-width: 50ex;\n",
       "  color: var(--sklearn-color-text);\n",
       "  box-shadow: 2pt 2pt 4pt #999;\n",
       "  /* unfitted */\n",
       "  background: var(--sklearn-color-unfitted-level-0);\n",
       "  border: .5pt solid var(--sklearn-color-unfitted-level-3);\n",
       "}\n",
       "\n",
       ".sk-estimator-doc-link.fitted span {\n",
       "  /* fitted */\n",
       "  background: var(--sklearn-color-fitted-level-0);\n",
       "  border: var(--sklearn-color-fitted-level-3);\n",
       "}\n",
       "\n",
       ".sk-estimator-doc-link:hover span {\n",
       "  display: block;\n",
       "}\n",
       "\n",
       "/* \"?\"-specific style due to the `<a>` HTML tag */\n",
       "\n",
       "#sk-container-id-1 a.estimator_doc_link {\n",
       "  float: right;\n",
       "  font-size: 1rem;\n",
       "  line-height: 1em;\n",
       "  font-family: monospace;\n",
       "  background-color: var(--sklearn-color-background);\n",
       "  border-radius: 1rem;\n",
       "  height: 1rem;\n",
       "  width: 1rem;\n",
       "  text-decoration: none;\n",
       "  /* unfitted */\n",
       "  color: var(--sklearn-color-unfitted-level-1);\n",
       "  border: var(--sklearn-color-unfitted-level-1) 1pt solid;\n",
       "}\n",
       "\n",
       "#sk-container-id-1 a.estimator_doc_link.fitted {\n",
       "  /* fitted */\n",
       "  border: var(--sklearn-color-fitted-level-1) 1pt solid;\n",
       "  color: var(--sklearn-color-fitted-level-1);\n",
       "}\n",
       "\n",
       "/* On hover */\n",
       "#sk-container-id-1 a.estimator_doc_link:hover {\n",
       "  /* unfitted */\n",
       "  background-color: var(--sklearn-color-unfitted-level-3);\n",
       "  color: var(--sklearn-color-background);\n",
       "  text-decoration: none;\n",
       "}\n",
       "\n",
       "#sk-container-id-1 a.estimator_doc_link.fitted:hover {\n",
       "  /* fitted */\n",
       "  background-color: var(--sklearn-color-fitted-level-3);\n",
       "}\n",
       "\n",
       ".estimator-table summary {\n",
       "    padding: .5rem;\n",
       "    font-family: monospace;\n",
       "    cursor: pointer;\n",
       "}\n",
       "\n",
       ".estimator-table details[open] {\n",
       "    padding-left: 0.1rem;\n",
       "    padding-right: 0.1rem;\n",
       "    padding-bottom: 0.3rem;\n",
       "}\n",
       "\n",
       ".estimator-table .parameters-table {\n",
       "    margin-left: auto !important;\n",
       "    margin-right: auto !important;\n",
       "}\n",
       "\n",
       ".estimator-table .parameters-table tr:nth-child(odd) {\n",
       "    background-color: #fff;\n",
       "}\n",
       "\n",
       ".estimator-table .parameters-table tr:nth-child(even) {\n",
       "    background-color: #f6f6f6;\n",
       "}\n",
       "\n",
       ".estimator-table .parameters-table tr:hover {\n",
       "    background-color: #e0e0e0;\n",
       "}\n",
       "\n",
       ".estimator-table table td {\n",
       "    border: 1px solid rgba(106, 105, 104, 0.232);\n",
       "}\n",
       "\n",
       ".user-set td {\n",
       "    color:rgb(255, 94, 0);\n",
       "    text-align: left;\n",
       "}\n",
       "\n",
       ".user-set td.value pre {\n",
       "    color:rgb(255, 94, 0) !important;\n",
       "    background-color: transparent !important;\n",
       "}\n",
       "\n",
       ".default td {\n",
       "    color: black;\n",
       "    text-align: left;\n",
       "}\n",
       "\n",
       ".user-set td i,\n",
       ".default td i {\n",
       "    color: black;\n",
       "}\n",
       "\n",
       ".copy-paste-icon {\n",
       "    background-image: url(data:image/svg+xml;base64,PHN2ZyB4bWxucz0iaHR0cDovL3d3dy53My5vcmcvMjAwMC9zdmciIHZpZXdCb3g9IjAgMCA0NDggNTEyIj48IS0tIUZvbnQgQXdlc29tZSBGcmVlIDYuNy4yIGJ5IEBmb250YXdlc29tZSAtIGh0dHBzOi8vZm9udGF3ZXNvbWUuY29tIExpY2Vuc2UgLSBodHRwczovL2ZvbnRhd2Vzb21lLmNvbS9saWNlbnNlL2ZyZWUgQ29weXJpZ2h0IDIwMjUgRm9udGljb25zLCBJbmMuLS0+PHBhdGggZD0iTTIwOCAwTDMzMi4xIDBjMTIuNyAwIDI0LjkgNS4xIDMzLjkgMTQuMWw2Ny45IDY3LjljOSA5IDE0LjEgMjEuMiAxNC4xIDMzLjlMNDQ4IDMzNmMwIDI2LjUtMjEuNSA0OC00OCA0OGwtMTkyIDBjLTI2LjUgMC00OC0yMS41LTQ4LTQ4bDAtMjg4YzAtMjYuNSAyMS41LTQ4IDQ4LTQ4ek00OCAxMjhsODAgMCAwIDY0LTY0IDAgMCAyNTYgMTkyIDAgMC0zMiA2NCAwIDAgNDhjMCAyNi41LTIxLjUgNDgtNDggNDhMNDggNTEyYy0yNi41IDAtNDgtMjEuNS00OC00OEwwIDE3NmMwLTI2LjUgMjEuNS00OCA0OC00OHoiLz48L3N2Zz4=);\n",
       "    background-repeat: no-repeat;\n",
       "    background-size: 14px 14px;\n",
       "    background-position: 0;\n",
       "    display: inline-block;\n",
       "    width: 14px;\n",
       "    height: 14px;\n",
       "    cursor: pointer;\n",
       "}\n",
       "</style><body><div id=\"sk-container-id-1\" class=\"sk-top-container\"><div class=\"sk-text-repr-fallback\"><pre>TopicPipeline(norm_row=True,\n",
       "              steps=[(&#x27;countvectorizer&#x27;,\n",
       "                      CountVectorizer(stop_words=&#x27;english&#x27;,\n",
       "                                      tokenizer=&lt;function tokenize_and_stem at 0x00000297D2951620&gt;)),\n",
       "                     (&#x27;nmf&#x27;, NMF(n_components=2, random_state=42))])</pre><b>In a Jupyter environment, please rerun this cell to show the HTML representation or trust the notebook. <br />On GitHub, the HTML representation is unable to render, please try loading this page with nbviewer.org.</b></div><div class=\"sk-container\" hidden><div class=\"sk-item sk-dashed-wrapped\"><div class=\"sk-label-container\"><div class=\"sk-label fitted sk-toggleable\"><input class=\"sk-toggleable__control sk-hidden--visually\" id=\"sk-estimator-id-1\" type=\"checkbox\" ><label for=\"sk-estimator-id-1\" class=\"sk-toggleable__label fitted sk-toggleable__label-arrow\"><div><div>TopicPipeline</div></div><div><span class=\"sk-estimator-doc-link fitted\">i<span>Fitted</span></span></div></label><div class=\"sk-toggleable__content fitted\" data-param-prefix=\"\">\n",
       "        <div class=\"estimator-table\">\n",
       "            <details>\n",
       "                <summary>Parameters</summary>\n",
       "                <table class=\"parameters-table\">\n",
       "                  <tbody>\n",
       "                    \n",
       "        <tr class=\"user-set\">\n",
       "            <td><i class=\"copy-paste-icon\"\n",
       "                 onclick=\"copyToClipboard('steps',\n",
       "                          this.parentElement.nextElementSibling)\"\n",
       "            ></i></td>\n",
       "            <td class=\"param\">steps&nbsp;</td>\n",
       "            <td class=\"value\">[(&#x27;countvectorizer&#x27;, ...), (&#x27;nmf&#x27;, ...)]</td>\n",
       "        </tr>\n",
       "    \n",
       "\n",
       "        <tr class=\"default\">\n",
       "            <td><i class=\"copy-paste-icon\"\n",
       "                 onclick=\"copyToClipboard('memory',\n",
       "                          this.parentElement.nextElementSibling)\"\n",
       "            ></i></td>\n",
       "            <td class=\"param\">memory&nbsp;</td>\n",
       "            <td class=\"value\">None</td>\n",
       "        </tr>\n",
       "    \n",
       "\n",
       "        <tr class=\"default\">\n",
       "            <td><i class=\"copy-paste-icon\"\n",
       "                 onclick=\"copyToClipboard('verbose',\n",
       "                          this.parentElement.nextElementSibling)\"\n",
       "            ></i></td>\n",
       "            <td class=\"param\">verbose&nbsp;</td>\n",
       "            <td class=\"value\">False</td>\n",
       "        </tr>\n",
       "    \n",
       "\n",
       "        <tr class=\"default\">\n",
       "            <td><i class=\"copy-paste-icon\"\n",
       "                 onclick=\"copyToClipboard('pandas_out',\n",
       "                          this.parentElement.nextElementSibling)\"\n",
       "            ></i></td>\n",
       "            <td class=\"param\">pandas_out&nbsp;</td>\n",
       "            <td class=\"value\">False</td>\n",
       "        </tr>\n",
       "    \n",
       "\n",
       "        <tr class=\"user-set\">\n",
       "            <td><i class=\"copy-paste-icon\"\n",
       "                 onclick=\"copyToClipboard('norm_row',\n",
       "                          this.parentElement.nextElementSibling)\"\n",
       "            ></i></td>\n",
       "            <td class=\"param\">norm_row&nbsp;</td>\n",
       "            <td class=\"value\">True</td>\n",
       "        </tr>\n",
       "    \n",
       "\n",
       "        <tr class=\"default\">\n",
       "            <td><i class=\"copy-paste-icon\"\n",
       "                 onclick=\"copyToClipboard('freeze',\n",
       "                          this.parentElement.nextElementSibling)\"\n",
       "            ></i></td>\n",
       "            <td class=\"param\">freeze&nbsp;</td>\n",
       "            <td class=\"value\">False</td>\n",
       "        </tr>\n",
       "    \n",
       "                  </tbody>\n",
       "                </table>\n",
       "            </details>\n",
       "        </div>\n",
       "    </div></div></div><div class=\"sk-serial\"><div class=\"sk-item\"><div class=\"sk-estimator fitted sk-toggleable\"><input class=\"sk-toggleable__control sk-hidden--visually\" id=\"sk-estimator-id-2\" type=\"checkbox\" ><label for=\"sk-estimator-id-2\" class=\"sk-toggleable__label fitted sk-toggleable__label-arrow\"><div><div>CountVectorizer</div></div><div><a class=\"sk-estimator-doc-link fitted\" rel=\"noreferrer\" target=\"_blank\" href=\"https://scikit-learn.org/1.7/modules/generated/sklearn.feature_extraction.text.CountVectorizer.html\">?<span>Documentation for CountVectorizer</span></a></div></label><div class=\"sk-toggleable__content fitted\" data-param-prefix=\"countvectorizer__\">\n",
       "        <div class=\"estimator-table\">\n",
       "            <details>\n",
       "                <summary>Parameters</summary>\n",
       "                <table class=\"parameters-table\">\n",
       "                  <tbody>\n",
       "                    \n",
       "        <tr class=\"default\">\n",
       "            <td><i class=\"copy-paste-icon\"\n",
       "                 onclick=\"copyToClipboard('input',\n",
       "                          this.parentElement.nextElementSibling)\"\n",
       "            ></i></td>\n",
       "            <td class=\"param\">input&nbsp;</td>\n",
       "            <td class=\"value\">&#x27;content&#x27;</td>\n",
       "        </tr>\n",
       "    \n",
       "\n",
       "        <tr class=\"default\">\n",
       "            <td><i class=\"copy-paste-icon\"\n",
       "                 onclick=\"copyToClipboard('encoding',\n",
       "                          this.parentElement.nextElementSibling)\"\n",
       "            ></i></td>\n",
       "            <td class=\"param\">encoding&nbsp;</td>\n",
       "            <td class=\"value\">&#x27;utf-8&#x27;</td>\n",
       "        </tr>\n",
       "    \n",
       "\n",
       "        <tr class=\"default\">\n",
       "            <td><i class=\"copy-paste-icon\"\n",
       "                 onclick=\"copyToClipboard('decode_error',\n",
       "                          this.parentElement.nextElementSibling)\"\n",
       "            ></i></td>\n",
       "            <td class=\"param\">decode_error&nbsp;</td>\n",
       "            <td class=\"value\">&#x27;strict&#x27;</td>\n",
       "        </tr>\n",
       "    \n",
       "\n",
       "        <tr class=\"default\">\n",
       "            <td><i class=\"copy-paste-icon\"\n",
       "                 onclick=\"copyToClipboard('strip_accents',\n",
       "                          this.parentElement.nextElementSibling)\"\n",
       "            ></i></td>\n",
       "            <td class=\"param\">strip_accents&nbsp;</td>\n",
       "            <td class=\"value\">None</td>\n",
       "        </tr>\n",
       "    \n",
       "\n",
       "        <tr class=\"default\">\n",
       "            <td><i class=\"copy-paste-icon\"\n",
       "                 onclick=\"copyToClipboard('lowercase',\n",
       "                          this.parentElement.nextElementSibling)\"\n",
       "            ></i></td>\n",
       "            <td class=\"param\">lowercase&nbsp;</td>\n",
       "            <td class=\"value\">True</td>\n",
       "        </tr>\n",
       "    \n",
       "\n",
       "        <tr class=\"default\">\n",
       "            <td><i class=\"copy-paste-icon\"\n",
       "                 onclick=\"copyToClipboard('preprocessor',\n",
       "                          this.parentElement.nextElementSibling)\"\n",
       "            ></i></td>\n",
       "            <td class=\"param\">preprocessor&nbsp;</td>\n",
       "            <td class=\"value\">None</td>\n",
       "        </tr>\n",
       "    \n",
       "\n",
       "        <tr class=\"user-set\">\n",
       "            <td><i class=\"copy-paste-icon\"\n",
       "                 onclick=\"copyToClipboard('tokenizer',\n",
       "                          this.parentElement.nextElementSibling)\"\n",
       "            ></i></td>\n",
       "            <td class=\"param\">tokenizer&nbsp;</td>\n",
       "            <td class=\"value\">&lt;function tok...00297D2951620&gt;</td>\n",
       "        </tr>\n",
       "    \n",
       "\n",
       "        <tr class=\"user-set\">\n",
       "            <td><i class=\"copy-paste-icon\"\n",
       "                 onclick=\"copyToClipboard('stop_words',\n",
       "                          this.parentElement.nextElementSibling)\"\n",
       "            ></i></td>\n",
       "            <td class=\"param\">stop_words&nbsp;</td>\n",
       "            <td class=\"value\">&#x27;english&#x27;</td>\n",
       "        </tr>\n",
       "    \n",
       "\n",
       "        <tr class=\"default\">\n",
       "            <td><i class=\"copy-paste-icon\"\n",
       "                 onclick=\"copyToClipboard('token_pattern',\n",
       "                          this.parentElement.nextElementSibling)\"\n",
       "            ></i></td>\n",
       "            <td class=\"param\">token_pattern&nbsp;</td>\n",
       "            <td class=\"value\">&#x27;(?u)\\\\b\\\\w\\\\w+\\\\b&#x27;</td>\n",
       "        </tr>\n",
       "    \n",
       "\n",
       "        <tr class=\"default\">\n",
       "            <td><i class=\"copy-paste-icon\"\n",
       "                 onclick=\"copyToClipboard('ngram_range',\n",
       "                          this.parentElement.nextElementSibling)\"\n",
       "            ></i></td>\n",
       "            <td class=\"param\">ngram_range&nbsp;</td>\n",
       "            <td class=\"value\">(1, ...)</td>\n",
       "        </tr>\n",
       "    \n",
       "\n",
       "        <tr class=\"default\">\n",
       "            <td><i class=\"copy-paste-icon\"\n",
       "                 onclick=\"copyToClipboard('analyzer',\n",
       "                          this.parentElement.nextElementSibling)\"\n",
       "            ></i></td>\n",
       "            <td class=\"param\">analyzer&nbsp;</td>\n",
       "            <td class=\"value\">&#x27;word&#x27;</td>\n",
       "        </tr>\n",
       "    \n",
       "\n",
       "        <tr class=\"default\">\n",
       "            <td><i class=\"copy-paste-icon\"\n",
       "                 onclick=\"copyToClipboard('max_df',\n",
       "                          this.parentElement.nextElementSibling)\"\n",
       "            ></i></td>\n",
       "            <td class=\"param\">max_df&nbsp;</td>\n",
       "            <td class=\"value\">1.0</td>\n",
       "        </tr>\n",
       "    \n",
       "\n",
       "        <tr class=\"default\">\n",
       "            <td><i class=\"copy-paste-icon\"\n",
       "                 onclick=\"copyToClipboard('min_df',\n",
       "                          this.parentElement.nextElementSibling)\"\n",
       "            ></i></td>\n",
       "            <td class=\"param\">min_df&nbsp;</td>\n",
       "            <td class=\"value\">1</td>\n",
       "        </tr>\n",
       "    \n",
       "\n",
       "        <tr class=\"default\">\n",
       "            <td><i class=\"copy-paste-icon\"\n",
       "                 onclick=\"copyToClipboard('max_features',\n",
       "                          this.parentElement.nextElementSibling)\"\n",
       "            ></i></td>\n",
       "            <td class=\"param\">max_features&nbsp;</td>\n",
       "            <td class=\"value\">None</td>\n",
       "        </tr>\n",
       "    \n",
       "\n",
       "        <tr class=\"default\">\n",
       "            <td><i class=\"copy-paste-icon\"\n",
       "                 onclick=\"copyToClipboard('vocabulary',\n",
       "                          this.parentElement.nextElementSibling)\"\n",
       "            ></i></td>\n",
       "            <td class=\"param\">vocabulary&nbsp;</td>\n",
       "            <td class=\"value\">None</td>\n",
       "        </tr>\n",
       "    \n",
       "\n",
       "        <tr class=\"default\">\n",
       "            <td><i class=\"copy-paste-icon\"\n",
       "                 onclick=\"copyToClipboard('binary',\n",
       "                          this.parentElement.nextElementSibling)\"\n",
       "            ></i></td>\n",
       "            <td class=\"param\">binary&nbsp;</td>\n",
       "            <td class=\"value\">False</td>\n",
       "        </tr>\n",
       "    \n",
       "\n",
       "        <tr class=\"default\">\n",
       "            <td><i class=\"copy-paste-icon\"\n",
       "                 onclick=\"copyToClipboard('dtype',\n",
       "                          this.parentElement.nextElementSibling)\"\n",
       "            ></i></td>\n",
       "            <td class=\"param\">dtype&nbsp;</td>\n",
       "            <td class=\"value\">&lt;class &#x27;numpy.int64&#x27;&gt;</td>\n",
       "        </tr>\n",
       "    \n",
       "                  </tbody>\n",
       "                </table>\n",
       "            </details>\n",
       "        </div>\n",
       "    </div></div></div><div class=\"sk-item\"><div class=\"sk-estimator fitted sk-toggleable\"><input class=\"sk-toggleable__control sk-hidden--visually\" id=\"sk-estimator-id-3\" type=\"checkbox\" ><label for=\"sk-estimator-id-3\" class=\"sk-toggleable__label fitted sk-toggleable__label-arrow\"><div><div>NMF</div></div><div><a class=\"sk-estimator-doc-link fitted\" rel=\"noreferrer\" target=\"_blank\" href=\"https://scikit-learn.org/1.7/modules/generated/sklearn.decomposition.NMF.html\">?<span>Documentation for NMF</span></a></div></label><div class=\"sk-toggleable__content fitted\" data-param-prefix=\"nmf__\">\n",
       "        <div class=\"estimator-table\">\n",
       "            <details>\n",
       "                <summary>Parameters</summary>\n",
       "                <table class=\"parameters-table\">\n",
       "                  <tbody>\n",
       "                    \n",
       "        <tr class=\"user-set\">\n",
       "            <td><i class=\"copy-paste-icon\"\n",
       "                 onclick=\"copyToClipboard('n_components',\n",
       "                          this.parentElement.nextElementSibling)\"\n",
       "            ></i></td>\n",
       "            <td class=\"param\">n_components&nbsp;</td>\n",
       "            <td class=\"value\">2</td>\n",
       "        </tr>\n",
       "    \n",
       "\n",
       "        <tr class=\"default\">\n",
       "            <td><i class=\"copy-paste-icon\"\n",
       "                 onclick=\"copyToClipboard('init',\n",
       "                          this.parentElement.nextElementSibling)\"\n",
       "            ></i></td>\n",
       "            <td class=\"param\">init&nbsp;</td>\n",
       "            <td class=\"value\">None</td>\n",
       "        </tr>\n",
       "    \n",
       "\n",
       "        <tr class=\"default\">\n",
       "            <td><i class=\"copy-paste-icon\"\n",
       "                 onclick=\"copyToClipboard('solver',\n",
       "                          this.parentElement.nextElementSibling)\"\n",
       "            ></i></td>\n",
       "            <td class=\"param\">solver&nbsp;</td>\n",
       "            <td class=\"value\">&#x27;cd&#x27;</td>\n",
       "        </tr>\n",
       "    \n",
       "\n",
       "        <tr class=\"default\">\n",
       "            <td><i class=\"copy-paste-icon\"\n",
       "                 onclick=\"copyToClipboard('beta_loss',\n",
       "                          this.parentElement.nextElementSibling)\"\n",
       "            ></i></td>\n",
       "            <td class=\"param\">beta_loss&nbsp;</td>\n",
       "            <td class=\"value\">&#x27;frobenius&#x27;</td>\n",
       "        </tr>\n",
       "    \n",
       "\n",
       "        <tr class=\"default\">\n",
       "            <td><i class=\"copy-paste-icon\"\n",
       "                 onclick=\"copyToClipboard('tol',\n",
       "                          this.parentElement.nextElementSibling)\"\n",
       "            ></i></td>\n",
       "            <td class=\"param\">tol&nbsp;</td>\n",
       "            <td class=\"value\">0.0001</td>\n",
       "        </tr>\n",
       "    \n",
       "\n",
       "        <tr class=\"default\">\n",
       "            <td><i class=\"copy-paste-icon\"\n",
       "                 onclick=\"copyToClipboard('max_iter',\n",
       "                          this.parentElement.nextElementSibling)\"\n",
       "            ></i></td>\n",
       "            <td class=\"param\">max_iter&nbsp;</td>\n",
       "            <td class=\"value\">200</td>\n",
       "        </tr>\n",
       "    \n",
       "\n",
       "        <tr class=\"user-set\">\n",
       "            <td><i class=\"copy-paste-icon\"\n",
       "                 onclick=\"copyToClipboard('random_state',\n",
       "                          this.parentElement.nextElementSibling)\"\n",
       "            ></i></td>\n",
       "            <td class=\"param\">random_state&nbsp;</td>\n",
       "            <td class=\"value\">42</td>\n",
       "        </tr>\n",
       "    \n",
       "\n",
       "        <tr class=\"default\">\n",
       "            <td><i class=\"copy-paste-icon\"\n",
       "                 onclick=\"copyToClipboard('alpha_W',\n",
       "                          this.parentElement.nextElementSibling)\"\n",
       "            ></i></td>\n",
       "            <td class=\"param\">alpha_W&nbsp;</td>\n",
       "            <td class=\"value\">0.0</td>\n",
       "        </tr>\n",
       "    \n",
       "\n",
       "        <tr class=\"default\">\n",
       "            <td><i class=\"copy-paste-icon\"\n",
       "                 onclick=\"copyToClipboard('alpha_H',\n",
       "                          this.parentElement.nextElementSibling)\"\n",
       "            ></i></td>\n",
       "            <td class=\"param\">alpha_H&nbsp;</td>\n",
       "            <td class=\"value\">&#x27;same&#x27;</td>\n",
       "        </tr>\n",
       "    \n",
       "\n",
       "        <tr class=\"default\">\n",
       "            <td><i class=\"copy-paste-icon\"\n",
       "                 onclick=\"copyToClipboard('l1_ratio',\n",
       "                          this.parentElement.nextElementSibling)\"\n",
       "            ></i></td>\n",
       "            <td class=\"param\">l1_ratio&nbsp;</td>\n",
       "            <td class=\"value\">0.0</td>\n",
       "        </tr>\n",
       "    \n",
       "\n",
       "        <tr class=\"default\">\n",
       "            <td><i class=\"copy-paste-icon\"\n",
       "                 onclick=\"copyToClipboard('verbose',\n",
       "                          this.parentElement.nextElementSibling)\"\n",
       "            ></i></td>\n",
       "            <td class=\"param\">verbose&nbsp;</td>\n",
       "            <td class=\"value\">0</td>\n",
       "        </tr>\n",
       "    \n",
       "\n",
       "        <tr class=\"default\">\n",
       "            <td><i class=\"copy-paste-icon\"\n",
       "                 onclick=\"copyToClipboard('shuffle',\n",
       "                          this.parentElement.nextElementSibling)\"\n",
       "            ></i></td>\n",
       "            <td class=\"param\">shuffle&nbsp;</td>\n",
       "            <td class=\"value\">False</td>\n",
       "        </tr>\n",
       "    \n",
       "                  </tbody>\n",
       "                </table>\n",
       "            </details>\n",
       "        </div>\n",
       "    </div></div></div></div></div></div></div><script>function copyToClipboard(text, element) {\n",
       "    // Get the parameter prefix from the closest toggleable content\n",
       "    const toggleableContent = element.closest('.sk-toggleable__content');\n",
       "    const paramPrefix = toggleableContent ? toggleableContent.dataset.paramPrefix : '';\n",
       "    const fullParamName = paramPrefix ? `${paramPrefix}${text}` : text;\n",
       "\n",
       "    const originalStyle = element.style;\n",
       "    const computedStyle = window.getComputedStyle(element);\n",
       "    const originalWidth = computedStyle.width;\n",
       "    const originalHTML = element.innerHTML.replace('Copied!', '');\n",
       "\n",
       "    navigator.clipboard.writeText(fullParamName)\n",
       "        .then(() => {\n",
       "            element.style.width = originalWidth;\n",
       "            element.style.color = 'green';\n",
       "            element.innerHTML = \"Copied!\";\n",
       "\n",
       "            setTimeout(() => {\n",
       "                element.innerHTML = originalHTML;\n",
       "                element.style = originalStyle;\n",
       "            }, 2000);\n",
       "        })\n",
       "        .catch(err => {\n",
       "            console.error('Failed to copy:', err);\n",
       "            element.style.color = 'red';\n",
       "            element.innerHTML = \"Failed!\";\n",
       "            setTimeout(() => {\n",
       "                element.innerHTML = originalHTML;\n",
       "                element.style = originalStyle;\n",
       "            }, 2000);\n",
       "        });\n",
       "    return false;\n",
       "}\n",
       "\n",
       "document.querySelectorAll('.fa-regular.fa-copy').forEach(function(element) {\n",
       "    const toggleableContent = element.closest('.sk-toggleable__content');\n",
       "    const paramPrefix = toggleableContent ? toggleableContent.dataset.paramPrefix : '';\n",
       "    const paramName = element.parentElement.nextElementSibling.textContent.trim();\n",
       "    const fullParamName = paramPrefix ? `${paramPrefix}${paramName}` : paramName;\n",
       "\n",
       "    element.setAttribute('title', fullParamName);\n",
       "});\n",
       "</script></body>"
      ],
      "text/plain": [
       "TopicPipeline(norm_row=True,\n",
       "              steps=[('countvectorizer',\n",
       "                      CountVectorizer(stop_words='english',\n",
       "                                      tokenizer=<function tokenize_and_stem at 0x00000297D2951620>)),\n",
       "                     ('nmf', NMF(n_components=2, random_state=42))])"
      ]
     },
     "execution_count": 13,
     "metadata": {},
     "output_type": "execute_result"
    }
   ],
   "source": [
    "from sklearn.decomposition import NMF\n",
    "from sklearn.feature_extraction.text import CountVectorizer\n",
    "from topicwizard.pipeline import make_topic_pipeline\n",
    "\n",
    "texts = df_prueba.dropna().tolist()\n",
    "\n",
    "# CountVectorizer\n",
    "cv = CountVectorizer(tokenizer = tokenize_and_stem, stop_words = 'english')\n",
    "\n",
    "# NMF\n",
    "nmf = NMF(n_components=2, random_state=42)\n",
    "\n",
    "# Create a pipeline\n",
    "topic_pipeline = make_topic_pipeline(cv, nmf)\n",
    "topic_pipeline.fit(texts)"
   ]
  },
  {
   "cell_type": "code",
   "execution_count": 38,
   "id": "f8d475b3",
   "metadata": {},
   "outputs": [
    {
     "name": "stdout",
     "output_type": "stream",
     "text": [
      "Preprocessing\n",
      "Inferring topical content for documents.\n"
     ]
    },
    {
     "data": {
      "text/html": [
       "\n",
       "        <iframe\n",
       "            width=\"100%\"\n",
       "            height=\"650\"\n",
       "            src=\"http://127.0.0.1:8050/\"\n",
       "            frameborder=\"0\"\n",
       "            allowfullscreen\n",
       "            \n",
       "        ></iframe>\n",
       "        "
      ],
      "text/plain": [
       "<IPython.lib.display.IFrame at 0x297e1e09dc0>"
      ]
     },
     "metadata": {},
     "output_type": "display_data"
    }
   ],
   "source": [
    "import topicwizard\n",
    "topicwizard.visualize(texts, model=topic_pipeline)\n"
   ]
  },
  {
   "cell_type": "code",
   "execution_count": 40,
   "id": "e3c2a941",
   "metadata": {},
   "outputs": [
    {
     "name": "stdout",
     "output_type": "stream",
     "text": [
      "Inferring topical content for documents.\n"
     ]
    },
    {
     "ename": "ValueError",
     "evalue": "Mime type rendering requires nbformat>=4.2.0 but it is not installed",
     "output_type": "error",
     "traceback": [
      "\u001b[31m---------------------------------------------------------------------------\u001b[39m",
      "\u001b[31mValueError\u001b[39m                                Traceback (most recent call last)",
      "\u001b[36mFile \u001b[39m\u001b[32mc:\\Users\\Iñigo Peña\\Desktop\\Clase\\2025-26\\ProcesamientoDelLenguajeNatural\\FinTracker\\ftenv\\Lib\\site-packages\\IPython\\core\\formatters.py:984\u001b[39m, in \u001b[36mIPythonDisplayFormatter.__call__\u001b[39m\u001b[34m(self, obj)\u001b[39m\n\u001b[32m    982\u001b[39m method = get_real_method(obj, \u001b[38;5;28mself\u001b[39m.print_method)\n\u001b[32m    983\u001b[39m \u001b[38;5;28;01mif\u001b[39;00m method \u001b[38;5;129;01mis\u001b[39;00m \u001b[38;5;129;01mnot\u001b[39;00m \u001b[38;5;28;01mNone\u001b[39;00m:\n\u001b[32m--> \u001b[39m\u001b[32m984\u001b[39m     \u001b[43mmethod\u001b[49m\u001b[43m(\u001b[49m\u001b[43m)\u001b[49m\n\u001b[32m    985\u001b[39m     \u001b[38;5;28;01mreturn\u001b[39;00m \u001b[38;5;28;01mTrue\u001b[39;00m\n",
      "\u001b[36mFile \u001b[39m\u001b[32mc:\\Users\\Iñigo Peña\\Desktop\\Clase\\2025-26\\ProcesamientoDelLenguajeNatural\\FinTracker\\ftenv\\Lib\\site-packages\\plotly\\basedatatypes.py:850\u001b[39m, in \u001b[36mBaseFigure._ipython_display_\u001b[39m\u001b[34m(self)\u001b[39m\n\u001b[32m    847\u001b[39m \u001b[38;5;28;01mimport\u001b[39;00m\u001b[38;5;250m \u001b[39m\u001b[34;01mplotly\u001b[39;00m\u001b[34;01m.\u001b[39;00m\u001b[34;01mio\u001b[39;00m\u001b[38;5;250m \u001b[39m\u001b[38;5;28;01mas\u001b[39;00m\u001b[38;5;250m \u001b[39m\u001b[34;01mpio\u001b[39;00m\n\u001b[32m    849\u001b[39m \u001b[38;5;28;01mif\u001b[39;00m pio.renderers.render_on_display \u001b[38;5;129;01mand\u001b[39;00m pio.renderers.default:\n\u001b[32m--> \u001b[39m\u001b[32m850\u001b[39m     \u001b[43mpio\u001b[49m\u001b[43m.\u001b[49m\u001b[43mshow\u001b[49m\u001b[43m(\u001b[49m\u001b[38;5;28;43mself\u001b[39;49m\u001b[43m)\u001b[49m\n\u001b[32m    851\u001b[39m \u001b[38;5;28;01melse\u001b[39;00m:\n\u001b[32m    852\u001b[39m     \u001b[38;5;28mprint\u001b[39m(\u001b[38;5;28mrepr\u001b[39m(\u001b[38;5;28mself\u001b[39m))\n",
      "\u001b[36mFile \u001b[39m\u001b[32mc:\\Users\\Iñigo Peña\\Desktop\\Clase\\2025-26\\ProcesamientoDelLenguajeNatural\\FinTracker\\ftenv\\Lib\\site-packages\\plotly\\io\\_renderers.py:415\u001b[39m, in \u001b[36mshow\u001b[39m\u001b[34m(fig, renderer, validate, **kwargs)\u001b[39m\n\u001b[32m    410\u001b[39m     \u001b[38;5;28;01mraise\u001b[39;00m \u001b[38;5;167;01mValueError\u001b[39;00m(\n\u001b[32m    411\u001b[39m         \u001b[33m\"\u001b[39m\u001b[33mMime type rendering requires ipython but it is not installed\u001b[39m\u001b[33m\"\u001b[39m\n\u001b[32m    412\u001b[39m     )\n\u001b[32m    414\u001b[39m \u001b[38;5;28;01mif\u001b[39;00m \u001b[38;5;129;01mnot\u001b[39;00m nbformat \u001b[38;5;129;01mor\u001b[39;00m Version(nbformat.__version__) < Version(\u001b[33m\"\u001b[39m\u001b[33m4.2.0\u001b[39m\u001b[33m\"\u001b[39m):\n\u001b[32m--> \u001b[39m\u001b[32m415\u001b[39m     \u001b[38;5;28;01mraise\u001b[39;00m \u001b[38;5;167;01mValueError\u001b[39;00m(\n\u001b[32m    416\u001b[39m         \u001b[33m\"\u001b[39m\u001b[33mMime type rendering requires nbformat>=4.2.0 but it is not installed\u001b[39m\u001b[33m\"\u001b[39m\n\u001b[32m    417\u001b[39m     )\n\u001b[32m    419\u001b[39m display_jupyter_version_warnings()\n\u001b[32m    421\u001b[39m ipython_display.display(bundle, raw=\u001b[38;5;28;01mTrue\u001b[39;00m)\n",
      "\u001b[31mValueError\u001b[39m: Mime type rendering requires nbformat>=4.2.0 but it is not installed"
     ]
    },
    {
     "data": {
      "application/vnd.plotly.v1+json": {
       "config": {
        "plotlyServerURL": "https://plot.ly"
       },
       "data": [
        {
         "customdata": [
          [
           "abandon",
           ""
          ],
          [
           "abil",
           ""
          ],
          [
           "abl",
           ""
          ],
          [
           "abound",
           ""
          ],
          [
           "accompani",
           ""
          ],
          [
           "acquir",
           ""
          ],
          [
           "acquisit",
           ""
          ],
          [
           "activewear",
           ""
          ],
          [
           "actual",
           ""
          ],
          [
           "addit",
           ""
          ],
          [
           "addon",
           ""
          ],
          [
           "adida",
           ""
          ],
          [
           "advantag",
           ""
          ],
          [
           "advertis",
           ""
          ],
          [
           "afford",
           ""
          ],
          [
           "african",
           ""
          ],
          [
           "ahead",
           ""
          ],
          [
           "al",
           ""
          ],
          [
           "alien",
           ""
          ],
          [
           "alik",
           ""
          ],
          [
           "allan",
           ""
          ],
          [
           "alli",
           ""
          ],
          [
           "allow",
           ""
          ],
          [
           "alon",
           ""
          ],
          [
           "alway",
           ""
          ],
          [
           "ambiti",
           ""
          ],
          [
           "america",
           ""
          ],
          [
           "american",
           ""
          ],
          [
           "amsterdam",
           ""
          ],
          [
           "analyst",
           "analyst"
          ],
          [
           "angel",
           ""
          ],
          [
           "angl",
           ""
          ],
          [
           "ani",
           ""
          ],
          [
           "ann",
           ""
          ],
          [
           "anniversari",
           ""
          ],
          [
           "announc",
           ""
          ],
          [
           "anoth",
           ""
          ],
          [
           "antenna",
           ""
          ],
          [
           "anthropologist",
           ""
          ],
          [
           "anyon",
           ""
          ],
          [
           "anyth",
           ""
          ],
          [
           "apparel",
           ""
          ],
          [
           "appear",
           ""
          ],
          [
           "appl",
           ""
          ],
          [
           "appli",
           ""
          ],
          [
           "appoint",
           ""
          ],
          [
           "arabian",
           ""
          ],
          [
           "architect",
           ""
          ],
          [
           "ardous",
           ""
          ],
          [
           "arguabl",
           ""
          ],
          [
           "arriv",
           ""
          ],
          [
           "art",
           ""
          ],
          [
           "articul",
           ""
          ],
          [
           "artist",
           ""
          ],
          [
           "artwork",
           ""
          ],
          [
           "asia",
           ""
          ],
          [
           "asid",
           ""
          ],
          [
           "asset",
           ""
          ],
          [
           "assist",
           ""
          ],
          [
           "athleisur",
           ""
          ],
          [
           "atmo",
           ""
          ],
          [
           "atop",
           ""
          ],
          [
           "att",
           ""
          ],
          [
           "attent",
           ""
          ],
          [
           "attribut",
           ""
          ],
          [
           "audienc",
           ""
          ],
          [
           "aug",
           ""
          ],
          [
           "avoid",
           ""
          ],
          [
           "away",
           ""
          ],
          [
           "b",
           ""
          ],
          [
           "babi",
           ""
          ],
          [
           "balk",
           ""
          ],
          [
           "band",
           ""
          ],
          [
           "basi",
           ""
          ],
          [
           "basketbal",
           ""
          ],
          [
           "bat",
           ""
          ],
          [
           "bather",
           ""
          ],
          [
           "battl",
           ""
          ],
          [
           "beam",
           ""
          ],
          [
           "beauti",
           ""
          ],
          [
           "becam",
           ""
          ],
          [
           "becaus",
           "becaus"
          ],
          [
           "becom",
           ""
          ],
          [
           "befor",
           ""
          ],
          [
           "behemoth",
           ""
          ],
          [
           "beirut",
           ""
          ],
          [
           "believ",
           ""
          ],
          [
           "berlin",
           ""
          ],
          [
           "bet",
           ""
          ],
          [
           "better",
           ""
          ],
          [
           "big",
           ""
          ],
          [
           "biggest",
           ""
          ],
          [
           "billion",
           "billion"
          ],
          [
           "billionair",
           ""
          ],
          [
           "bin",
           ""
          ],
          [
           "birthmark",
           ""
          ],
          [
           "block",
           ""
          ],
          [
           "blow",
           ""
          ],
          [
           "blue",
           ""
          ],
          [
           "boat",
           ""
          ],
          [
           "bold",
           ""
          ],
          [
           "book",
           ""
          ],
          [
           "born",
           ""
          ],
          [
           "brand",
           ""
          ],
          [
           "bread",
           ""
          ],
          [
           "break",
           ""
          ],
          [
           "bring",
           ""
          ],
          [
           "broad",
           ""
          ],
          [
           "broadband",
           ""
          ],
          [
           "broader",
           ""
          ],
          [
           "broker",
           ""
          ],
          [
           "bruis",
           ""
          ],
          [
           "build",
           ""
          ],
          [
           "built",
           ""
          ],
          [
           "burnett",
           ""
          ],
          [
           "busi",
           "busi"
          ],
          [
           "businessmen",
           ""
          ],
          [
           "butter",
           ""
          ],
          [
           "buy",
           ""
          ],
          [
           "cabl",
           ""
          ],
          [
           "cage",
           ""
          ],
          [
           "caleb",
           ""
          ],
          [
           "came",
           ""
          ],
          [
           "canadianamerican",
           ""
          ],
          [
           "capabl",
           ""
          ],
          [
           "capac",
           ""
          ],
          [
           "capit",
           ""
          ],
          [
           "captain",
           ""
          ],
          [
           "captiv",
           ""
          ],
          [
           "care",
           ""
          ],
          [
           "carri",
           ""
          ],
          [
           "carrier",
           ""
          ],
          [
           "casagema",
           ""
          ],
          [
           "caught",
           ""
          ],
          [
           "caveat",
           ""
          ],
          [
           "celebr",
           ""
          ],
          [
           "cellular",
           ""
          ],
          [
           "cement",
           ""
          ],
          [
           "central",
           ""
          ],
          [
           "centuri",
           ""
          ],
          [
           "ceo",
           ""
          ],
          [
           "champ",
           ""
          ],
          [
           "chanc",
           ""
          ],
          [
           "chang",
           ""
          ],
          [
           "chapter",
           ""
          ],
          [
           "character",
           ""
          ],
          [
           "charg",
           ""
          ],
          [
           "charli",
           ""
          ],
          [
           "choic",
           ""
          ],
          [
           "chunk",
           ""
          ],
          [
           "cite",
           ""
          ],
          [
           "claim",
           ""
          ],
          [
           "climb",
           ""
          ],
          [
           "close",
           ""
          ],
          [
           "cloth",
           ""
          ],
          [
           "coexist",
           ""
          ],
          [
           "col",
           ""
          ],
          [
           "collabor",
           ""
          ],
          [
           "color",
           ""
          ],
          [
           "combin",
           ""
          ],
          [
           "come",
           ""
          ],
          [
           "commonsens",
           ""
          ],
          [
           "compani",
           "compani"
          ],
          [
           "compar",
           ""
          ],
          [
           "competit",
           ""
          ],
          [
           "competitor",
           ""
          ],
          [
           "complic",
           ""
          ],
          [
           "compos",
           ""
          ],
          [
           "composit",
           ""
          ],
          [
           "compris",
           ""
          ],
          [
           "concept",
           ""
          ],
          [
           "conceptu",
           ""
          ],
          [
           "concurr",
           ""
          ],
          [
           "connect",
           ""
          ],
          [
           "consecut",
           ""
          ],
          [
           "consolid",
           ""
          ],
          [
           "constel",
           ""
          ],
          [
           "constrain",
           ""
          ],
          [
           "contemporari",
           ""
          ],
          [
           "conting",
           ""
          ],
          [
           "continu",
           "continu"
          ],
          [
           "contribut",
           ""
          ],
          [
           "control",
           ""
          ],
          [
           "convers",
           ""
          ],
          [
           "cooper",
           ""
          ],
          [
           "cordcut",
           ""
          ],
          [
           "core",
           ""
          ],
          [
           "corp",
           "corp"
          ],
          [
           "cosmic",
           ""
          ],
          [
           "cost",
           ""
          ],
          [
           "countri",
           ""
          ],
          [
           "coupl",
           ""
          ],
          [
           "cours",
           ""
          ],
          [
           "cover",
           ""
          ],
          [
           "covid",
           ""
          ],
          [
           "creat",
           ""
          ],
          [
           "credibl",
           ""
          ],
          [
           "crew",
           ""
          ],
          [
           "critic",
           ""
          ],
          [
           "crucial",
           ""
          ],
          [
           "crush",
           ""
          ],
          [
           "cultur",
           ""
          ],
          [
           "curat",
           ""
          ],
          [
           "current",
           ""
          ],
          [
           "curtain",
           ""
          ],
          [
           "curv",
           ""
          ],
          [
           "custom",
           ""
          ],
          [
           "cut",
           ""
          ],
          [
           "cyrus",
           ""
          ],
          [
           "data",
           ""
          ],
          [
           "david",
           ""
          ],
          [
           "dazzl",
           ""
          ],
          [
           "deal",
           "deal"
          ],
          [
           "death",
           ""
          ],
          [
           "debt",
           ""
          ],
          [
           "debut",
           ""
          ],
          [
           "decad",
           ""
          ],
          [
           "decis",
           ""
          ],
          [
           "decreas",
           ""
          ],
          [
           "defin",
           ""
          ],
          [
           "delic",
           ""
          ],
          [
           "deliv",
           ""
          ],
          [
           "demand",
           ""
          ],
          [
           "depend",
           ""
          ],
          [
           "describ",
           ""
          ],
          [
           "design",
           ""
          ],
          [
           "destin",
           ""
          ],
          [
           "develop",
           ""
          ],
          [
           "dialogu",
           ""
          ],
          [
           "dick",
           "dick"
          ],
          [
           "did",
           ""
          ],
          [
           "differ",
           ""
          ],
          [
           "digit",
           ""
          ],
          [
           "directtocel",
           ""
          ],
          [
           "directtodevic",
           ""
          ],
          [
           "disciplin",
           ""
          ],
          [
           "discount",
           ""
          ],
          [
           "disney",
           ""
          ],
          [
           "display",
           ""
          ],
          [
           "disrupt",
           ""
          ],
          [
           "distanc",
           ""
          ],
          [
           "distinct",
           ""
          ],
          [
           "distribut",
           ""
          ],
          [
           "dive",
           ""
          ],
          [
           "divers",
           ""
          ],
          [
           "divestitur",
           ""
          ],
          [
           "divis",
           ""
          ],
          [
           "dna",
           ""
          ],
          [
           "doesnt",
           ""
          ],
          [
           "dollar",
           ""
          ],
          [
           "door",
           ""
          ],
          [
           "drama",
           ""
          ],
          [
           "dramat",
           ""
          ],
          [
           "drastic",
           ""
          ],
          [
           "draw",
           ""
          ],
          [
           "drawn",
           ""
          ],
          [
           "drive",
           ""
          ],
          [
           "drop",
           ""
          ],
          [
           "dure",
           ""
          ],
          [
           "earli",
           ""
          ],
          [
           "earningsaccret",
           ""
          ],
          [
           "easier",
           ""
          ],
          [
           "echo",
           ""
          ],
          [
           "echostar",
           ""
          ],
          [
           "ecommerc",
           ""
          ],
          [
           "edg",
           ""
          ],
          [
           "editor",
           ""
          ],
          [
           "effect",
           ""
          ],
          [
           "effici",
           ""
          ],
          [
           "effort",
           ""
          ],
          [
           "eldest",
           ""
          ],
          [
           "element",
           ""
          ],
          [
           "elleza",
           ""
          ],
          [
           "ellison",
           ""
          ],
          [
           "elon",
           ""
          ],
          [
           "els",
           ""
          ],
          [
           "embroid",
           ""
          ],
          [
           "empir",
           ""
          ],
          [
           "employe",
           ""
          ],
          [
           "enabl",
           ""
          ],
          [
           "encourag",
           ""
          ],
          [
           "end",
           ""
          ],
          [
           "endur",
           ""
          ],
          [
           "english",
           ""
          ],
          [
           "enthusiasm",
           ""
          ],
          [
           "ephemer",
           ""
          ],
          [
           "equat",
           ""
          ],
          [
           "equiti",
           ""
          ],
          [
           "ergen",
           ""
          ],
          [
           "erod",
           ""
          ],
          [
           "essenti",
           ""
          ],
          [
           "europ",
           ""
          ],
          [
           "eventu",
           ""
          ],
          [
           "everyth",
           ""
          ],
          [
           "exampl",
           ""
          ],
          [
           "excess",
           ""
          ],
          [
           "excit",
           ""
          ],
          [
           "execut",
           ""
          ],
          [
           "exert",
           ""
          ],
          [
           "exhibit",
           ""
          ],
          [
           "expans",
           ""
          ],
          [
           "expens",
           ""
          ],
          [
           "explain",
           ""
          ],
          [
           "explor",
           ""
          ],
          [
           "explos",
           ""
          ],
          [
           "expos",
           ""
          ],
          [
           "extend",
           ""
          ],
          [
           "extract",
           ""
          ],
          [
           "eye",
           ""
          ],
          [
           "falcon",
           ""
          ],
          [
           "fall",
           ""
          ],
          [
           "famili",
           ""
          ],
          [
           "far",
           ""
          ],
          [
           "farfetch",
           ""
          ],
          [
           "farrar",
           ""
          ],
          [
           "fcc",
           ""
          ],
          [
           "fear",
           ""
          ],
          [
           "featur",
           ""
          ],
          [
           "feel",
           ""
          ],
          [
           "fellow",
           ""
          ],
          [
           "fetch",
           ""
          ],
          [
           "field",
           ""
          ],
          [
           "figur",
           ""
          ],
          [
           "final",
           ""
          ],
          [
           "financ",
           ""
          ],
          [
           "firm",
           ""
          ],
          [
           "firstfloor",
           ""
          ],
          [
           "fit",
           ""
          ],
          [
           "flawless",
           ""
          ],
          [
           "flight",
           ""
          ],
          [
           "floor",
           ""
          ],
          [
           "flow",
           ""
          ],
          [
           "flower",
           ""
          ],
          [
           "fluid",
           ""
          ],
          [
           "focus",
           ""
          ],
          [
           "follow",
           ""
          ],
          [
           "foot",
           "foot"
          ],
          [
           "footwear",
           ""
          ],
          [
           "form",
           ""
          ],
          [
           "formula",
           ""
          ],
          [
           "fortifi",
           ""
          ],
          [
           "founder",
           ""
          ],
          [
           "fox",
           "fox"
          ],
          [
           "frame",
           ""
          ],
          [
           "frank",
           ""
          ],
          [
           "free",
           ""
          ],
          [
           "freeman",
           ""
          ],
          [
           "french",
           ""
          ],
          [
           "frequenc",
           ""
          ],
          [
           "fuel",
           ""
          ],
          [
           "fulli",
           ""
          ],
          [
           "fullsiz",
           ""
          ],
          [
           "function",
           ""
          ],
          [
           "futur",
           ""
          ],
          [
           "g",
           ""
          ],
          [
           "gain",
           ""
          ],
          [
           "galleri",
           ""
          ],
          [
           "game",
           ""
          ],
          [
           "gather",
           ""
          ],
          [
           "gaze",
           ""
          ],
          [
           "gehri",
           ""
          ],
          [
           "generat",
           ""
          ],
          [
           "ghost",
           ""
          ],
          [
           "giant",
           ""
          ],
          [
           "gift",
           ""
          ],
          [
           "given",
           ""
          ],
          [
           "global",
           "global"
          ],
          [
           "globalstar",
           ""
          ],
          [
           "good",
           ""
          ],
          [
           "goto",
           ""
          ],
          [
           "grandfath",
           ""
          ],
          [
           "ground",
           ""
          ],
          [
           "grow",
           ""
          ],
          [
           "growth",
           ""
          ],
          [
           "guard",
           ""
          ],
          [
           "guess",
           ""
          ],
          [
           "guestim",
           ""
          ],
          [
           "guidanc",
           ""
          ],
          [
           "gulf",
           ""
          ],
          [
           "gymshark",
           ""
          ],
          [
           "half",
           ""
          ],
          [
           "halt",
           ""
          ],
          [
           "happen",
           ""
          ],
          [
           "har",
           ""
          ],
          [
           "harmoni",
           ""
          ],
          [
           "haul",
           ""
          ],
          [
           "hbos",
           ""
          ],
          [
           "head",
           ""
          ],
          [
           "heaven",
           ""
          ],
          [
           "heavi",
           ""
          ],
          [
           "heavili",
           ""
          ],
          [
           "hefti",
           ""
          ],
          [
           "heir",
           ""
          ],
          [
           "held",
           ""
          ],
          [
           "help",
           ""
          ],
          [
           "henri",
           ""
          ],
          [
           "hewitt",
           ""
          ],
          [
           "hire",
           ""
          ],
          [
           "histor",
           ""
          ],
          [
           "histori",
           ""
          ],
          [
           "hit",
           ""
          ],
          [
           "hobart",
           ""
          ],
          [
           "hope",
           ""
          ],
          [
           "hors",
           ""
          ],
          [
           "hous",
           ""
          ],
          [
           "hub",
           ""
          ],
          [
           "huge",
           ""
          ],
          [
           "hum",
           ""
          ],
          [
           "human",
           ""
          ],
          [
           "hunt",
           ""
          ],
          [
           "ident",
           ""
          ],
          [
           "ideolog",
           ""
          ],
          [
           "im",
           ""
          ],
          [
           "imag",
           ""
          ],
          [
           "imagin",
           ""
          ],
          [
           "immers",
           ""
          ],
          [
           "impresario",
           ""
          ],
          [
           "improb",
           ""
          ],
          [
           "improv",
           ""
          ],
          [
           "includ",
           ""
          ],
          [
           "incoher",
           ""
          ],
          [
           "increas",
           ""
          ],
          [
           "inde",
           ""
          ],
          [
           "independ",
           ""
          ],
          [
           "infight",
           ""
          ],
          [
           "infinit",
           ""
          ],
          [
           "inform",
           ""
          ],
          [
           "inhous",
           ""
          ],
          [
           "initi",
           ""
          ],
          [
           "instal",
           ""
          ],
          [
           "instead",
           ""
          ],
          [
           "integr",
           ""
          ],
          [
           "interact",
           ""
          ],
          [
           "internet",
           ""
          ],
          [
           "invad",
           ""
          ],
          [
           "inventori",
           ""
          ],
          [
           "invest",
           ""
          ],
          [
           "invit",
           ""
          ],
          [
           "isnt",
           ""
          ],
          [
           "jamal",
           ""
          ],
          [
           "jame",
           ""
          ],
          [
           "jeopard",
           ""
          ],
          [
           "joint",
           ""
          ],
          [
           "june",
           ""
          ],
          [
           "kelley",
           ""
          ],
          [
           "kick",
           ""
          ],
          [
           "kid",
           ""
          ],
          [
           "kind",
           ""
          ],
          [
           "king",
           ""
          ],
          [
           "know",
           ""
          ],
          [
           "known",
           ""
          ],
          [
           "kuwait",
           ""
          ],
          [
           "kuwaitborn",
           ""
          ],
          [
           "labor",
           ""
          ],
          [
           "lachlan",
           "lachlan"
          ],
          [
           "lag",
           ""
          ],
          [
           "land",
           ""
          ],
          [
           "landscap",
           ""
          ],
          [
           "larg",
           ""
          ],
          [
           "larger",
           ""
          ],
          [
           "largescal",
           ""
          ],
          [
           "latest",
           ""
          ],
          [
           "launch",
           "launch"
          ],
          [
           "lauren",
           ""
          ],
          [
           "lawsuit",
           ""
          ],
          [
           "leadership",
           ""
          ],
          [
           "lean",
           ""
          ],
          [
           "leas",
           ""
          ],
          [
           "leav",
           ""
          ],
          [
           "led",
           ""
          ],
          [
           "left",
           ""
          ],
          [
           "legaci",
           ""
          ],
          [
           "lesli",
           ""
          ],
          [
           "letter",
           ""
          ],
          [
           "leverag",
           ""
          ],
          [
           "licens",
           ""
          ],
          [
           "lie",
           ""
          ],
          [
           "lifepartn",
           ""
          ],
          [
           "lift",
           ""
          ],
          [
           "light",
           ""
          ],
          [
           "lightfil",
           ""
          ],
          [
           "like",
           "like"
          ],
          [
           "likewis",
           ""
          ],
          [
           "limb",
           ""
          ],
          [
           "limin",
           ""
          ],
          [
           "limitededit",
           ""
          ],
          [
           "link",
           ""
          ],
          [
           "load",
           ""
          ],
          [
           "loan",
           ""
          ],
          [
           "lockdown",
           ""
          ],
          [
           "locker",
           "locker"
          ],
          [
           "logo",
           ""
          ],
          [
           "long",
           ""
          ],
          [
           "longawait",
           ""
          ],
          [
           "longcovet",
           ""
          ],
          [
           "longterm",
           ""
          ],
          [
           "look",
           ""
          ],
          [
           "los",
           ""
          ],
          [
           "lost",
           ""
          ],
          [
           "lot",
           ""
          ],
          [
           "love",
           ""
          ],
          [
           "lowearth",
           ""
          ],
          [
           "lower",
           ""
          ],
          [
           "lululemon",
           ""
          ],
          [
           "ma",
           ""
          ],
          [
           "machin",
           ""
          ],
          [
           "magnifi",
           ""
          ],
          [
           "main",
           ""
          ],
          [
           "make",
           "make"
          ],
          [
           "man",
           ""
          ],
          [
           "manufactur",
           ""
          ],
          [
           "marc",
           ""
          ],
          [
           "margin",
           ""
          ],
          [
           "markdown",
           ""
          ],
          [
           "market",
           ""
          ],
          [
           "master",
           ""
          ],
          [
           "mayb",
           ""
          ],
          [
           "meaning",
           ""
          ],
          [
           "meantim",
           ""
          ],
          [
           "meanwhil",
           ""
          ],
          [
           "media",
           ""
          ],
          [
           "megahertz",
           ""
          ],
          [
           "memori",
           ""
          ],
          [
           "merg",
           ""
          ],
          [
           "merger",
           ""
          ],
          [
           "messag",
           ""
          ],
          [
           "messi",
           ""
          ],
          [
           "met",
           ""
          ],
          [
           "metaphor",
           ""
          ],
          [
           "middl",
           ""
          ],
          [
           "mini",
           ""
          ],
          [
           "miss",
           ""
          ],
          [
           "misstep",
           ""
          ],
          [
           "mobil",
           ""
          ],
          [
           "model",
           ""
          ],
          [
           "moffettnathanson",
           ""
          ],
          [
           "momentum",
           ""
          ],
          [
           "monday",
           ""
          ],
          [
           "monira",
           ""
          ],
          [
           "monkey",
           ""
          ],
          [
           "month",
           ""
          ],
          [
           "monument",
           ""
          ],
          [
           "moot",
           ""
          ],
          [
           "morn",
           ""
          ],
          [
           "motiv",
           ""
          ],
          [
           "mountain",
           ""
          ],
          [
           "murdoch",
           "murdoch"
          ],
          [
           "muse",
           ""
          ],
          [
           "museum",
           ""
          ],
          [
           "musk",
           ""
          ],
          [
           "myriad",
           ""
          ],
          [
           "nahham",
           ""
          ],
          [
           "narrat",
           ""
          ],
          [
           "narrow",
           ""
          ],
          [
           "nascent",
           ""
          ],
          [
           "nation",
           ""
          ],
          [
           "natur",
           ""
          ],
          [
           "near",
           ""
          ],
          [
           "necessarili",
           ""
          ],
          [
           "need",
           ""
          ],
          [
           "negoti",
           ""
          ],
          [
           "new",
           "new"
          ],
          [
           "newfound",
           ""
          ],
          [
           "news",
           "news"
          ],
          [
           "newspap",
           ""
          ],
          [
           "nextgener",
           ""
          ],
          [
           "nibbl",
           ""
          ],
          [
           "nice",
           ""
          ],
          [
           "nike",
           ""
          ],
          [
           "nonetheless",
           ""
          ],
          [
           "north",
           ""
          ],
          [
           "notion",
           ""
          ],
          [
           "nowher",
           ""
          ],
          [
           "number",
           ""
          ],
          [
           "obscur",
           ""
          ],
          [
           "observ",
           ""
          ],
          [
           "octob",
           ""
          ],
          [
           "offer",
           ""
          ],
          [
           "offici",
           ""
          ],
          [
           "omnichannel",
           ""
          ],
          [
           "onc",
           ""
          ],
          [
           "onli",
           "onli"
          ],
          [
           "open",
           ""
          ],
          [
           "opportun",
           ""
          ],
          [
           "option",
           ""
          ],
          [
           "orbit",
           ""
          ],
          [
           "organ",
           ""
          ],
          [
           "origin",
           ""
          ],
          [
           "outer",
           ""
          ],
          [
           "outsid",
           ""
          ],
          [
           "overflow",
           ""
          ],
          [
           "overse",
           ""
          ],
          [
           "oversea",
           ""
          ],
          [
           "overus",
           ""
          ],
          [
           "paint",
           ""
          ],
          [
           "paper",
           ""
          ],
          [
           "paramount",
           ""
          ],
          [
           "parent",
           ""
          ],
          [
           "parisian",
           ""
          ],
          [
           "park",
           ""
          ],
          [
           "partner",
           ""
          ],
          [
           "patriarch",
           ""
          ],
          [
           "paul",
           ""
          ],
          [
           "paula",
           ""
          ],
          [
           "pave",
           ""
          ],
          [
           "pay",
           ""
          ],
          [
           "payload",
           ""
          ],
          [
           "pearl",
           ""
          ],
          [
           "percept",
           ""
          ],
          [
           "perfect",
           ""
          ],
          [
           "perform",
           ""
          ],
          [
           "perhap",
           ""
          ],
          [
           "period",
           ""
          ],
          [
           "perrotin",
           ""
          ],
          [
           "phantom",
           ""
          ],
          [
           "philip",
           ""
          ],
          [
           "phone",
           ""
          ],
          [
           "phonehack",
           ""
          ],
          [
           "photograph",
           ""
          ],
          [
           "photographi",
           ""
          ],
          [
           "phrase",
           ""
          ],
          [
           "picasso",
           "picasso"
          ],
          [
           "picassopari",
           ""
          ],
          [
           "pictur",
           ""
          ],
          [
           "pile",
           ""
          ],
          [
           "pipe",
           ""
          ],
          [
           "place",
           ""
          ],
          [
           "placement",
           ""
          ],
          [
           "plan",
           ""
          ],
          [
           "platform",
           ""
          ],
          [
           "playbook",
           ""
          ],
          [
           "pleasur",
           ""
          ],
          [
           "plenti",
           ""
          ],
          [
           "plus",
           ""
          ],
          [
           "poetic",
           ""
          ],
          [
           "point",
           ""
          ],
          [
           "polit",
           ""
          ],
          [
           "poor",
           ""
          ],
          [
           "posit",
           ""
          ],
          [
           "possibl",
           ""
          ],
          [
           "post",
           ""
          ],
          [
           "postcard",
           ""
          ],
          [
           "postoil",
           ""
          ],
          [
           "power",
           ""
          ],
          [
           "predict",
           ""
          ],
          [
           "premium",
           ""
          ],
          [
           "present",
           ""
          ],
          [
           "press",
           ""
          ],
          [
           "pressur",
           ""
          ],
          [
           "pretti",
           ""
          ],
          [
           "previous",
           ""
          ],
          [
           "price",
           ""
          ],
          [
           "print",
           ""
          ],
          [
           "privat",
           ""
          ],
          [
           "prize",
           ""
          ],
          [
           "problem",
           ""
          ],
          [
           "procur",
           ""
          ],
          [
           "professor",
           ""
          ],
          [
           "profit",
           ""
          ],
          [
           "project",
           ""
          ],
          [
           "promis",
           ""
          ],
          [
           "prospect",
           ""
          ],
          [
           "prove",
           ""
          ],
          [
           "provid",
           ""
          ],
          [
           "pull",
           ""
          ],
          [
           "purchas",
           ""
          ],
          [
           "pursu",
           ""
          ],
          [
           "push",
           ""
          ],
          [
           "qadiri",
           ""
          ],
          [
           "qualiti",
           ""
          ],
          [
           "quarter",
           ""
          ],
          [
           "quartercenturi",
           ""
          ],
          [
           "quasishakespearean",
           ""
          ],
          [
           "question",
           ""
          ],
          [
           "quiet",
           ""
          ],
          [
           "quilti",
           ""
          ],
          [
           "quiver",
           ""
          ],
          [
           "radic",
           ""
          ],
          [
           "radiofrequ",
           ""
          ],
          [
           "rang",
           ""
          ],
          [
           "reach",
           ""
          ],
          [
           "readi",
           ""
          ],
          [
           "readymad",
           ""
          ],
          [
           "realiz",
           ""
          ],
          [
           "realli",
           ""
          ],
          [
           "reallif",
           ""
          ],
          [
           "recent",
           ""
          ],
          [
           "recombin",
           ""
          ],
          [
           "redefin",
           ""
          ],
          [
           "reduct",
           ""
          ],
          [
           "regular",
           ""
          ],
          [
           "reimagin",
           ""
          ],
          [
           "reinforc",
           ""
          ],
          [
           "reinvent",
           ""
          ],
          [
           "reject",
           ""
          ],
          [
           "relat",
           ""
          ],
          [
           "relationship",
           ""
          ],
          [
           "relay",
           ""
          ],
          [
           "relianc",
           ""
          ],
          [
           "remain",
           ""
          ],
          [
           "remot",
           ""
          ],
          [
           "renown",
           ""
          ],
          [
           "report",
           ""
          ],
          [
           "represent",
           ""
          ],
          [
           "research",
           ""
          ],
          [
           "reshap",
           ""
          ],
          [
           "resolv",
           ""
          ],
          [
           "resourc",
           ""
          ],
          [
           "respond",
           ""
          ],
          [
           "restor",
           ""
          ],
          [
           "result",
           ""
          ],
          [
           "retail",
           ""
          ],
          [
           "retain",
           ""
          ],
          [
           "return",
           ""
          ],
          [
           "reusabl",
           ""
          ],
          [
           "reveal",
           ""
          ],
          [
           "revenu",
           ""
          ],
          [
           "review",
           ""
          ],
          [
           "reviv",
           ""
          ],
          [
           "revoc",
           ""
          ],
          [
           "rhombus",
           ""
          ],
          [
           "rhythmic",
           ""
          ],
          [
           "riff",
           ""
          ],
          [
           "right",
           ""
          ],
          [
           "rival",
           ""
          ],
          [
           "rocket",
           ""
          ],
          [
           "roll",
           ""
          ],
          [
           "rough",
           ""
          ],
          [
           "round",
           ""
          ],
          [
           "run",
           ""
          ],
          [
           "rupert",
           ""
          ],
          [
           "ruptur",
           ""
          ],
          [
           "saga",
           ""
          ],
          [
           "said",
           "said"
          ],
          [
           "sale",
           ""
          ],
          [
           "satellit",
           "satellit"
          ],
          [
           "saw",
           ""
          ],
          [
           "scale",
           ""
          ],
          [
           "scandal",
           ""
          ],
          [
           "scenario",
           ""
          ],
          [
           "scenic",
           ""
          ],
          [
           "sculptur",
           ""
          ],
          [
           "season",
           ""
          ],
          [
           "secondgener",
           ""
          ],
          [
           "secur",
           ""
          ],
          [
           "seen",
           ""
          ],
          [
           "sell",
           ""
          ],
          [
           "sensual",
           ""
          ],
          [
           "sent",
           ""
          ],
          [
           "separ",
           ""
          ],
          [
           "seri",
           ""
          ],
          [
           "serv",
           ""
          ],
          [
           "servic",
           ""
          ],
          [
           "set",
           ""
          ],
          [
           "setback",
           ""
          ],
          [
           "sharpen",
           ""
          ],
          [
           "shelv",
           ""
          ],
          [
           "showcas",
           ""
          ],
          [
           "sibl",
           ""
          ],
          [
           "signal",
           ""
          ],
          [
           "signific",
           ""
          ],
          [
           "silkscreen",
           ""
          ],
          [
           "similar",
           ""
          ],
          [
           "simultan",
           ""
          ],
          [
           "singer",
           ""
          ],
          [
           "singl",
           ""
          ],
          [
           "sky",
           ""
          ],
          [
           "skydanc",
           ""
          ],
          [
           "slight",
           ""
          ],
          [
           "smaller",
           ""
          ],
          [
           "smart",
           ""
          ],
          [
           "smooth",
           ""
          ],
          [
           "sneaker",
           ""
          ],
          [
           "sneakerhead",
           ""
          ],
          [
           "societi",
           ""
          ],
          [
           "soft",
           ""
          ],
          [
           "solo",
           ""
          ],
          [
           "someth",
           ""
          ],
          [
           "son",
           ""
          ],
          [
           "song",
           ""
          ],
          [
           "sophist",
           ""
          ],
          [
           "sort",
           ""
          ],
          [
           "sound",
           ""
          ],
          [
           "space",
           "space"
          ],
          [
           "spacetoground",
           ""
          ],
          [
           "spacex",
           "spacex"
          ],
          [
           "spanish",
           ""
          ],
          [
           "spectacular",
           ""
          ],
          [
           "spectrum",
           "spectrum"
          ],
          [
           "specul",
           ""
          ],
          [
           "split",
           ""
          ],
          [
           "sport",
           "sport"
          ],
          [
           "st",
           ""
          ],
          [
           "stabil",
           ""
          ],
          [
           "staff",
           ""
          ],
          [
           "stamp",
           ""
          ],
          [
           "standalon",
           ""
          ],
          [
           "star",
           ""
          ],
          [
           "starlink",
           ""
          ],
          [
           "starship",
           "starship"
          ],
          [
           "start",
           ""
          ],
          [
           "static",
           ""
          ],
          [
           "stay",
           ""
          ],
          [
           "step",
           ""
          ],
          [
           "stock",
           ""
          ],
          [
           "store",
           ""
          ],
          [
           "storel",
           ""
          ],
          [
           "stori",
           ""
          ],
          [
           "straight",
           ""
          ],
          [
           "strategi",
           ""
          ],
          [
           "streak",
           ""
          ],
          [
           "street",
           ""
          ],
          [
           "strength",
           ""
          ],
          [
           "stress",
           ""
          ],
          [
           "strong",
           ""
          ],
          [
           "structur",
           ""
          ],
          [
           "struggl",
           ""
          ],
          [
           "stumbl",
           ""
          ],
          [
           "subt",
           ""
          ],
          [
           "subtl",
           ""
          ],
          [
           "subvert",
           ""
          ],
          [
           "success",
           ""
          ],
          [
           "sudden",
           ""
          ],
          [
           "suffer",
           ""
          ],
          [
           "summer",
           ""
          ],
          [
           "sun",
           ""
          ],
          [
           "sunday",
           ""
          ],
          [
           "supermodern",
           ""
          ],
          [
           "surfac",
           ""
          ],
          [
           "surpris",
           ""
          ],
          [
           "surrend",
           ""
          ],
          [
           "swim",
           ""
          ],
          [
           "swimmer",
           ""
          ],
          [
           "synonym",
           ""
          ],
          [
           "tabl",
           ""
          ],
          [
           "tag",
           ""
          ],
          [
           "tailor",
           ""
          ],
          [
           "takeov",
           ""
          ],
          [
           "talent",
           ""
          ],
          [
           "talk",
           ""
          ],
          [
           "tap",
           ""
          ],
          [
           "target",
           ""
          ],
          [
           "tariff",
           ""
          ],
          [
           "team",
           ""
          ],
          [
           "tech",
           ""
          ],
          [
           "telecom",
           ""
          ],
          [
           "tension",
           ""
          ],
          [
           "terrestri",
           ""
          ],
          [
           "test",
           ""
          ],
          [
           "text",
           ""
          ],
          [
           "th",
           ""
          ],
          [
           "theyr",
           ""
          ],
          [
           "thing",
           ""
          ],
          [
           "think",
           ""
          ],
          [
           "thought",
           ""
          ],
          [
           "throughput",
           ""
          ],
          [
           "tim",
           ""
          ],
          [
           "time",
           "time"
          ],
          [
           "tire",
           ""
          ],
          [
           "titl",
           ""
          ],
          [
           "tmobil",
           ""
          ],
          [
           "togeth",
           ""
          ],
          [
           "tokyo",
           ""
          ],
          [
           "ton",
           ""
          ],
          [
           "took",
           ""
          ],
          [
           "toptier",
           ""
          ],
          [
           "total",
           ""
          ],
          [
           "touch",
           ""
          ],
          [
           "tout",
           ""
          ],
          [
           "tower",
           ""
          ],
          [
           "tradit",
           ""
          ],
          [
           "transmiss",
           ""
          ],
          [
           "travel",
           ""
          ],
          [
           "tremul",
           ""
          ],
          [
           "trepid",
           ""
          ],
          [
           "tri",
           ""
          ],
          [
           "trigger",
           ""
          ],
          [
           "trio",
           ""
          ],
          [
           "tuesday",
           ""
          ],
          [
           "turn",
           ""
          ],
          [
           "tv",
           ""
          ],
          [
           "twothird",
           ""
          ],
          [
           "uk",
           ""
          ],
          [
           "uncertain",
           ""
          ],
          [
           "undisput",
           ""
          ],
          [
           "undul",
           ""
          ],
          [
           "unlik",
           ""
          ],
          [
           "unlock",
           ""
          ],
          [
           "unusu",
           ""
          ],
          [
           "upheav",
           ""
          ],
          [
           "uscentr",
           ""
          ],
          [
           "use",
           "use"
          ],
          [
           "v",
           ""
          ],
          [
           "valu",
           ""
          ],
          [
           "valuat",
           ""
          ],
          [
           "veil",
           ""
          ],
          [
           "version",
           ""
          ],
          [
           "video",
           ""
          ],
          [
           "view",
           ""
          ],
          [
           "viewer",
           ""
          ],
          [
           "wait",
           ""
          ],
          [
           "walkthrough",
           ""
          ],
          [
           "wall",
           ""
          ],
          [
           "want",
           ""
          ],
          [
           "water",
           ""
          ],
          [
           "way",
           ""
          ],
          [
           "weak",
           ""
          ],
          [
           "wealthi",
           ""
          ],
          [
           "wed",
           ""
          ],
          [
           "week",
           ""
          ],
          [
           "welcom",
           ""
          ],
          [
           "went",
           ""
          ],
          [
           "werent",
           ""
          ],
          [
           "wholesal",
           ""
          ],
          [
           "wider",
           ""
          ],
          [
           "wildcard",
           ""
          ],
          [
           "willing",
           ""
          ],
          [
           "wireless",
           ""
          ],
          [
           "withstand",
           ""
          ],
          [
           "woman",
           ""
          ],
          [
           "womanlik",
           ""
          ],
          [
           "women",
           ""
          ],
          [
           "wooden",
           ""
          ],
          [
           "work",
           "work"
          ],
          [
           "worker",
           ""
          ],
          [
           "workhors",
           ""
          ],
          [
           "worldview",
           ""
          ],
          [
           "wors",
           ""
          ],
          [
           "wouldnt",
           ""
          ],
          [
           "woven",
           ""
          ],
          [
           "wrench",
           ""
          ],
          [
           "writer",
           ""
          ],
          [
           "wrong",
           ""
          ],
          [
           "wss",
           ""
          ],
          [
           "x",
           ""
          ],
          [
           "yale",
           ""
          ],
          [
           "year",
           "year"
          ],
          [
           "yield",
           ""
          ],
          [
           "york",
           ""
          ],
          [
           "younger",
           ""
          ],
          [
           "zone",
           ""
          ]
         ],
         "hovertemplate": "dominant_topic=1_spacex_said_locker_foot<br>frequency=%{marker.size}<br>word=%{customdata[0]}<extra></extra>",
         "legendgroup": "1_spacex_said_locker_foot",
         "marker": {
          "color": "#636efa",
          "size": {
           "bdata": "AQECAQEBBAICBAEBAQEBAQIEAQEBAQMBAQICAQEIAQEEAQECBAEBAQECAQIDAQEBAQEBAQEGAQEBAQECAQEBAgEBAQEBAQEBAgEBAQECAQEBCQQCAQEBAQEBBgEJAgEBAgEBAgEBAQUBAgIBAwIBAQMCBAgBAQMBAQEBAQICAgEBAQIBAQMBAQMBAQEBAQIEAQEBAQECAQECBAEBAQEDAQQBGAEBAQEBAQEDAQICAQIBAQEBCQICAQEBAgoBBAEBAQIBBwIBBQECAgMBBAEDAQEBAQEJAgIBAgMBAQEBAgEBBgEBAhMBAQMFAQMCAQICAQEBBAEBAQEBAQECAQECAQIBAgEBAQEFAQEBAgIBAQEBAQEBAgUDAwEBAQEBAQEBAQEBAQEBAQIBAwEHAQECBAEBAQEBBAEFBAEDAQEBAgEBAQEEAQEBAQECAgEBAQEBFgICAQEBCQIBAQECAQIBAQEBAQECAQEBAQMBBAECCQEEAQEBAgEBAQEBAQEBAQEBAQEBAQEBAwEBAQMFBAEBAgUBAQEBAQIBAQEBAQIBAgEBAQIDAQEBAwEBAgEEAgIBAQIBBAEDAgECAQEBAQIBBwEBAQEBAQgBAQIBAQEBCwEBBQMBAgEDAQEBAQEBAQIEAQkBAQEBAwEBARYBAwEBAQYBAgMBAwEDAQEBAQgBAQEDAQcBAQEBAgMBAwEDAQEBAQEBAgEDAQEBAQEBAQEBAQIBCAIGBgECBAECAQUBAQUCFAELAQEBAQQBAQECAgEDAQIBAgIIAQEBBAEBAQIBAgEBAgEBAgEBAQEBAQICAgQBAQIBAgMCAQQBBwEBCAEBAQEFAQMEAgIBAQECAgEFAgEBAQUBAQMBBQEBBAEBAQEBAQIBBQMDBQEBAQQEAQEBAQUCAQEBAgMCAQEBAwEDAQEBAgICAQEBBQECBQEBAgEDAQEBAQECBwECAgEBAgEBAQEBAwMFAQEBAQUBARYCDQEDAQEBAgEBAwICAQEDAwEGBAEBAQECAgEBAQECAQEBAQMBAQMBAQIBAQECAQEBCAEVAQEKAgEJAQIBAQEBAQoEAQIDBAQBAQEBAQICAQEBAgEBAQEDAQEBAQIBAwIBAwEBAQECAQEBAgIBAgEDAQMHAgEBAgcBAQELAQMCAwEDAQECAgEBAwEBAwECAQEBAQEBAgEBAQMBAQEBCgMDAwEDAQECAQIDBAIFAgEBAQEBAQEBAQECAQEBAQEKAQEBAQEBAQEBAQEBCwEFAQE=",
           "dtype": "i1"
          },
          "sizemode": "area",
          "sizeref": 0.003,
          "symbol": "circle"
         },
         "mode": "markers+text",
         "name": "1_spacex_said_locker_foot",
         "showlegend": true,
         "text": [
          "",
          "",
          "",
          "",
          "",
          "",
          "",
          "",
          "",
          "",
          "",
          "",
          "",
          "",
          "",
          "",
          "",
          "",
          "",
          "",
          "",
          "",
          "",
          "",
          "",
          "",
          "",
          "",
          "",
          "analyst",
          "",
          "",
          "",
          "",
          "",
          "",
          "",
          "",
          "",
          "",
          "",
          "",
          "",
          "",
          "",
          "",
          "",
          "",
          "",
          "",
          "",
          "",
          "",
          "",
          "",
          "",
          "",
          "",
          "",
          "",
          "",
          "",
          "",
          "",
          "",
          "",
          "",
          "",
          "",
          "",
          "",
          "",
          "",
          "",
          "",
          "",
          "",
          "",
          "",
          "",
          "",
          "becaus",
          "",
          "",
          "",
          "",
          "",
          "",
          "",
          "",
          "",
          "",
          "billion",
          "",
          "",
          "",
          "",
          "",
          "",
          "",
          "",
          "",
          "",
          "",
          "",
          "",
          "",
          "",
          "",
          "",
          "",
          "",
          "",
          "",
          "",
          "busi",
          "",
          "",
          "",
          "",
          "",
          "",
          "",
          "",
          "",
          "",
          "",
          "",
          "",
          "",
          "",
          "",
          "",
          "",
          "",
          "",
          "",
          "",
          "",
          "",
          "",
          "",
          "",
          "",
          "",
          "",
          "",
          "",
          "",
          "",
          "",
          "",
          "",
          "",
          "",
          "",
          "",
          "",
          "",
          "",
          "",
          "",
          "compani",
          "",
          "",
          "",
          "",
          "",
          "",
          "",
          "",
          "",
          "",
          "",
          "",
          "",
          "",
          "",
          "",
          "",
          "continu",
          "",
          "",
          "",
          "",
          "",
          "",
          "corp",
          "",
          "",
          "",
          "",
          "",
          "",
          "",
          "",
          "",
          "",
          "",
          "",
          "",
          "",
          "",
          "",
          "",
          "",
          "",
          "",
          "",
          "",
          "",
          "",
          "deal",
          "",
          "",
          "",
          "",
          "",
          "",
          "",
          "",
          "",
          "",
          "",
          "",
          "",
          "",
          "",
          "",
          "dick",
          "",
          "",
          "",
          "",
          "",
          "",
          "",
          "",
          "",
          "",
          "",
          "",
          "",
          "",
          "",
          "",
          "",
          "",
          "",
          "",
          "",
          "",
          "",
          "",
          "",
          "",
          "",
          "",
          "",
          "",
          "",
          "",
          "",
          "",
          "",
          "",
          "",
          "",
          "",
          "",
          "",
          "",
          "",
          "",
          "",
          "",
          "",
          "",
          "",
          "",
          "",
          "",
          "",
          "",
          "",
          "",
          "",
          "",
          "",
          "",
          "",
          "",
          "",
          "",
          "",
          "",
          "",
          "",
          "",
          "",
          "",
          "",
          "",
          "",
          "",
          "",
          "",
          "",
          "",
          "",
          "",
          "",
          "",
          "",
          "",
          "",
          "",
          "",
          "",
          "",
          "",
          "",
          "",
          "",
          "",
          "",
          "",
          "",
          "",
          "",
          "",
          "",
          "",
          "",
          "",
          "",
          "foot",
          "",
          "",
          "",
          "",
          "",
          "fox",
          "",
          "",
          "",
          "",
          "",
          "",
          "",
          "",
          "",
          "",
          "",
          "",
          "",
          "",
          "",
          "",
          "",
          "",
          "",
          "",
          "",
          "",
          "",
          "global",
          "",
          "",
          "",
          "",
          "",
          "",
          "",
          "",
          "",
          "",
          "",
          "",
          "",
          "",
          "",
          "",
          "",
          "",
          "",
          "",
          "",
          "",
          "",
          "",
          "",
          "",
          "",
          "",
          "",
          "",
          "",
          "",
          "",
          "",
          "",
          "",
          "",
          "",
          "",
          "",
          "",
          "",
          "",
          "",
          "",
          "",
          "",
          "",
          "",
          "",
          "",
          "",
          "",
          "",
          "",
          "",
          "",
          "",
          "",
          "",
          "",
          "",
          "",
          "",
          "",
          "",
          "",
          "",
          "",
          "",
          "",
          "",
          "",
          "",
          "",
          "",
          "",
          "",
          "",
          "",
          "",
          "",
          "",
          "",
          "",
          "",
          "",
          "lachlan",
          "",
          "",
          "",
          "",
          "",
          "",
          "",
          "launch",
          "",
          "",
          "",
          "",
          "",
          "",
          "",
          "",
          "",
          "",
          "",
          "",
          "",
          "",
          "",
          "",
          "",
          "",
          "like",
          "",
          "",
          "",
          "",
          "",
          "",
          "",
          "",
          "locker",
          "",
          "",
          "",
          "",
          "",
          "",
          "",
          "",
          "",
          "",
          "",
          "",
          "",
          "",
          "",
          "",
          "",
          "make",
          "",
          "",
          "",
          "",
          "",
          "",
          "",
          "",
          "",
          "",
          "",
          "",
          "",
          "",
          "",
          "",
          "",
          "",
          "",
          "",
          "",
          "",
          "",
          "",
          "",
          "",
          "",
          "",
          "",
          "",
          "",
          "",
          "",
          "",
          "",
          "",
          "",
          "murdoch",
          "",
          "",
          "",
          "",
          "",
          "",
          "",
          "",
          "",
          "",
          "",
          "",
          "",
          "",
          "new",
          "",
          "news",
          "",
          "",
          "",
          "",
          "",
          "",
          "",
          "",
          "",
          "",
          "",
          "",
          "",
          "",
          "",
          "",
          "",
          "onli",
          "",
          "",
          "",
          "",
          "",
          "",
          "",
          "",
          "",
          "",
          "",
          "",
          "",
          "",
          "",
          "",
          "",
          "",
          "",
          "",
          "",
          "",
          "",
          "",
          "",
          "",
          "",
          "",
          "",
          "",
          "",
          "",
          "",
          "",
          "",
          "",
          "",
          "",
          "",
          "picasso",
          "",
          "",
          "",
          "",
          "",
          "",
          "",
          "",
          "",
          "",
          "",
          "",
          "",
          "",
          "",
          "",
          "",
          "",
          "",
          "",
          "",
          "",
          "",
          "",
          "",
          "",
          "",
          "",
          "",
          "",
          "",
          "",
          "",
          "",
          "",
          "",
          "",
          "",
          "",
          "",
          "",
          "",
          "",
          "",
          "",
          "",
          "",
          "",
          "",
          "",
          "",
          "",
          "",
          "",
          "",
          "",
          "",
          "",
          "",
          "",
          "",
          "",
          "",
          "",
          "",
          "",
          "",
          "",
          "",
          "",
          "",
          "",
          "",
          "",
          "",
          "",
          "",
          "",
          "",
          "",
          "",
          "",
          "",
          "",
          "",
          "",
          "",
          "",
          "",
          "",
          "",
          "",
          "",
          "",
          "",
          "",
          "",
          "",
          "",
          "",
          "",
          "",
          "",
          "",
          "",
          "",
          "",
          "",
          "",
          "",
          "",
          "said",
          "",
          "satellit",
          "",
          "",
          "",
          "",
          "",
          "",
          "",
          "",
          "",
          "",
          "",
          "",
          "",
          "",
          "",
          "",
          "",
          "",
          "",
          "",
          "",
          "",
          "",
          "",
          "",
          "",
          "",
          "",
          "",
          "",
          "",
          "",
          "",
          "",
          "",
          "",
          "",
          "",
          "",
          "",
          "",
          "",
          "",
          "",
          "",
          "",
          "",
          "space",
          "",
          "spacex",
          "",
          "",
          "spectrum",
          "",
          "",
          "sport",
          "",
          "",
          "",
          "",
          "",
          "",
          "",
          "starship",
          "",
          "",
          "",
          "",
          "",
          "",
          "",
          "",
          "",
          "",
          "",
          "",
          "",
          "",
          "",
          "",
          "",
          "",
          "",
          "",
          "",
          "",
          "",
          "",
          "",
          "",
          "",
          "",
          "",
          "",
          "",
          "",
          "",
          "",
          "",
          "",
          "",
          "",
          "",
          "",
          "",
          "",
          "",
          "",
          "",
          "",
          "",
          "",
          "",
          "",
          "",
          "",
          "",
          "",
          "",
          "",
          "",
          "time",
          "",
          "",
          "",
          "",
          "",
          "",
          "",
          "",
          "",
          "",
          "",
          "",
          "",
          "",
          "",
          "",
          "",
          "",
          "",
          "",
          "",
          "",
          "",
          "",
          "",
          "",
          "",
          "",
          "",
          "",
          "",
          "",
          "",
          "use",
          "",
          "",
          "",
          "",
          "",
          "",
          "",
          "",
          "",
          "",
          "",
          "",
          "",
          "",
          "",
          "",
          "",
          "",
          "",
          "",
          "",
          "",
          "",
          "",
          "",
          "",
          "",
          "",
          "",
          "",
          "",
          "work",
          "",
          "",
          "",
          "",
          "",
          "",
          "",
          "",
          "",
          "",
          "",
          "",
          "year",
          "",
          "",
          "",
          ""
         ],
         "type": "scattergl",
         "x": {
          "bdata": "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",
          "dtype": "f4"
         },
         "xaxis": "x",
         "y": {
          "bdata": "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",
          "dtype": "f4"
         },
         "yaxis": "y"
        },
        {
         "customdata": [
          [
           "abroad",
           ""
          ],
          [
           "absenc",
           ""
          ],
          [
           "acceler",
           ""
          ],
          [
           "accept",
           ""
          ],
          [
           "access",
           ""
          ],
          [
           "accord",
           ""
          ],
          [
           "account",
           ""
          ],
          [
           "achiev",
           ""
          ],
          [
           "acknowledg",
           ""
          ],
          [
           "act",
           ""
          ],
          [
           "action",
           ""
          ],
          [
           "activ",
           ""
          ],
          [
           "ad",
           ""
          ],
          [
           "adapt",
           ""
          ],
          [
           "address",
           ""
          ],
          [
           "advoc",
           ""
          ],
          [
           "advocaci",
           ""
          ],
          [
           "africa",
           ""
          ],
          [
           "age",
           ""
          ],
          [
           "agenc",
           ""
          ],
          [
           "agenda",
           ""
          ],
          [
           "algal",
           ""
          ],
          [
           "alreadi",
           ""
          ],
          [
           "answer",
           ""
          ],
          [
           "anywher",
           ""
          ],
          [
           "applic",
           ""
          ],
          [
           "aquacultur",
           ""
          ],
          [
           "area",
           ""
          ],
          [
           "argu",
           ""
          ],
          [
           "asc",
           ""
          ],
          [
           "ask",
           ""
          ],
          [
           "assess",
           ""
          ],
          [
           "associ",
           ""
          ],
          [
           "assur",
           ""
          ],
          [
           "astonish",
           ""
          ],
          [
           "australia",
           ""
          ],
          [
           "avail",
           ""
          ],
          [
           "awar",
           ""
          ],
          [
           "bap",
           ""
          ],
          [
           "baromet",
           ""
          ],
          [
           "began",
           ""
          ],
          [
           "begin",
           ""
          ],
          [
           "best",
           ""
          ],
          [
           "bind",
           ""
          ],
          [
           "biodivers",
           "biodivers"
          ],
          [
           "bloom",
           ""
          ],
          [
           "board",
           ""
          ],
          [
           "bodi",
           ""
          ],
          [
           "brazil",
           ""
          ],
          [
           "buyer",
           ""
          ],
          [
           "campaign",
           "campaign"
          ],
          [
           "case",
           ""
          ],
          [
           "catch",
           ""
          ],
          [
           "caus",
           ""
          ],
          [
           "center",
           ""
          ],
          [
           "certif",
           "certif"
          ],
          [
           "certifi",
           ""
          ],
          [
           "chain",
           ""
          ],
          [
           "chair",
           ""
          ],
          [
           "challeng",
           ""
          ],
          [
           "chief",
           ""
          ],
          [
           "clear",
           ""
          ],
          [
           "climat",
           ""
          ],
          [
           "coast",
           ""
          ],
          [
           "cole",
           "cole"
          ],
          [
           "collaps",
           ""
          ],
          [
           "commit",
           ""
          ],
          [
           "communiti",
           ""
          ],
          [
           "complaint",
           "complaint"
          ],
          [
           "complet",
           ""
          ],
          [
           "complex",
           ""
          ],
          [
           "compound",
           ""
          ],
          [
           "concern",
           ""
          ],
          [
           "concret",
           ""
          ],
          [
           "conduct",
           ""
          ],
          [
           "confid",
           ""
          ],
          [
           "confirm",
           ""
          ],
          [
           "conflict",
           ""
          ],
          [
           "conserv",
           ""
          ],
          [
           "consum",
           ""
          ],
          [
           "corpor",
           ""
          ],
          [
           "council",
           ""
          ],
          [
           "cousin",
           ""
          ],
          [
           "csr",
           ""
          ],
          [
           "declin",
           ""
          ],
          [
           "despit",
           ""
          ],
          [
           "difficult",
           ""
          ],
          [
           "dilig",
           ""
          ],
          [
           "direct",
           ""
          ],
          [
           "director",
           ""
          ],
          [
           "disclos",
           ""
          ],
          [
           "disclosur",
           ""
          ],
          [
           "diseas",
           ""
          ],
          [
           "dismiss",
           ""
          ],
          [
           "disput",
           ""
          ],
          [
           "domin",
           ""
          ],
          [
           "drag",
           ""
          ],
          [
           "easi",
           ""
          ],
          [
           "ecolog",
           ""
          ],
          [
           "ecosystem",
           ""
          ],
          [
           "educ",
           ""
          ],
          [
           "endang",
           ""
          ],
          [
           "energysector",
           ""
          ],
          [
           "enforc",
           ""
          ],
          [
           "ensur",
           ""
          ],
          [
           "enterpris",
           ""
          ],
          [
           "environ",
           ""
          ],
          [
           "environment",
           ""
          ],
          [
           "escal",
           ""
          ],
          [
           "esg",
           ""
          ],
          [
           "ethic",
           ""
          ],
          [
           "event",
           ""
          ],
          [
           "everi",
           ""
          ],
          [
           "evolv",
           ""
          ],
          [
           "examin",
           ""
          ],
          [
           "exist",
           ""
          ],
          [
           "exit",
           ""
          ],
          [
           "expect",
           ""
          ],
          [
           "exposur",
           ""
          ],
          [
           "extinct",
           ""
          ],
          [
           "face",
           ""
          ],
          [
           "fail",
           ""
          ],
          [
           "failur",
           ""
          ],
          [
           "fallout",
           ""
          ],
          [
           "farm",
           ""
          ],
          [
           "fast",
           ""
          ],
          [
           "feder",
           ""
          ],
          [
           "feed",
           ""
          ],
          [
           "fight",
           ""
          ],
          [
           "file",
           ""
          ],
          [
           "filer",
           ""
          ],
          [
           "financi",
           ""
          ],
          [
           "fish",
           ""
          ],
          [
           "fix",
           ""
          ],
          [
           "flashpoint",
           ""
          ],
          [
           "forc",
           ""
          ],
          [
           "forefront",
           ""
          ],
          [
           "forese",
           ""
          ],
          [
           "fragil",
           ""
          ],
          [
           "framework",
           ""
          ],
          [
           "frustrat",
           ""
          ],
          [
           "fund",
           ""
          ],
          [
           "gambl",
           ""
          ],
          [
           "gap",
           ""
          ],
          [
           "geoff",
           ""
          ],
          [
           "globalgap",
           ""
          ],
          [
           "gone",
           ""
          ],
          [
           "govern",
           ""
          ],
          [
           "greater",
           ""
          ],
          [
           "green",
           ""
          ],
          [
           "grievanc",
           ""
          ],
          [
           "group",
           ""
          ],
          [
           "guidelin",
           ""
          ],
          [
           "halo",
           ""
          ],
          [
           "hand",
           ""
          ],
          [
           "handl",
           ""
          ],
          [
           "harbour",
           "harbour"
          ],
          [
           "harm",
           ""
          ],
          [
           "heart",
           ""
          ],
          [
           "heighten",
           ""
          ],
          [
           "heritag",
           ""
          ],
          [
           "higher",
           ""
          ],
          [
           "highest",
           ""
          ],
          [
           "highlight",
           ""
          ],
          [
           "illustr",
           ""
          ],
          [
           "impact",
           ""
          ],
          [
           "implic",
           ""
          ],
          [
           "import",
           ""
          ],
          [
           "indonesia",
           ""
          ],
          [
           "industri",
           ""
          ],
          [
           "influenc",
           ""
          ],
          [
           "ingredi",
           ""
          ],
          [
           "inquiri",
           ""
          ],
          [
           "institut",
           ""
          ],
          [
           "intergovernment",
           ""
          ],
          [
           "intern",
           ""
          ],
          [
           "intersect",
           ""
          ],
          [
           "intervent",
           ""
          ],
          [
           "interview",
           ""
          ],
          [
           "intrins",
           ""
          ],
          [
           "investor",
           "investor"
          ],
          [
           "issu",
           ""
          ],
          [
           "join",
           ""
          ],
          [
           "just",
           ""
          ],
          [
           "kelli",
           ""
          ],
          [
           "label",
           ""
          ],
          [
           "largest",
           ""
          ],
          [
           "lead",
           ""
          ],
          [
           "leader",
           ""
          ],
          [
           "legal",
           ""
          ],
          [
           "lend",
           ""
          ],
          [
           "level",
           ""
          ],
          [
           "limit",
           ""
          ],
          [
           "list",
           ""
          ],
          [
           "listen",
           ""
          ],
          [
           "litig",
           ""
          ],
          [
           "littl",
           ""
          ],
          [
           "live",
           ""
          ],
          [
           "local",
           ""
          ],
          [
           "lodg",
           ""
          ],
          [
           "longer",
           ""
          ],
          [
           "loss",
           ""
          ],
          [
           "macquari",
           ""
          ],
          [
           "major",
           ""
          ],
          [
           "manag",
           ""
          ],
          [
           "mark",
           ""
          ],
          [
           "mass",
           ""
          ],
          [
           "materi",
           ""
          ],
          [
           "matter",
           ""
          ],
          [
           "maugean",
           ""
          ],
          [
           "mean",
           ""
          ],
          [
           "measur",
           ""
          ],
          [
           "mechan",
           ""
          ],
          [
           "meet",
           ""
          ],
          [
           "member",
           ""
          ],
          [
           "million",
           ""
          ],
          [
           "minim",
           ""
          ],
          [
           "misl",
           ""
          ],
          [
           "mortal",
           ""
          ],
          [
           "multin",
           ""
          ],
          [
           "naturerel",
           ""
          ],
          [
           "naturerisk",
           ""
          ],
          [
           "navig",
           ""
          ],
          [
           "necessari",
           ""
          ],
          [
           "neglect",
           ""
          ],
          [
           "newli",
           ""
          ],
          [
           "ngo",
           ""
          ],
          [
           "ngos",
           ""
          ],
          [
           "note",
           ""
          ],
          [
           "noth",
           ""
          ],
          [
           "numer",
           ""
          ],
          [
           "oblig",
           ""
          ],
          [
           "ocean",
           ""
          ],
          [
           "oecd",
           ""
          ],
          [
           "oil",
           ""
          ],
          [
           "oper",
           ""
          ],
          [
           "outbreak",
           ""
          ],
          [
           "outcom",
           ""
          ],
          [
           "outstand",
           ""
          ],
          [
           "ownbrand",
           ""
          ],
          [
           "oxygen",
           ""
          ],
          [
           "palm",
           ""
          ],
          [
           "phoeb",
           ""
          ],
          [
           "planet",
           ""
          ],
          [
           "play",
           ""
          ],
          [
           "polici",
           ""
          ],
          [
           "popul",
           ""
          ],
          [
           "pose",
           ""
          ],
          [
           "potenti",
           ""
          ],
          [
           "practic",
           ""
          ],
          [
           "preced",
           ""
          ],
          [
           "prevent",
           ""
          ],
          [
           "proceed",
           ""
          ],
          [
           "process",
           ""
          ],
          [
           "product",
           ""
          ],
          [
           "progress",
           ""
          ],
          [
           "prompt",
           ""
          ],
          [
           "protect",
           ""
          ],
          [
           "provis",
           ""
          ],
          [
           "public",
           ""
          ],
          [
           "publish",
           ""
          ],
          [
           "quick",
           ""
          ],
          [
           "rais",
           ""
          ],
          [
           "rate",
           ""
          ],
          [
           "ray",
           ""
          ],
          [
           "real",
           ""
          ],
          [
           "realm",
           ""
          ],
          [
           "rebound",
           ""
          ],
          [
           "reckon",
           ""
          ],
          [
           "record",
           ""
          ],
          [
           "reduc",
           ""
          ],
          [
           "refer",
           ""
          ],
          [
           "referenc",
           ""
          ],
          [
           "reflect",
           ""
          ],
          [
           "refus",
           ""
          ],
          [
           "region",
           ""
          ],
          [
           "regul",
           ""
          ],
          [
           "regulatori",
           ""
          ],
          [
           "reli",
           ""
          ],
          [
           "remov",
           ""
          ],
          [
           "repres",
           ""
          ],
          [
           "reput",
           ""
          ],
          [
           "requir",
           ""
          ],
          [
           "resolut",
           ""
          ],
          [
           "respect",
           ""
          ],
          [
           "respons",
           "respons"
          ],
          [
           "revis",
           ""
          ],
          [
           "risk",
           "risk"
          ],
          [
           "roebuck",
           ""
          ],
          [
           "role",
           ""
          ],
          [
           "rountre",
           ""
          ],
          [
           "rug",
           ""
          ],
          [
           "ryan",
           ""
          ],
          [
           "salmon",
           "salmon"
          ],
          [
           "save",
           ""
          ],
          [
           "say",
           ""
          ],
          [
           "scheme",
           ""
          ],
          [
           "scienc",
           ""
          ],
          [
           "sciencepolici",
           ""
          ],
          [
           "scientif",
           ""
          ],
          [
           "scientist",
           ""
          ],
          [
           "seafood",
           ""
          ],
          [
           "second",
           ""
          ],
          [
           "senat",
           ""
          ],
          [
           "sentiment",
           ""
          ],
          [
           "share",
           ""
          ],
          [
           "sharehold",
           "sharehold"
          ],
          [
           "shield",
           ""
          ],
          [
           "shift",
           ""
          ],
          [
           "simpl",
           ""
          ],
          [
           "simpli",
           ""
          ],
          [
           "site",
           ""
          ],
          [
           "sitespecif",
           ""
          ],
          [
           "skate",
           "skate"
          ],
          [
           "slow",
           ""
          ],
          [
           "small",
           ""
          ],
          [
           "sophi",
           ""
          ],
          [
           "sourc",
           "sourc"
          ],
          [
           "soy",
           ""
          ],
          [
           "speci",
           "speci"
          ],
          [
           "spokesperson",
           ""
          ],
          [
           "stake",
           ""
          ],
          [
           "stakehold",
           ""
          ],
          [
           "standard",
           ""
          ],
          [
           "stark",
           ""
          ],
          [
           "stewardship",
           ""
          ],
          [
           "stop",
           ""
          ],
          [
           "studi",
           ""
          ],
          [
           "substitut",
           ""
          ],
          [
           "succeed",
           ""
          ],
          [
           "suggest",
           ""
          ],
          [
           "supermarket",
           ""
          ],
          [
           "suppli",
           "suppli"
          ],
          [
           "supplier",
           ""
          ],
          [
           "support",
           ""
          ],
          [
           "surviv",
           ""
          ],
          [
           "sustain",
           ""
          ],
          [
           "symbol",
           ""
          ],
          [
           "taskforc",
           ""
          ],
          [
           "tasmania",
           ""
          ],
          [
           "tasmanian",
           ""
          ],
          [
           "technolog",
           ""
          ],
          [
           "themselv",
           ""
          ],
          [
           "thirdparti",
           ""
          ],
          [
           "threaten",
           ""
          ],
          [
           "told",
           ""
          ],
          [
           "trade",
           ""
          ],
          [
           "transform",
           ""
          ],
          [
           "transpar",
           ""
          ],
          [
           "transport",
           ""
          ],
          [
           "treat",
           ""
          ],
          [
           "trust",
           ""
          ],
          [
           "unansw",
           ""
          ],
          [
           "uncertainti",
           ""
          ],
          [
           "underscor",
           ""
          ],
          [
           "undertaken",
           ""
          ],
          [
           "uniqu",
           ""
          ],
          [
           "univers",
           ""
          ],
          [
           "valid",
           ""
          ],
          [
           "verifi",
           ""
          ],
          [
           "vice",
           ""
          ],
          [
           "visibl",
           ""
          ],
          [
           "volatil",
           ""
          ],
          [
           "volum",
           ""
          ],
          [
           "voluntari",
           ""
          ],
          [
           "vote",
           ""
          ],
          [
           "warn",
           ""
          ],
          [
           "wave",
           ""
          ],
          [
           "welldocu",
           ""
          ],
          [
           "west",
           ""
          ],
          [
           "whi",
           ""
          ],
          [
           "wide",
           ""
          ],
          [
           "wildcaught",
           ""
          ],
          [
           "wilder",
           ""
          ],
          [
           "win",
           ""
          ],
          [
           "woolworth",
           "woolworth"
          ],
          [
           "world",
           ""
          ],
          [
           "worldwid",
           ""
          ],
          [
           "wwfcommiss",
           ""
          ]
         ],
         "hovertemplate": "dominant_topic=0_risk_biodivers_woolworth_investor<br>frequency=%{marker.size}<br>word=%{customdata[0]}<extra></extra>",
         "legendgroup": "0_risk_biodivers_woolworth_investor",
         "marker": {
          "color": "#EF553B",
          "size": {
           "bdata": "AQIBAgEBAgEBBwIEAQEDAQEBAQEBAQMCAQECBQQDAQUBAQIDAQECAQEBAgEXAQUCAQEIAgECAQgCBwEDAQIDAQsBAwEIBAEBBAEBAgEBAQMCAQEBAQMDAwIBAwEBAQEDAQECBAEEAQEDAQMEAwEBAgICAQEBAgEEBwcBAgcBAQECAQEFAQECAgEBAgEBAwEEAQEBBwECAgIDAQEBCAECAQIBAQEBBwECAQUCAQIBAQUCAgEBEQIBBQEEBAICAQEBAQECAwEEAwIDAgYCBgIBAgECAwEBAQUFAgEBAQEBAQEBAQECAgIBAQEHAgMBAQECAQEBAgQBAQEFAwIBAQIDAgEDAQMDAQUBAQIBAQEBAQEBAQEBAgEDAQQCAwYBCQIeAwECAQIMBAIDAwEBAQQCAQIBDQEFAQIBAQgBAgMMAQkCAgEFAQECAwEBAQIIAQEBAwEBBgMBAgEDBAIBAQEBBAEBAQECAwEBAQYBAQMEAgEBAQMBAQEBEQMDAQ==",
           "dtype": "i1"
          },
          "sizemode": "area",
          "sizeref": 0.003,
          "symbol": "circle"
         },
         "mode": "markers+text",
         "name": "0_risk_biodivers_woolworth_investor",
         "showlegend": true,
         "text": [
          "",
          "",
          "",
          "",
          "",
          "",
          "",
          "",
          "",
          "",
          "",
          "",
          "",
          "",
          "",
          "",
          "",
          "",
          "",
          "",
          "",
          "",
          "",
          "",
          "",
          "",
          "",
          "",
          "",
          "",
          "",
          "",
          "",
          "",
          "",
          "",
          "",
          "",
          "",
          "",
          "",
          "",
          "",
          "",
          "biodivers",
          "",
          "",
          "",
          "",
          "",
          "campaign",
          "",
          "",
          "",
          "",
          "certif",
          "",
          "",
          "",
          "",
          "",
          "",
          "",
          "",
          "cole",
          "",
          "",
          "",
          "complaint",
          "",
          "",
          "",
          "",
          "",
          "",
          "",
          "",
          "",
          "",
          "",
          "",
          "",
          "",
          "",
          "",
          "",
          "",
          "",
          "",
          "",
          "",
          "",
          "",
          "",
          "",
          "",
          "",
          "",
          "",
          "",
          "",
          "",
          "",
          "",
          "",
          "",
          "",
          "",
          "",
          "",
          "",
          "",
          "",
          "",
          "",
          "",
          "",
          "",
          "",
          "",
          "",
          "",
          "",
          "",
          "",
          "",
          "",
          "",
          "",
          "",
          "",
          "",
          "",
          "",
          "",
          "",
          "",
          "",
          "",
          "",
          "",
          "",
          "",
          "",
          "",
          "",
          "",
          "",
          "",
          "",
          "",
          "",
          "",
          "",
          "",
          "",
          "harbour",
          "",
          "",
          "",
          "",
          "",
          "",
          "",
          "",
          "",
          "",
          "",
          "",
          "",
          "",
          "",
          "",
          "",
          "",
          "",
          "",
          "",
          "",
          "",
          "investor",
          "",
          "",
          "",
          "",
          "",
          "",
          "",
          "",
          "",
          "",
          "",
          "",
          "",
          "",
          "",
          "",
          "",
          "",
          "",
          "",
          "",
          "",
          "",
          "",
          "",
          "",
          "",
          "",
          "",
          "",
          "",
          "",
          "",
          "",
          "",
          "",
          "",
          "",
          "",
          "",
          "",
          "",
          "",
          "",
          "",
          "",
          "",
          "",
          "",
          "",
          "",
          "",
          "",
          "",
          "",
          "",
          "",
          "",
          "",
          "",
          "",
          "",
          "",
          "",
          "",
          "",
          "",
          "",
          "",
          "",
          "",
          "",
          "",
          "",
          "",
          "",
          "",
          "",
          "",
          "",
          "",
          "",
          "",
          "",
          "",
          "",
          "",
          "",
          "",
          "",
          "",
          "",
          "",
          "",
          "",
          "",
          "",
          "",
          "",
          "",
          "",
          "",
          "",
          "",
          "respons",
          "",
          "risk",
          "",
          "",
          "",
          "",
          "",
          "salmon",
          "",
          "",
          "",
          "",
          "",
          "",
          "",
          "",
          "",
          "",
          "",
          "",
          "sharehold",
          "",
          "",
          "",
          "",
          "",
          "",
          "skate",
          "",
          "",
          "",
          "sourc",
          "",
          "speci",
          "",
          "",
          "",
          "",
          "",
          "",
          "",
          "",
          "",
          "",
          "",
          "",
          "suppli",
          "",
          "",
          "",
          "",
          "",
          "",
          "",
          "",
          "",
          "",
          "",
          "",
          "",
          "",
          "",
          "",
          "",
          "",
          "",
          "",
          "",
          "",
          "",
          "",
          "",
          "",
          "",
          "",
          "",
          "",
          "",
          "",
          "",
          "",
          "",
          "",
          "",
          "",
          "",
          "",
          "",
          "",
          "woolworth",
          "",
          "",
          ""
         ],
         "type": "scattergl",
         "x": {
          "bdata": "b8kfwqU9qUBJZB/ChsqoQH1SH8LBmB/Cv2IfwpkcH8IYCCDCRPcawt9yH8JUdx/CoxcgwqFwIMKGiRvCeWUgwtQoIMK4DSHCEwchwjTTIMKDmiHCTcwgwt1kiUASyB/CN1UgwsnSH8JvXx/Cg7tzQGP5skAbWBvCw80fwlpsG8JuYh7CmKYewk+FqkDUt4xAzggfwh5CIMLBgx/C98kfwl9hIMJZYSDCIJwgwoivIMLWbBvCUuMfwpMkG8J/jqhAk58ewozRH8LvgSDCq8sfwnJ/HcL+dqhAlfQcwo9DH8JIER/C5O6NQATCH8KHORvC2IsfwuZ1IMLrNRvCT7AgwiutIMLoth/CZUgbwmcHH8JTs7NA99iCQLUcH8Ldsh/C6PmyQHPCHcJHaB/CDzsfwkGQIMKJ8h7C1eIfwojzikBSLx/Ck40fwuRoH8I+0R3ChgIhwszKiUBRqu3BovQawlcis0DJMx/COggbwvdzHsJh3R/Cd5AfwidJHcKVVYpAvl4gwkGQH8KTgKlAykCpQFrKIMJzPSDC4r8gwntyHsKRwO3Bnv4ewrjU7cGL/x7CtSIbwh9tHsLpMx/CmTGzQKW3qUAdrqdACGIewhvXHcJZWB/CNZMdwpHqH8LyQx7CGcyOQM4sqECMPx/ChPyyQDF6G8KpaiDCN8YgwtkfIcJ/YSDCvhggwma9H8JnihvCexQgwlz3H8JnGyHCtU8fwsyeHsKLbR7ChKoewl77HcKhYh/CsbLtwdE4HsJM9KlAPmkewndnIMJxOiDCWYUbwhMzIMIfXSDCJDAgwiJIqUCQYhvCp9QfwjzUIcL8uyDC7bMhwpklIcKm9CDCEtUgwjjmIMIGjR/CavAfwsTLHsJ6Dh/CxzixQE4GIMIhhiDCUl4ewtCVY0CKrqhA8ikewpLMpkCBDx7C4+IdwhzKGsLVc6dAjw4ewgzBH8I2+R3Cp6/twcM+H8LffR7CTsftwUmOIMKs/x/CXLuDQEfOqEAnDiDCIVghwm6mIMLhPSHCITwfwspfIMIvwh7CekQbwmULIMJw4a5AznOKQEJYH8IW7e3B2I0ewrE7G8JL97JAchobwhtlHsKkWh7CTpIewvrAH8Lt+R/CJAWLQOHgIMIWnCHCnaAgwiggG8Ixm7FADqCoQBOhIMLKax/C0ucfwuolHcJSLx7CTGUewo60HsJlqh/C20sfwvXjH8JpLCHCv2uyQHtWskDgDx7CJhcewtcfHsJRhxvCfh2oQOiLikCC0B7CBNohwv+VIcK6uCHC69AgwkiDH8KLeiDCdduqQA1daEDxRiHCTvIgwtP5IcK5JnJAxl0bwkp7IcKosiHCzkYhwnHgIMKOFYpAv54ewvwEIMJh9u3BAdgewlspi0BPkopAX88dwkLDjUDKRh7CD0wfwht+qEDOoCDCgwAgwoTWIMJ08CDC2K8hwp0aIcLCIiHC+twgwj9jIcJY4CHCLjMhwgywIcJQCYpANwEfwi/AcEDWbyHCqzKLQKZOG8Jj0iDCnAcbwh66H8Jb/RrCfV4bwp7SHcJlwh7Cp8wdwixtH8LKQhvCTwqqQGm7pUCyoRvC+lgbwjWtHsKySh7C0/ohwk3YHsKyxqhAnHcfwgS0HsK07yHC9NYfwnOvIMJQq2xAAEMfwgFus0D80h/CSVQgwqjeHsIB0R7CbUwewmIEhEBCYBrC/uEgwreqG8LZxR7C6g4hwvFyIcISDRvCJ1kfwppGH8Jt0h7CvbmCQOfCHcLATB3CYNAewqQ0HsL8iB/CwIgfwqcKH8KPRx/CCiUbwruBIMJH1iHCLBkbwp5yG8IyFyLC534fwvIyIMLDeRvCQQxiQNzWskC3oB3CN2EdwnPDHcJ4mh3CVgptQLPtH8Iorx/CLGIgwhafIMJCiqhA/5btwUuaHsLypx7CHUYfwiEfG8LOzyHCc+AhwqpbG8LbBCHCCA0ewpmbH8JUsx3CYOodwkR8G8LbWh3CGtwdwgB7HcL/lh3C4hkdwrZDG8LE+xrCuc0cwg==",
          "dtype": "f4"
         },
         "xaxis": "x",
         "y": {
          "bdata": "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",
          "dtype": "f4"
         },
         "yaxis": "y"
        }
       ],
       "layout": {
        "legend": {
         "itemsizing": "constant",
         "title": {
          "text": "dominant_topic"
         },
         "tracegroupgap": 0
        },
        "margin": {
         "t": 60
        },
        "template": {
         "data": {
          "bar": [
           {
            "error_x": {
             "color": "#2a3f5f"
            },
            "error_y": {
             "color": "#2a3f5f"
            },
            "marker": {
             "line": {
              "color": "white",
              "width": 0.5
             },
             "pattern": {
              "fillmode": "overlay",
              "size": 10,
              "solidity": 0.2
             }
            },
            "type": "bar"
           }
          ],
          "barpolar": [
           {
            "marker": {
             "line": {
              "color": "white",
              "width": 0.5
             },
             "pattern": {
              "fillmode": "overlay",
              "size": 10,
              "solidity": 0.2
             }
            },
            "type": "barpolar"
           }
          ],
          "carpet": [
           {
            "aaxis": {
             "endlinecolor": "#2a3f5f",
             "gridcolor": "#C8D4E3",
             "linecolor": "#C8D4E3",
             "minorgridcolor": "#C8D4E3",
             "startlinecolor": "#2a3f5f"
            },
            "baxis": {
             "endlinecolor": "#2a3f5f",
             "gridcolor": "#C8D4E3",
             "linecolor": "#C8D4E3",
             "minorgridcolor": "#C8D4E3",
             "startlinecolor": "#2a3f5f"
            },
            "type": "carpet"
           }
          ],
          "choropleth": [
           {
            "colorbar": {
             "outlinewidth": 0,
             "ticks": ""
            },
            "type": "choropleth"
           }
          ],
          "contour": [
           {
            "colorbar": {
             "outlinewidth": 0,
             "ticks": ""
            },
            "colorscale": [
             [
              0,
              "#0d0887"
             ],
             [
              0.1111111111111111,
              "#46039f"
             ],
             [
              0.2222222222222222,
              "#7201a8"
             ],
             [
              0.3333333333333333,
              "#9c179e"
             ],
             [
              0.4444444444444444,
              "#bd3786"
             ],
             [
              0.5555555555555556,
              "#d8576b"
             ],
             [
              0.6666666666666666,
              "#ed7953"
             ],
             [
              0.7777777777777778,
              "#fb9f3a"
             ],
             [
              0.8888888888888888,
              "#fdca26"
             ],
             [
              1,
              "#f0f921"
             ]
            ],
            "type": "contour"
           }
          ],
          "contourcarpet": [
           {
            "colorbar": {
             "outlinewidth": 0,
             "ticks": ""
            },
            "type": "contourcarpet"
           }
          ],
          "heatmap": [
           {
            "colorbar": {
             "outlinewidth": 0,
             "ticks": ""
            },
            "colorscale": [
             [
              0,
              "#0d0887"
             ],
             [
              0.1111111111111111,
              "#46039f"
             ],
             [
              0.2222222222222222,
              "#7201a8"
             ],
             [
              0.3333333333333333,
              "#9c179e"
             ],
             [
              0.4444444444444444,
              "#bd3786"
             ],
             [
              0.5555555555555556,
              "#d8576b"
             ],
             [
              0.6666666666666666,
              "#ed7953"
             ],
             [
              0.7777777777777778,
              "#fb9f3a"
             ],
             [
              0.8888888888888888,
              "#fdca26"
             ],
             [
              1,
              "#f0f921"
             ]
            ],
            "type": "heatmap"
           }
          ],
          "histogram": [
           {
            "marker": {
             "pattern": {
              "fillmode": "overlay",
              "size": 10,
              "solidity": 0.2
             }
            },
            "type": "histogram"
           }
          ],
          "histogram2d": [
           {
            "colorbar": {
             "outlinewidth": 0,
             "ticks": ""
            },
            "colorscale": [
             [
              0,
              "#0d0887"
             ],
             [
              0.1111111111111111,
              "#46039f"
             ],
             [
              0.2222222222222222,
              "#7201a8"
             ],
             [
              0.3333333333333333,
              "#9c179e"
             ],
             [
              0.4444444444444444,
              "#bd3786"
             ],
             [
              0.5555555555555556,
              "#d8576b"
             ],
             [
              0.6666666666666666,
              "#ed7953"
             ],
             [
              0.7777777777777778,
              "#fb9f3a"
             ],
             [
              0.8888888888888888,
              "#fdca26"
             ],
             [
              1,
              "#f0f921"
             ]
            ],
            "type": "histogram2d"
           }
          ],
          "histogram2dcontour": [
           {
            "colorbar": {
             "outlinewidth": 0,
             "ticks": ""
            },
            "colorscale": [
             [
              0,
              "#0d0887"
             ],
             [
              0.1111111111111111,
              "#46039f"
             ],
             [
              0.2222222222222222,
              "#7201a8"
             ],
             [
              0.3333333333333333,
              "#9c179e"
             ],
             [
              0.4444444444444444,
              "#bd3786"
             ],
             [
              0.5555555555555556,
              "#d8576b"
             ],
             [
              0.6666666666666666,
              "#ed7953"
             ],
             [
              0.7777777777777778,
              "#fb9f3a"
             ],
             [
              0.8888888888888888,
              "#fdca26"
             ],
             [
              1,
              "#f0f921"
             ]
            ],
            "type": "histogram2dcontour"
           }
          ],
          "mesh3d": [
           {
            "colorbar": {
             "outlinewidth": 0,
             "ticks": ""
            },
            "type": "mesh3d"
           }
          ],
          "parcoords": [
           {
            "line": {
             "colorbar": {
              "outlinewidth": 0,
              "ticks": ""
             }
            },
            "type": "parcoords"
           }
          ],
          "pie": [
           {
            "automargin": true,
            "type": "pie"
           }
          ],
          "scatter": [
           {
            "fillpattern": {
             "fillmode": "overlay",
             "size": 10,
             "solidity": 0.2
            },
            "type": "scatter"
           }
          ],
          "scatter3d": [
           {
            "line": {
             "colorbar": {
              "outlinewidth": 0,
              "ticks": ""
             }
            },
            "marker": {
             "colorbar": {
              "outlinewidth": 0,
              "ticks": ""
             }
            },
            "type": "scatter3d"
           }
          ],
          "scattercarpet": [
           {
            "marker": {
             "colorbar": {
              "outlinewidth": 0,
              "ticks": ""
             }
            },
            "type": "scattercarpet"
           }
          ],
          "scattergeo": [
           {
            "marker": {
             "colorbar": {
              "outlinewidth": 0,
              "ticks": ""
             }
            },
            "type": "scattergeo"
           }
          ],
          "scattergl": [
           {
            "marker": {
             "colorbar": {
              "outlinewidth": 0,
              "ticks": ""
             }
            },
            "type": "scattergl"
           }
          ],
          "scattermap": [
           {
            "marker": {
             "colorbar": {
              "outlinewidth": 0,
              "ticks": ""
             }
            },
            "type": "scattermap"
           }
          ],
          "scattermapbox": [
           {
            "marker": {
             "colorbar": {
              "outlinewidth": 0,
              "ticks": ""
             }
            },
            "type": "scattermapbox"
           }
          ],
          "scatterpolar": [
           {
            "marker": {
             "colorbar": {
              "outlinewidth": 0,
              "ticks": ""
             }
            },
            "type": "scatterpolar"
           }
          ],
          "scatterpolargl": [
           {
            "marker": {
             "colorbar": {
              "outlinewidth": 0,
              "ticks": ""
             }
            },
            "type": "scatterpolargl"
           }
          ],
          "scatterternary": [
           {
            "marker": {
             "colorbar": {
              "outlinewidth": 0,
              "ticks": ""
             }
            },
            "type": "scatterternary"
           }
          ],
          "surface": [
           {
            "colorbar": {
             "outlinewidth": 0,
             "ticks": ""
            },
            "colorscale": [
             [
              0,
              "#0d0887"
             ],
             [
              0.1111111111111111,
              "#46039f"
             ],
             [
              0.2222222222222222,
              "#7201a8"
             ],
             [
              0.3333333333333333,
              "#9c179e"
             ],
             [
              0.4444444444444444,
              "#bd3786"
             ],
             [
              0.5555555555555556,
              "#d8576b"
             ],
             [
              0.6666666666666666,
              "#ed7953"
             ],
             [
              0.7777777777777778,
              "#fb9f3a"
             ],
             [
              0.8888888888888888,
              "#fdca26"
             ],
             [
              1,
              "#f0f921"
             ]
            ],
            "type": "surface"
           }
          ],
          "table": [
           {
            "cells": {
             "fill": {
              "color": "#EBF0F8"
             },
             "line": {
              "color": "white"
             }
            },
            "header": {
             "fill": {
              "color": "#C8D4E3"
             },
             "line": {
              "color": "white"
             }
            },
            "type": "table"
           }
          ]
         },
         "layout": {
          "annotationdefaults": {
           "arrowcolor": "#2a3f5f",
           "arrowhead": 0,
           "arrowwidth": 1
          },
          "autotypenumbers": "strict",
          "coloraxis": {
           "colorbar": {
            "outlinewidth": 0,
            "ticks": ""
           }
          },
          "colorscale": {
           "diverging": [
            [
             0,
             "#8e0152"
            ],
            [
             0.1,
             "#c51b7d"
            ],
            [
             0.2,
             "#de77ae"
            ],
            [
             0.3,
             "#f1b6da"
            ],
            [
             0.4,
             "#fde0ef"
            ],
            [
             0.5,
             "#f7f7f7"
            ],
            [
             0.6,
             "#e6f5d0"
            ],
            [
             0.7,
             "#b8e186"
            ],
            [
             0.8,
             "#7fbc41"
            ],
            [
             0.9,
             "#4d9221"
            ],
            [
             1,
             "#276419"
            ]
           ],
           "sequential": [
            [
             0,
             "#0d0887"
            ],
            [
             0.1111111111111111,
             "#46039f"
            ],
            [
             0.2222222222222222,
             "#7201a8"
            ],
            [
             0.3333333333333333,
             "#9c179e"
            ],
            [
             0.4444444444444444,
             "#bd3786"
            ],
            [
             0.5555555555555556,
             "#d8576b"
            ],
            [
             0.6666666666666666,
             "#ed7953"
            ],
            [
             0.7777777777777778,
             "#fb9f3a"
            ],
            [
             0.8888888888888888,
             "#fdca26"
            ],
            [
             1,
             "#f0f921"
            ]
           ],
           "sequentialminus": [
            [
             0,
             "#0d0887"
            ],
            [
             0.1111111111111111,
             "#46039f"
            ],
            [
             0.2222222222222222,
             "#7201a8"
            ],
            [
             0.3333333333333333,
             "#9c179e"
            ],
            [
             0.4444444444444444,
             "#bd3786"
            ],
            [
             0.5555555555555556,
             "#d8576b"
            ],
            [
             0.6666666666666666,
             "#ed7953"
            ],
            [
             0.7777777777777778,
             "#fb9f3a"
            ],
            [
             0.8888888888888888,
             "#fdca26"
            ],
            [
             1,
             "#f0f921"
            ]
           ]
          },
          "colorway": [
           "#636efa",
           "#EF553B",
           "#00cc96",
           "#ab63fa",
           "#FFA15A",
           "#19d3f3",
           "#FF6692",
           "#B6E880",
           "#FF97FF",
           "#FECB52"
          ],
          "font": {
           "color": "#2a3f5f"
          },
          "geo": {
           "bgcolor": "white",
           "lakecolor": "white",
           "landcolor": "white",
           "showlakes": true,
           "showland": true,
           "subunitcolor": "#C8D4E3"
          },
          "hoverlabel": {
           "align": "left"
          },
          "hovermode": "closest",
          "mapbox": {
           "style": "light"
          },
          "paper_bgcolor": "white",
          "plot_bgcolor": "white",
          "polar": {
           "angularaxis": {
            "gridcolor": "#EBF0F8",
            "linecolor": "#EBF0F8",
            "ticks": ""
           },
           "bgcolor": "white",
           "radialaxis": {
            "gridcolor": "#EBF0F8",
            "linecolor": "#EBF0F8",
            "ticks": ""
           }
          },
          "scene": {
           "xaxis": {
            "backgroundcolor": "white",
            "gridcolor": "#DFE8F3",
            "gridwidth": 2,
            "linecolor": "#EBF0F8",
            "showbackground": true,
            "ticks": "",
            "zerolinecolor": "#EBF0F8"
           },
           "yaxis": {
            "backgroundcolor": "white",
            "gridcolor": "#DFE8F3",
            "gridwidth": 2,
            "linecolor": "#EBF0F8",
            "showbackground": true,
            "ticks": "",
            "zerolinecolor": "#EBF0F8"
           },
           "zaxis": {
            "backgroundcolor": "white",
            "gridcolor": "#DFE8F3",
            "gridwidth": 2,
            "linecolor": "#EBF0F8",
            "showbackground": true,
            "ticks": "",
            "zerolinecolor": "#EBF0F8"
           }
          },
          "shapedefaults": {
           "line": {
            "color": "#2a3f5f"
           }
          },
          "ternary": {
           "aaxis": {
            "gridcolor": "#DFE8F3",
            "linecolor": "#A2B1C6",
            "ticks": ""
           },
           "baxis": {
            "gridcolor": "#DFE8F3",
            "linecolor": "#A2B1C6",
            "ticks": ""
           },
           "bgcolor": "white",
           "caxis": {
            "gridcolor": "#DFE8F3",
            "linecolor": "#A2B1C6",
            "ticks": ""
           }
          },
          "title": {
           "x": 0.05
          },
          "xaxis": {
           "automargin": true,
           "gridcolor": "#EBF0F8",
           "linecolor": "#EBF0F8",
           "ticks": "",
           "title": {
            "standoff": 15
           },
           "zerolinecolor": "#EBF0F8",
           "zerolinewidth": 2
          },
          "yaxis": {
           "automargin": true,
           "gridcolor": "#EBF0F8",
           "linecolor": "#EBF0F8",
           "ticks": "",
           "title": {
            "standoff": 15
           },
           "zerolinecolor": "#EBF0F8",
           "zerolinewidth": 2
          }
         }
        },
        "xaxis": {
         "anchor": "y",
         "domain": [
          0,
          1
         ],
         "title": {
          "text": "UMAP_1"
         }
        },
        "yaxis": {
         "anchor": "x",
         "domain": [
          0,
          1
         ],
         "title": {
          "text": "UMAP_1"
         }
        }
       }
      },
      "text/html": [
       "<div>                        <script type=\"text/javascript\">window.PlotlyConfig = {MathJaxConfig: 'local'};</script>\n",
       "        <script charset=\"utf-8\" src=\"https://cdn.plot.ly/plotly-3.1.1.min.js\" integrity=\"sha256-HUEFyfiTnZJxCxur99FjbKYTvKSzwDaD3/x5TqHpFu4=\" crossorigin=\"anonymous\"></script>                <div id=\"3f6a6e20-29e6-4231-b77d-f8088b710dd0\" class=\"plotly-graph-div\" style=\"height:100%; width:100%;\"></div>            <script type=\"text/javascript\">                window.PLOTLYENV=window.PLOTLYENV || {};                                if (document.getElementById(\"3f6a6e20-29e6-4231-b77d-f8088b710dd0\")) {                    Plotly.newPlot(                        \"3f6a6e20-29e6-4231-b77d-f8088b710dd0\",                        [{\"customdata\":[[\"abandon\",\"\"],[\"abil\",\"\"],[\"abl\",\"\"],[\"abound\",\"\"],[\"accompani\",\"\"],[\"acquir\",\"\"],[\"acquisit\",\"\"],[\"activewear\",\"\"],[\"actual\",\"\"],[\"addit\",\"\"],[\"addon\",\"\"],[\"adida\",\"\"],[\"advantag\",\"\"],[\"advertis\",\"\"],[\"afford\",\"\"],[\"african\",\"\"],[\"ahead\",\"\"],[\"al\",\"\"],[\"alien\",\"\"],[\"alik\",\"\"],[\"allan\",\"\"],[\"alli\",\"\"],[\"allow\",\"\"],[\"alon\",\"\"],[\"alway\",\"\"],[\"ambiti\",\"\"],[\"america\",\"\"],[\"american\",\"\"],[\"amsterdam\",\"\"],[\"analyst\",\"analyst\"],[\"angel\",\"\"],[\"angl\",\"\"],[\"ani\",\"\"],[\"ann\",\"\"],[\"anniversari\",\"\"],[\"announc\",\"\"],[\"anoth\",\"\"],[\"antenna\",\"\"],[\"anthropologist\",\"\"],[\"anyon\",\"\"],[\"anyth\",\"\"],[\"apparel\",\"\"],[\"appear\",\"\"],[\"appl\",\"\"],[\"appli\",\"\"],[\"appoint\",\"\"],[\"arabian\",\"\"],[\"architect\",\"\"],[\"ardous\",\"\"],[\"arguabl\",\"\"],[\"arriv\",\"\"],[\"art\",\"\"],[\"articul\",\"\"],[\"artist\",\"\"],[\"artwork\",\"\"],[\"asia\",\"\"],[\"asid\",\"\"],[\"asset\",\"\"],[\"assist\",\"\"],[\"athleisur\",\"\"],[\"atmo\",\"\"],[\"atop\",\"\"],[\"att\",\"\"],[\"attent\",\"\"],[\"attribut\",\"\"],[\"audienc\",\"\"],[\"aug\",\"\"],[\"avoid\",\"\"],[\"away\",\"\"],[\"b\",\"\"],[\"babi\",\"\"],[\"balk\",\"\"],[\"band\",\"\"],[\"basi\",\"\"],[\"basketbal\",\"\"],[\"bat\",\"\"],[\"bather\",\"\"],[\"battl\",\"\"],[\"beam\",\"\"],[\"beauti\",\"\"],[\"becam\",\"\"],[\"becaus\",\"becaus\"],[\"becom\",\"\"],[\"befor\",\"\"],[\"behemoth\",\"\"],[\"beirut\",\"\"],[\"believ\",\"\"],[\"berlin\",\"\"],[\"bet\",\"\"],[\"better\",\"\"],[\"big\",\"\"],[\"biggest\",\"\"],[\"billion\",\"billion\"],[\"billionair\",\"\"],[\"bin\",\"\"],[\"birthmark\",\"\"],[\"block\",\"\"],[\"blow\",\"\"],[\"blue\",\"\"],[\"boat\",\"\"],[\"bold\",\"\"],[\"book\",\"\"],[\"born\",\"\"],[\"brand\",\"\"],[\"bread\",\"\"],[\"break\",\"\"],[\"bring\",\"\"],[\"broad\",\"\"],[\"broadband\",\"\"],[\"broader\",\"\"],[\"broker\",\"\"],[\"bruis\",\"\"],[\"build\",\"\"],[\"built\",\"\"],[\"burnett\",\"\"],[\"busi\",\"busi\"],[\"businessmen\",\"\"],[\"butter\",\"\"],[\"buy\",\"\"],[\"cabl\",\"\"],[\"cage\",\"\"],[\"caleb\",\"\"],[\"came\",\"\"],[\"canadianamerican\",\"\"],[\"capabl\",\"\"],[\"capac\",\"\"],[\"capit\",\"\"],[\"captain\",\"\"],[\"captiv\",\"\"],[\"care\",\"\"],[\"carri\",\"\"],[\"carrier\",\"\"],[\"casagema\",\"\"],[\"caught\",\"\"],[\"caveat\",\"\"],[\"celebr\",\"\"],[\"cellular\",\"\"],[\"cement\",\"\"],[\"central\",\"\"],[\"centuri\",\"\"],[\"ceo\",\"\"],[\"champ\",\"\"],[\"chanc\",\"\"],[\"chang\",\"\"],[\"chapter\",\"\"],[\"character\",\"\"],[\"charg\",\"\"],[\"charli\",\"\"],[\"choic\",\"\"],[\"chunk\",\"\"],[\"cite\",\"\"],[\"claim\",\"\"],[\"climb\",\"\"],[\"close\",\"\"],[\"cloth\",\"\"],[\"coexist\",\"\"],[\"col\",\"\"],[\"collabor\",\"\"],[\"color\",\"\"],[\"combin\",\"\"],[\"come\",\"\"],[\"commonsens\",\"\"],[\"compani\",\"compani\"],[\"compar\",\"\"],[\"competit\",\"\"],[\"competitor\",\"\"],[\"complic\",\"\"],[\"compos\",\"\"],[\"composit\",\"\"],[\"compris\",\"\"],[\"concept\",\"\"],[\"conceptu\",\"\"],[\"concurr\",\"\"],[\"connect\",\"\"],[\"consecut\",\"\"],[\"consolid\",\"\"],[\"constel\",\"\"],[\"constrain\",\"\"],[\"contemporari\",\"\"],[\"conting\",\"\"],[\"continu\",\"continu\"],[\"contribut\",\"\"],[\"control\",\"\"],[\"convers\",\"\"],[\"cooper\",\"\"],[\"cordcut\",\"\"],[\"core\",\"\"],[\"corp\",\"corp\"],[\"cosmic\",\"\"],[\"cost\",\"\"],[\"countri\",\"\"],[\"coupl\",\"\"],[\"cours\",\"\"],[\"cover\",\"\"],[\"covid\",\"\"],[\"creat\",\"\"],[\"credibl\",\"\"],[\"crew\",\"\"],[\"critic\",\"\"],[\"crucial\",\"\"],[\"crush\",\"\"],[\"cultur\",\"\"],[\"curat\",\"\"],[\"current\",\"\"],[\"curtain\",\"\"],[\"curv\",\"\"],[\"custom\",\"\"],[\"cut\",\"\"],[\"cyrus\",\"\"],[\"data\",\"\"],[\"david\",\"\"],[\"dazzl\",\"\"],[\"deal\",\"deal\"],[\"death\",\"\"],[\"debt\",\"\"],[\"debut\",\"\"],[\"decad\",\"\"],[\"decis\",\"\"],[\"decreas\",\"\"],[\"defin\",\"\"],[\"delic\",\"\"],[\"deliv\",\"\"],[\"demand\",\"\"],[\"depend\",\"\"],[\"describ\",\"\"],[\"design\",\"\"],[\"destin\",\"\"],[\"develop\",\"\"],[\"dialogu\",\"\"],[\"dick\",\"dick\"],[\"did\",\"\"],[\"differ\",\"\"],[\"digit\",\"\"],[\"directtocel\",\"\"],[\"directtodevic\",\"\"],[\"disciplin\",\"\"],[\"discount\",\"\"],[\"disney\",\"\"],[\"display\",\"\"],[\"disrupt\",\"\"],[\"distanc\",\"\"],[\"distinct\",\"\"],[\"distribut\",\"\"],[\"dive\",\"\"],[\"divers\",\"\"],[\"divestitur\",\"\"],[\"divis\",\"\"],[\"dna\",\"\"],[\"doesnt\",\"\"],[\"dollar\",\"\"],[\"door\",\"\"],[\"drama\",\"\"],[\"dramat\",\"\"],[\"drastic\",\"\"],[\"draw\",\"\"],[\"drawn\",\"\"],[\"drive\",\"\"],[\"drop\",\"\"],[\"dure\",\"\"],[\"earli\",\"\"],[\"earningsaccret\",\"\"],[\"easier\",\"\"],[\"echo\",\"\"],[\"echostar\",\"\"],[\"ecommerc\",\"\"],[\"edg\",\"\"],[\"editor\",\"\"],[\"effect\",\"\"],[\"effici\",\"\"],[\"effort\",\"\"],[\"eldest\",\"\"],[\"element\",\"\"],[\"elleza\",\"\"],[\"ellison\",\"\"],[\"elon\",\"\"],[\"els\",\"\"],[\"embroid\",\"\"],[\"empir\",\"\"],[\"employe\",\"\"],[\"enabl\",\"\"],[\"encourag\",\"\"],[\"end\",\"\"],[\"endur\",\"\"],[\"english\",\"\"],[\"enthusiasm\",\"\"],[\"ephemer\",\"\"],[\"equat\",\"\"],[\"equiti\",\"\"],[\"ergen\",\"\"],[\"erod\",\"\"],[\"essenti\",\"\"],[\"europ\",\"\"],[\"eventu\",\"\"],[\"everyth\",\"\"],[\"exampl\",\"\"],[\"excess\",\"\"],[\"excit\",\"\"],[\"execut\",\"\"],[\"exert\",\"\"],[\"exhibit\",\"\"],[\"expans\",\"\"],[\"expens\",\"\"],[\"explain\",\"\"],[\"explor\",\"\"],[\"explos\",\"\"],[\"expos\",\"\"],[\"extend\",\"\"],[\"extract\",\"\"],[\"eye\",\"\"],[\"falcon\",\"\"],[\"fall\",\"\"],[\"famili\",\"\"],[\"far\",\"\"],[\"farfetch\",\"\"],[\"farrar\",\"\"],[\"fcc\",\"\"],[\"fear\",\"\"],[\"featur\",\"\"],[\"feel\",\"\"],[\"fellow\",\"\"],[\"fetch\",\"\"],[\"field\",\"\"],[\"figur\",\"\"],[\"final\",\"\"],[\"financ\",\"\"],[\"firm\",\"\"],[\"firstfloor\",\"\"],[\"fit\",\"\"],[\"flawless\",\"\"],[\"flight\",\"\"],[\"floor\",\"\"],[\"flow\",\"\"],[\"flower\",\"\"],[\"fluid\",\"\"],[\"focus\",\"\"],[\"follow\",\"\"],[\"foot\",\"foot\"],[\"footwear\",\"\"],[\"form\",\"\"],[\"formula\",\"\"],[\"fortifi\",\"\"],[\"founder\",\"\"],[\"fox\",\"fox\"],[\"frame\",\"\"],[\"frank\",\"\"],[\"free\",\"\"],[\"freeman\",\"\"],[\"french\",\"\"],[\"frequenc\",\"\"],[\"fuel\",\"\"],[\"fulli\",\"\"],[\"fullsiz\",\"\"],[\"function\",\"\"],[\"futur\",\"\"],[\"g\",\"\"],[\"gain\",\"\"],[\"galleri\",\"\"],[\"game\",\"\"],[\"gather\",\"\"],[\"gaze\",\"\"],[\"gehri\",\"\"],[\"generat\",\"\"],[\"ghost\",\"\"],[\"giant\",\"\"],[\"gift\",\"\"],[\"given\",\"\"],[\"global\",\"global\"],[\"globalstar\",\"\"],[\"good\",\"\"],[\"goto\",\"\"],[\"grandfath\",\"\"],[\"ground\",\"\"],[\"grow\",\"\"],[\"growth\",\"\"],[\"guard\",\"\"],[\"guess\",\"\"],[\"guestim\",\"\"],[\"guidanc\",\"\"],[\"gulf\",\"\"],[\"gymshark\",\"\"],[\"half\",\"\"],[\"halt\",\"\"],[\"happen\",\"\"],[\"har\",\"\"],[\"harmoni\",\"\"],[\"haul\",\"\"],[\"hbos\",\"\"],[\"head\",\"\"],[\"heaven\",\"\"],[\"heavi\",\"\"],[\"heavili\",\"\"],[\"hefti\",\"\"],[\"heir\",\"\"],[\"held\",\"\"],[\"help\",\"\"],[\"henri\",\"\"],[\"hewitt\",\"\"],[\"hire\",\"\"],[\"histor\",\"\"],[\"histori\",\"\"],[\"hit\",\"\"],[\"hobart\",\"\"],[\"hope\",\"\"],[\"hors\",\"\"],[\"hous\",\"\"],[\"hub\",\"\"],[\"huge\",\"\"],[\"hum\",\"\"],[\"human\",\"\"],[\"hunt\",\"\"],[\"ident\",\"\"],[\"ideolog\",\"\"],[\"im\",\"\"],[\"imag\",\"\"],[\"imagin\",\"\"],[\"immers\",\"\"],[\"impresario\",\"\"],[\"improb\",\"\"],[\"improv\",\"\"],[\"includ\",\"\"],[\"incoher\",\"\"],[\"increas\",\"\"],[\"inde\",\"\"],[\"independ\",\"\"],[\"infight\",\"\"],[\"infinit\",\"\"],[\"inform\",\"\"],[\"inhous\",\"\"],[\"initi\",\"\"],[\"instal\",\"\"],[\"instead\",\"\"],[\"integr\",\"\"],[\"interact\",\"\"],[\"internet\",\"\"],[\"invad\",\"\"],[\"inventori\",\"\"],[\"invest\",\"\"],[\"invit\",\"\"],[\"isnt\",\"\"],[\"jamal\",\"\"],[\"jame\",\"\"],[\"jeopard\",\"\"],[\"joint\",\"\"],[\"june\",\"\"],[\"kelley\",\"\"],[\"kick\",\"\"],[\"kid\",\"\"],[\"kind\",\"\"],[\"king\",\"\"],[\"know\",\"\"],[\"known\",\"\"],[\"kuwait\",\"\"],[\"kuwaitborn\",\"\"],[\"labor\",\"\"],[\"lachlan\",\"lachlan\"],[\"lag\",\"\"],[\"land\",\"\"],[\"landscap\",\"\"],[\"larg\",\"\"],[\"larger\",\"\"],[\"largescal\",\"\"],[\"latest\",\"\"],[\"launch\",\"launch\"],[\"lauren\",\"\"],[\"lawsuit\",\"\"],[\"leadership\",\"\"],[\"lean\",\"\"],[\"leas\",\"\"],[\"leav\",\"\"],[\"led\",\"\"],[\"left\",\"\"],[\"legaci\",\"\"],[\"lesli\",\"\"],[\"letter\",\"\"],[\"leverag\",\"\"],[\"licens\",\"\"],[\"lie\",\"\"],[\"lifepartn\",\"\"],[\"lift\",\"\"],[\"light\",\"\"],[\"lightfil\",\"\"],[\"like\",\"like\"],[\"likewis\",\"\"],[\"limb\",\"\"],[\"limin\",\"\"],[\"limitededit\",\"\"],[\"link\",\"\"],[\"load\",\"\"],[\"loan\",\"\"],[\"lockdown\",\"\"],[\"locker\",\"locker\"],[\"logo\",\"\"],[\"long\",\"\"],[\"longawait\",\"\"],[\"longcovet\",\"\"],[\"longterm\",\"\"],[\"look\",\"\"],[\"los\",\"\"],[\"lost\",\"\"],[\"lot\",\"\"],[\"love\",\"\"],[\"lowearth\",\"\"],[\"lower\",\"\"],[\"lululemon\",\"\"],[\"ma\",\"\"],[\"machin\",\"\"],[\"magnifi\",\"\"],[\"main\",\"\"],[\"make\",\"make\"],[\"man\",\"\"],[\"manufactur\",\"\"],[\"marc\",\"\"],[\"margin\",\"\"],[\"markdown\",\"\"],[\"market\",\"\"],[\"master\",\"\"],[\"mayb\",\"\"],[\"meaning\",\"\"],[\"meantim\",\"\"],[\"meanwhil\",\"\"],[\"media\",\"\"],[\"megahertz\",\"\"],[\"memori\",\"\"],[\"merg\",\"\"],[\"merger\",\"\"],[\"messag\",\"\"],[\"messi\",\"\"],[\"met\",\"\"],[\"metaphor\",\"\"],[\"middl\",\"\"],[\"mini\",\"\"],[\"miss\",\"\"],[\"misstep\",\"\"],[\"mobil\",\"\"],[\"model\",\"\"],[\"moffettnathanson\",\"\"],[\"momentum\",\"\"],[\"monday\",\"\"],[\"monira\",\"\"],[\"monkey\",\"\"],[\"month\",\"\"],[\"monument\",\"\"],[\"moot\",\"\"],[\"morn\",\"\"],[\"motiv\",\"\"],[\"mountain\",\"\"],[\"murdoch\",\"murdoch\"],[\"muse\",\"\"],[\"museum\",\"\"],[\"musk\",\"\"],[\"myriad\",\"\"],[\"nahham\",\"\"],[\"narrat\",\"\"],[\"narrow\",\"\"],[\"nascent\",\"\"],[\"nation\",\"\"],[\"natur\",\"\"],[\"near\",\"\"],[\"necessarili\",\"\"],[\"need\",\"\"],[\"negoti\",\"\"],[\"new\",\"new\"],[\"newfound\",\"\"],[\"news\",\"news\"],[\"newspap\",\"\"],[\"nextgener\",\"\"],[\"nibbl\",\"\"],[\"nice\",\"\"],[\"nike\",\"\"],[\"nonetheless\",\"\"],[\"north\",\"\"],[\"notion\",\"\"],[\"nowher\",\"\"],[\"number\",\"\"],[\"obscur\",\"\"],[\"observ\",\"\"],[\"octob\",\"\"],[\"offer\",\"\"],[\"offici\",\"\"],[\"omnichannel\",\"\"],[\"onc\",\"\"],[\"onli\",\"onli\"],[\"open\",\"\"],[\"opportun\",\"\"],[\"option\",\"\"],[\"orbit\",\"\"],[\"organ\",\"\"],[\"origin\",\"\"],[\"outer\",\"\"],[\"outsid\",\"\"],[\"overflow\",\"\"],[\"overse\",\"\"],[\"oversea\",\"\"],[\"overus\",\"\"],[\"paint\",\"\"],[\"paper\",\"\"],[\"paramount\",\"\"],[\"parent\",\"\"],[\"parisian\",\"\"],[\"park\",\"\"],[\"partner\",\"\"],[\"patriarch\",\"\"],[\"paul\",\"\"],[\"paula\",\"\"],[\"pave\",\"\"],[\"pay\",\"\"],[\"payload\",\"\"],[\"pearl\",\"\"],[\"percept\",\"\"],[\"perfect\",\"\"],[\"perform\",\"\"],[\"perhap\",\"\"],[\"period\",\"\"],[\"perrotin\",\"\"],[\"phantom\",\"\"],[\"philip\",\"\"],[\"phone\",\"\"],[\"phonehack\",\"\"],[\"photograph\",\"\"],[\"photographi\",\"\"],[\"phrase\",\"\"],[\"picasso\",\"picasso\"],[\"picassopari\",\"\"],[\"pictur\",\"\"],[\"pile\",\"\"],[\"pipe\",\"\"],[\"place\",\"\"],[\"placement\",\"\"],[\"plan\",\"\"],[\"platform\",\"\"],[\"playbook\",\"\"],[\"pleasur\",\"\"],[\"plenti\",\"\"],[\"plus\",\"\"],[\"poetic\",\"\"],[\"point\",\"\"],[\"polit\",\"\"],[\"poor\",\"\"],[\"posit\",\"\"],[\"possibl\",\"\"],[\"post\",\"\"],[\"postcard\",\"\"],[\"postoil\",\"\"],[\"power\",\"\"],[\"predict\",\"\"],[\"premium\",\"\"],[\"present\",\"\"],[\"press\",\"\"],[\"pressur\",\"\"],[\"pretti\",\"\"],[\"previous\",\"\"],[\"price\",\"\"],[\"print\",\"\"],[\"privat\",\"\"],[\"prize\",\"\"],[\"problem\",\"\"],[\"procur\",\"\"],[\"professor\",\"\"],[\"profit\",\"\"],[\"project\",\"\"],[\"promis\",\"\"],[\"prospect\",\"\"],[\"prove\",\"\"],[\"provid\",\"\"],[\"pull\",\"\"],[\"purchas\",\"\"],[\"pursu\",\"\"],[\"push\",\"\"],[\"qadiri\",\"\"],[\"qualiti\",\"\"],[\"quarter\",\"\"],[\"quartercenturi\",\"\"],[\"quasishakespearean\",\"\"],[\"question\",\"\"],[\"quiet\",\"\"],[\"quilti\",\"\"],[\"quiver\",\"\"],[\"radic\",\"\"],[\"radiofrequ\",\"\"],[\"rang\",\"\"],[\"reach\",\"\"],[\"readi\",\"\"],[\"readymad\",\"\"],[\"realiz\",\"\"],[\"realli\",\"\"],[\"reallif\",\"\"],[\"recent\",\"\"],[\"recombin\",\"\"],[\"redefin\",\"\"],[\"reduct\",\"\"],[\"regular\",\"\"],[\"reimagin\",\"\"],[\"reinforc\",\"\"],[\"reinvent\",\"\"],[\"reject\",\"\"],[\"relat\",\"\"],[\"relationship\",\"\"],[\"relay\",\"\"],[\"relianc\",\"\"],[\"remain\",\"\"],[\"remot\",\"\"],[\"renown\",\"\"],[\"report\",\"\"],[\"represent\",\"\"],[\"research\",\"\"],[\"reshap\",\"\"],[\"resolv\",\"\"],[\"resourc\",\"\"],[\"respond\",\"\"],[\"restor\",\"\"],[\"result\",\"\"],[\"retail\",\"\"],[\"retain\",\"\"],[\"return\",\"\"],[\"reusabl\",\"\"],[\"reveal\",\"\"],[\"revenu\",\"\"],[\"review\",\"\"],[\"reviv\",\"\"],[\"revoc\",\"\"],[\"rhombus\",\"\"],[\"rhythmic\",\"\"],[\"riff\",\"\"],[\"right\",\"\"],[\"rival\",\"\"],[\"rocket\",\"\"],[\"roll\",\"\"],[\"rough\",\"\"],[\"round\",\"\"],[\"run\",\"\"],[\"rupert\",\"\"],[\"ruptur\",\"\"],[\"saga\",\"\"],[\"said\",\"said\"],[\"sale\",\"\"],[\"satellit\",\"satellit\"],[\"saw\",\"\"],[\"scale\",\"\"],[\"scandal\",\"\"],[\"scenario\",\"\"],[\"scenic\",\"\"],[\"sculptur\",\"\"],[\"season\",\"\"],[\"secondgener\",\"\"],[\"secur\",\"\"],[\"seen\",\"\"],[\"sell\",\"\"],[\"sensual\",\"\"],[\"sent\",\"\"],[\"separ\",\"\"],[\"seri\",\"\"],[\"serv\",\"\"],[\"servic\",\"\"],[\"set\",\"\"],[\"setback\",\"\"],[\"sharpen\",\"\"],[\"shelv\",\"\"],[\"showcas\",\"\"],[\"sibl\",\"\"],[\"signal\",\"\"],[\"signific\",\"\"],[\"silkscreen\",\"\"],[\"similar\",\"\"],[\"simultan\",\"\"],[\"singer\",\"\"],[\"singl\",\"\"],[\"sky\",\"\"],[\"skydanc\",\"\"],[\"slight\",\"\"],[\"smaller\",\"\"],[\"smart\",\"\"],[\"smooth\",\"\"],[\"sneaker\",\"\"],[\"sneakerhead\",\"\"],[\"societi\",\"\"],[\"soft\",\"\"],[\"solo\",\"\"],[\"someth\",\"\"],[\"son\",\"\"],[\"song\",\"\"],[\"sophist\",\"\"],[\"sort\",\"\"],[\"sound\",\"\"],[\"space\",\"space\"],[\"spacetoground\",\"\"],[\"spacex\",\"spacex\"],[\"spanish\",\"\"],[\"spectacular\",\"\"],[\"spectrum\",\"spectrum\"],[\"specul\",\"\"],[\"split\",\"\"],[\"sport\",\"sport\"],[\"st\",\"\"],[\"stabil\",\"\"],[\"staff\",\"\"],[\"stamp\",\"\"],[\"standalon\",\"\"],[\"star\",\"\"],[\"starlink\",\"\"],[\"starship\",\"starship\"],[\"start\",\"\"],[\"static\",\"\"],[\"stay\",\"\"],[\"step\",\"\"],[\"stock\",\"\"],[\"store\",\"\"],[\"storel\",\"\"],[\"stori\",\"\"],[\"straight\",\"\"],[\"strategi\",\"\"],[\"streak\",\"\"],[\"street\",\"\"],[\"strength\",\"\"],[\"stress\",\"\"],[\"strong\",\"\"],[\"structur\",\"\"],[\"struggl\",\"\"],[\"stumbl\",\"\"],[\"subt\",\"\"],[\"subtl\",\"\"],[\"subvert\",\"\"],[\"success\",\"\"],[\"sudden\",\"\"],[\"suffer\",\"\"],[\"summer\",\"\"],[\"sun\",\"\"],[\"sunday\",\"\"],[\"supermodern\",\"\"],[\"surfac\",\"\"],[\"surpris\",\"\"],[\"surrend\",\"\"],[\"swim\",\"\"],[\"swimmer\",\"\"],[\"synonym\",\"\"],[\"tabl\",\"\"],[\"tag\",\"\"],[\"tailor\",\"\"],[\"takeov\",\"\"],[\"talent\",\"\"],[\"talk\",\"\"],[\"tap\",\"\"],[\"target\",\"\"],[\"tariff\",\"\"],[\"team\",\"\"],[\"tech\",\"\"],[\"telecom\",\"\"],[\"tension\",\"\"],[\"terrestri\",\"\"],[\"test\",\"\"],[\"text\",\"\"],[\"th\",\"\"],[\"theyr\",\"\"],[\"thing\",\"\"],[\"think\",\"\"],[\"thought\",\"\"],[\"throughput\",\"\"],[\"tim\",\"\"],[\"time\",\"time\"],[\"tire\",\"\"],[\"titl\",\"\"],[\"tmobil\",\"\"],[\"togeth\",\"\"],[\"tokyo\",\"\"],[\"ton\",\"\"],[\"took\",\"\"],[\"toptier\",\"\"],[\"total\",\"\"],[\"touch\",\"\"],[\"tout\",\"\"],[\"tower\",\"\"],[\"tradit\",\"\"],[\"transmiss\",\"\"],[\"travel\",\"\"],[\"tremul\",\"\"],[\"trepid\",\"\"],[\"tri\",\"\"],[\"trigger\",\"\"],[\"trio\",\"\"],[\"tuesday\",\"\"],[\"turn\",\"\"],[\"tv\",\"\"],[\"twothird\",\"\"],[\"uk\",\"\"],[\"uncertain\",\"\"],[\"undisput\",\"\"],[\"undul\",\"\"],[\"unlik\",\"\"],[\"unlock\",\"\"],[\"unusu\",\"\"],[\"upheav\",\"\"],[\"uscentr\",\"\"],[\"use\",\"use\"],[\"v\",\"\"],[\"valu\",\"\"],[\"valuat\",\"\"],[\"veil\",\"\"],[\"version\",\"\"],[\"video\",\"\"],[\"view\",\"\"],[\"viewer\",\"\"],[\"wait\",\"\"],[\"walkthrough\",\"\"],[\"wall\",\"\"],[\"want\",\"\"],[\"water\",\"\"],[\"way\",\"\"],[\"weak\",\"\"],[\"wealthi\",\"\"],[\"wed\",\"\"],[\"week\",\"\"],[\"welcom\",\"\"],[\"went\",\"\"],[\"werent\",\"\"],[\"wholesal\",\"\"],[\"wider\",\"\"],[\"wildcard\",\"\"],[\"willing\",\"\"],[\"wireless\",\"\"],[\"withstand\",\"\"],[\"woman\",\"\"],[\"womanlik\",\"\"],[\"women\",\"\"],[\"wooden\",\"\"],[\"work\",\"work\"],[\"worker\",\"\"],[\"workhors\",\"\"],[\"worldview\",\"\"],[\"wors\",\"\"],[\"wouldnt\",\"\"],[\"woven\",\"\"],[\"wrench\",\"\"],[\"writer\",\"\"],[\"wrong\",\"\"],[\"wss\",\"\"],[\"x\",\"\"],[\"yale\",\"\"],[\"year\",\"year\"],[\"yield\",\"\"],[\"york\",\"\"],[\"younger\",\"\"],[\"zone\",\"\"]],\"hovertemplate\":\"dominant_topic=1_spacex_said_locker_foot\\u003cbr\\u003efrequency=%{marker.size}\\u003cbr\\u003eword=%{customdata[0]}\\u003cextra\\u003e\\u003c\\u002fextra\\u003e\",\"legendgroup\":\"1_spacex_said_locker_foot\",\"marker\":{\"color\":\"#636efa\",\"size\":{\"dtype\":\"i1\",\"bdata\":\"AQECAQEBBAICBAEBAQEBAQIEAQEBAQMBAQICAQEIAQEEAQECBAEBAQECAQIDAQEBAQEBAQEGAQEBAQECAQEBAgEBAQEBAQEBAgEBAQECAQEBCQQCAQEBAQEBBgEJAgEBAgEBAgEBAQUBAgIBAwIBAQMCBAgBAQMBAQEBAQICAgEBAQIBAQMBAQMBAQEBAQIEAQEBAQECAQECBAEBAQEDAQQBGAEBAQEBAQEDAQICAQIBAQEBCQICAQEBAgoBBAEBAQIBBwIBBQECAgMBBAEDAQEBAQEJAgIBAgMBAQEBAgEBBgEBAhMBAQMFAQMCAQICAQEBBAEBAQEBAQECAQECAQIBAgEBAQEFAQEBAgIBAQEBAQEBAgUDAwEBAQEBAQEBAQEBAQEBAQIBAwEHAQECBAEBAQEBBAEFBAEDAQEBAgEBAQEEAQEBAQECAgEBAQEBFgICAQEBCQIBAQECAQIBAQEBAQECAQEBAQMBBAECCQEEAQEBAgEBAQEBAQEBAQEBAQEBAQEBAwEBAQMFBAEBAgUBAQEBAQIBAQEBAQIBAgEBAQIDAQEBAwEBAgEEAgIBAQIBBAEDAgECAQEBAQIBBwEBAQEBAQgBAQIBAQEBCwEBBQMBAgEDAQEBAQEBAQIEAQkBAQEBAwEBARYBAwEBAQYBAgMBAwEDAQEBAQgBAQEDAQcBAQEBAgMBAwEDAQEBAQEBAgEDAQEBAQEBAQEBAQIBCAIGBgECBAECAQUBAQUCFAELAQEBAQQBAQECAgEDAQIBAgIIAQEBBAEBAQIBAgEBAgEBAgEBAQEBAQICAgQBAQIBAgMCAQQBBwEBCAEBAQEFAQMEAgIBAQECAgEFAgEBAQUBAQMBBQEBBAEBAQEBAQIBBQMDBQEBAQQEAQEBAQUCAQEBAgMCAQEBAwEDAQEBAgICAQEBBQECBQEBAgEDAQEBAQECBwECAgEBAgEBAQEBAwMFAQEBAQUBARYCDQEDAQEBAgEBAwICAQEDAwEGBAEBAQECAgEBAQECAQEBAQMBAQMBAQIBAQECAQEBCAEVAQEKAgEJAQIBAQEBAQoEAQIDBAQBAQEBAQICAQEBAgEBAQEDAQEBAQIBAwIBAwEBAQECAQEBAgIBAgEDAQMHAgEBAgcBAQELAQMCAwEDAQECAgEBAwEBAwECAQEBAQEBAgEBAQMBAQEBCgMDAwEDAQECAQIDBAIFAgEBAQEBAQEBAQECAQEBAQEKAQEBAQEBAQEBAQEBCwEFAQE=\"},\"sizemode\":\"area\",\"sizeref\":0.003,\"symbol\":\"circle\"},\"mode\":\"markers+text\",\"name\":\"1_spacex_said_locker_foot\",\"showlegend\":true,\"text\":[\"\",\"\",\"\",\"\",\"\",\"\",\"\",\"\",\"\",\"\",\"\",\"\",\"\",\"\",\"\",\"\",\"\",\"\",\"\",\"\",\"\",\"\",\"\",\"\",\"\",\"\",\"\",\"\",\"\",\"analyst\",\"\",\"\",\"\",\"\",\"\",\"\",\"\",\"\",\"\",\"\",\"\",\"\",\"\",\"\",\"\",\"\",\"\",\"\",\"\",\"\",\"\",\"\",\"\",\"\",\"\",\"\",\"\",\"\",\"\",\"\",\"\",\"\",\"\",\"\",\"\",\"\",\"\",\"\",\"\",\"\",\"\",\"\",\"\",\"\",\"\",\"\",\"\",\"\",\"\",\"\",\"\",\"becaus\",\"\",\"\",\"\",\"\",\"\",\"\",\"\",\"\",\"\",\"\",\"billion\",\"\",\"\",\"\",\"\",\"\",\"\",\"\",\"\",\"\",\"\",\"\",\"\",\"\",\"\",\"\",\"\",\"\",\"\",\"\",\"\",\"\",\"\",\"busi\",\"\",\"\",\"\",\"\",\"\",\"\",\"\",\"\",\"\",\"\",\"\",\"\",\"\",\"\",\"\",\"\",\"\",\"\",\"\",\"\",\"\",\"\",\"\",\"\",\"\",\"\",\"\",\"\",\"\",\"\",\"\",\"\",\"\",\"\",\"\",\"\",\"\",\"\",\"\",\"\",\"\",\"\",\"\",\"\",\"\",\"\",\"compani\",\"\",\"\",\"\",\"\",\"\",\"\",\"\",\"\",\"\",\"\",\"\",\"\",\"\",\"\",\"\",\"\",\"\",\"continu\",\"\",\"\",\"\",\"\",\"\",\"\",\"corp\",\"\",\"\",\"\",\"\",\"\",\"\",\"\",\"\",\"\",\"\",\"\",\"\",\"\",\"\",\"\",\"\",\"\",\"\",\"\",\"\",\"\",\"\",\"\",\"\",\"deal\",\"\",\"\",\"\",\"\",\"\",\"\",\"\",\"\",\"\",\"\",\"\",\"\",\"\",\"\",\"\",\"\",\"dick\",\"\",\"\",\"\",\"\",\"\",\"\",\"\",\"\",\"\",\"\",\"\",\"\",\"\",\"\",\"\",\"\",\"\",\"\",\"\",\"\",\"\",\"\",\"\",\"\",\"\",\"\",\"\",\"\",\"\",\"\",\"\",\"\",\"\",\"\",\"\",\"\",\"\",\"\",\"\",\"\",\"\",\"\",\"\",\"\",\"\",\"\",\"\",\"\",\"\",\"\",\"\",\"\",\"\",\"\",\"\",\"\",\"\",\"\",\"\",\"\",\"\",\"\",\"\",\"\",\"\",\"\",\"\",\"\",\"\",\"\",\"\",\"\",\"\",\"\",\"\",\"\",\"\",\"\",\"\",\"\",\"\",\"\",\"\",\"\",\"\",\"\",\"\",\"\",\"\",\"\",\"\",\"\",\"\",\"\",\"\",\"\",\"\",\"\",\"\",\"\",\"\",\"\",\"\",\"\",\"\",\"\",\"foot\",\"\",\"\",\"\",\"\",\"\",\"fox\",\"\",\"\",\"\",\"\",\"\",\"\",\"\",\"\",\"\",\"\",\"\",\"\",\"\",\"\",\"\",\"\",\"\",\"\",\"\",\"\",\"\",\"\",\"\",\"global\",\"\",\"\",\"\",\"\",\"\",\"\",\"\",\"\",\"\",\"\",\"\",\"\",\"\",\"\",\"\",\"\",\"\",\"\",\"\",\"\",\"\",\"\",\"\",\"\",\"\",\"\",\"\",\"\",\"\",\"\",\"\",\"\",\"\",\"\",\"\",\"\",\"\",\"\",\"\",\"\",\"\",\"\",\"\",\"\",\"\",\"\",\"\",\"\",\"\",\"\",\"\",\"\",\"\",\"\",\"\",\"\",\"\",\"\",\"\",\"\",\"\",\"\",\"\",\"\",\"\",\"\",\"\",\"\",\"\",\"\",\"\",\"\",\"\",\"\",\"\",\"\",\"\",\"\",\"\",\"\",\"\",\"\",\"\",\"\",\"\",\"\",\"\",\"lachlan\",\"\",\"\",\"\",\"\",\"\",\"\",\"\",\"launch\",\"\",\"\",\"\",\"\",\"\",\"\",\"\",\"\",\"\",\"\",\"\",\"\",\"\",\"\",\"\",\"\",\"\",\"\",\"like\",\"\",\"\",\"\",\"\",\"\",\"\",\"\",\"\",\"locker\",\"\",\"\",\"\",\"\",\"\",\"\",\"\",\"\",\"\",\"\",\"\",\"\",\"\",\"\",\"\",\"\",\"\",\"make\",\"\",\"\",\"\",\"\",\"\",\"\",\"\",\"\",\"\",\"\",\"\",\"\",\"\",\"\",\"\",\"\",\"\",\"\",\"\",\"\",\"\",\"\",\"\",\"\",\"\",\"\",\"\",\"\",\"\",\"\",\"\",\"\",\"\",\"\",\"\",\"\",\"\",\"murdoch\",\"\",\"\",\"\",\"\",\"\",\"\",\"\",\"\",\"\",\"\",\"\",\"\",\"\",\"\",\"new\",\"\",\"news\",\"\",\"\",\"\",\"\",\"\",\"\",\"\",\"\",\"\",\"\",\"\",\"\",\"\",\"\",\"\",\"\",\"\",\"onli\",\"\",\"\",\"\",\"\",\"\",\"\",\"\",\"\",\"\",\"\",\"\",\"\",\"\",\"\",\"\",\"\",\"\",\"\",\"\",\"\",\"\",\"\",\"\",\"\",\"\",\"\",\"\",\"\",\"\",\"\",\"\",\"\",\"\",\"\",\"\",\"\",\"\",\"\",\"\",\"picasso\",\"\",\"\",\"\",\"\",\"\",\"\",\"\",\"\",\"\",\"\",\"\",\"\",\"\",\"\",\"\",\"\",\"\",\"\",\"\",\"\",\"\",\"\",\"\",\"\",\"\",\"\",\"\",\"\",\"\",\"\",\"\",\"\",\"\",\"\",\"\",\"\",\"\",\"\",\"\",\"\",\"\",\"\",\"\",\"\",\"\",\"\",\"\",\"\",\"\",\"\",\"\",\"\",\"\",\"\",\"\",\"\",\"\",\"\",\"\",\"\",\"\",\"\",\"\",\"\",\"\",\"\",\"\",\"\",\"\",\"\",\"\",\"\",\"\",\"\",\"\",\"\",\"\",\"\",\"\",\"\",\"\",\"\",\"\",\"\",\"\",\"\",\"\",\"\",\"\",\"\",\"\",\"\",\"\",\"\",\"\",\"\",\"\",\"\",\"\",\"\",\"\",\"\",\"\",\"\",\"\",\"\",\"\",\"\",\"\",\"\",\"\",\"said\",\"\",\"satellit\",\"\",\"\",\"\",\"\",\"\",\"\",\"\",\"\",\"\",\"\",\"\",\"\",\"\",\"\",\"\",\"\",\"\",\"\",\"\",\"\",\"\",\"\",\"\",\"\",\"\",\"\",\"\",\"\",\"\",\"\",\"\",\"\",\"\",\"\",\"\",\"\",\"\",\"\",\"\",\"\",\"\",\"\",\"\",\"\",\"\",\"\",\"\",\"space\",\"\",\"spacex\",\"\",\"\",\"spectrum\",\"\",\"\",\"sport\",\"\",\"\",\"\",\"\",\"\",\"\",\"\",\"starship\",\"\",\"\",\"\",\"\",\"\",\"\",\"\",\"\",\"\",\"\",\"\",\"\",\"\",\"\",\"\",\"\",\"\",\"\",\"\",\"\",\"\",\"\",\"\",\"\",\"\",\"\",\"\",\"\",\"\",\"\",\"\",\"\",\"\",\"\",\"\",\"\",\"\",\"\",\"\",\"\",\"\",\"\",\"\",\"\",\"\",\"\",\"\",\"\",\"\",\"\",\"\",\"\",\"\",\"\",\"\",\"\",\"\",\"time\",\"\",\"\",\"\",\"\",\"\",\"\",\"\",\"\",\"\",\"\",\"\",\"\",\"\",\"\",\"\",\"\",\"\",\"\",\"\",\"\",\"\",\"\",\"\",\"\",\"\",\"\",\"\",\"\",\"\",\"\",\"\",\"\",\"\",\"use\",\"\",\"\",\"\",\"\",\"\",\"\",\"\",\"\",\"\",\"\",\"\",\"\",\"\",\"\",\"\",\"\",\"\",\"\",\"\",\"\",\"\",\"\",\"\",\"\",\"\",\"\",\"\",\"\",\"\",\"\",\"\",\"work\",\"\",\"\",\"\",\"\",\"\",\"\",\"\",\"\",\"\",\"\",\"\",\"\",\"year\",\"\",\"\",\"\",\"\"],\"x\":{\"dtype\":\"f4\",\"bdata\":\"5QMCQr5IF8Gq\\u002fwQ\\u002f\\u002fTYCQoFG6kGf6hbB\\u002fdHDvtAxGMF2Qwk\\u002fuLqCQNlwAkJPBRjB0bgCQopt1UBQUgJCfnbsQeu5kkDSeOpBeSfsQa\\u002f\\u002fz0BxFdhAC87QQEztAkLWQupBZ9sXwTyagECr3RnBlLfsQSuk60Eox\\u002f9BASbrQd9p7EHDbJi+igAZwTxY60FAGMdBkXyCQb6xAkJ84epBAArRQBPR6kEPaxzBNnwBQvvXAUIfpiZB7DXLQK+T7EHtZu1BK2zsQYYNy0DtMuxBFLrrQTCQ7EHHv\\u002fJBhY7sQesXFsFRyQFCAjXSQKhB7EGCqBXBfqEWwXh92ECULAJCkuykPz3A7UGXf9JAoDfsQUEnE8HYZBfBXT8CQs\\u002fJ6UEo2NJArg4DQrE6AkJ8NRjB2dwXwcf56kFHgNNAoq0CQgqn7EHOSulBXMosQVXoGUDY0M5APrUVwfO66kF11gFC+ArqQegoGcE+6gFCQrQAQlllzUC40cZB\\u002fhMCQkJrG8GzGetBFeSSQGslAkINfOtBSV7qQZNK7UEFE+xBQWHrQSZeEsHT1MZArX0AQulRHsFYkBrBEw0BQv8qqT8iZc5A0RIXwathKkFbAca+FhkCQub53j\\u002fv8NFAcJ3RQHcAjb7mucpAjsAXwWbYAkIc5AJCH4XpQU0ix0G3WANC0qS5wAjd7EHfjdJAv1kcwUYwAUJEhwFCSxXrQVHGFkCA6QFCE4vqQV85AkKV6BXBj2DrQeyA00DNTxPBWosYwTgwgUC63SxBf1\\u002fPQGhW6kF4R9VANioDQvYRF8EbVgNCWhjUQMlFAkKKF8dBtNAqQcIT70GQuu5ByvHXQLTE70GXC5RAfRUcwVLADMGl3c5Av3bAwKJlAULI0BbBOJwBQnF61kANE+9BlWLwQaem70FucYNA2wzwQZg97EHsYb3ADikZwTFt0kDnb+lBjegBQkIn7EHEkAJCZd0mQbiQ0UDGEdJAKvrrQZEl60FxaM9A4rySQJ8U0EAl7OxBbPYsQXmcGMEjKAJC4XITwX0J7EHweutB50YtQWNBrT+64u1Be3HlP+wPykChONu+XUAVwdwJlEAspwFC0kXnQWog7UHtJipB5nbpQenj6kGuQRrBeWfUQHOf60FH9MS+PC7rQczaAUJdNuxBTfihPy8kyMAUiwJCy+LQQO597EFiCgNCkAquPxsXAkJyF+pBxQICQp8gF8Fe3QJC2GrrQX36DsFrmAFCErrHQCWJgkEBCABCA+sBQp5vg0A8tRbBidvVQMR06UH7Vca+53DpQQhL60HUAhvBY43rQQg06kG1CdRArRzPQHRoFcFchAJCghMDQrAKyEDVr8xAK98YwdrdAUIkE+pBL+YXwTHTusDiOBbBeSXrQWNzFcHdXhfBexjOQP4v7UH33f9BEz4cwVR2GsFhYNJAM6oCP3zSxkE8DQFCT8jWQHE86kFt1upBpsrVQLlAAkJAJc9AEvTrQeD2nkAJk\\u002fFBfLYZQCeNGcG7dQFC7lQbwdzC7EFNdwFCj2rtQREWAUIDotlAe+oBQjEkHcFWjAFCHMUZwYr+y0BqCO1BVDDSQADugEAcpRTBP6XLwPpCF8GtSPBBtxcYwQPKzEDAZ+hBRH6CQfeqAUJXzBXBFNHEQJVY6UEKAOlBRa0BQmfLAkIZC89AaWgtQe2410C7ZQFCbC8DQknI6EHxWelBk3XqQQg360E+rQJCmFIDQgpz7EEOUZ9A0+sBQpI7yUDEF+tBdELpQe+C8EGrVQFCz8XvQW\\u002fOEsFOuetBphHuQW+iyEAV\\u002fO1BB\\u002foNwfVcG8HlGvFBLbwZwej7GsHMeABCaKfCQCY2gkH9HvFBy14DQtb\\u002fE8GEdvBBnpsCQiKngUDKIANCXTgDQiDuE8E\\u002fp9RAthICQhohGcE1kfFBipYVwfBz8UE0uPBBI8bvQbPAA0Lwy+5BE2QMwZix70FcNgJCeFnUP15ZA0JMPcdB\\u002ffcXwb+E6kFKIwNCNArHQVIyG8ED7utBDQDNQOY2A0JLbRnBikPtQZRqF8E1rRnB7HwCQsNeAkKySQJClxbtQW4VAULo0chAA7YBQrEQAUIlMRrBg7MVwYC2AEIyvsdALaQAQvi9E8HkCQBCM0nsQfSR7kFPd+tBkvLuQdYWn0DQYR3BZAsDQqKrA0KLURTB114VwRZlzL5ppupBPyLsQTvb50HEItRAHDnOQBS\\u002f6kGp9+pBJUiCQR+3FMH18OxBqT\\u002fpQQ8ZAUL56RhANmcXwf90E8ESMxTBA8BgQFan00DmjutBzDzuQffmAEIAihpAJmnoQedtusDQTBrBsRTrQQmTAUJHqulBTLwSwYt2FcF8MPJBgZQOP5eA60EArdJAJzjoQf9w7EGm6ANCaKroQRoLk0AwyhHB86KBQBZBA0KhMetBb5ftQfWo7EF9mOlBHnnqQZIH0EASyhjBDbLqQSSTgUDNTwJCcFoCQsdp60HyjgJCsDnxQR9zFcH+RdRAi\\u002fOYQIH6gkB44AJCsHz+PrU0AUL+T8zAmEHNQJmZ7EGITe5BDJ4XwUHVAEJLmQFCJB\\u002fuQUSbw76k5e1BqJDuQRENhEBQYBXBAF3uQSQ17kF2VhbB8hDMwISDAUIZn+1BYR3pQc+DDsE3kBrBDHWDQGj4z0CjpwJCw3LFQHFOn0AOnOtBky6xP\\u002f1ggUAYve5BgxABQk3FGsHKVxPBkvfQQGAG6kFSauhBKEPsQT21KkFbiuhBZ7jnQetZ6kGlQczAYT0TwaAauUAa5OZBs37sQccfA0KJ7hbBlnbWQBfQykBfawJCJr\\u002fxQfQg10AItp5AxWsCQrQtzkBIqexBUGDtQcyTAkJDuQJC9wOnP8tGF8EeFANCctMWwaIUy0BdFxXBSXUBQmJF7kGrNAFC6I0BQswl7kEoj9lAlw7tQU4Rv75IXQFCwUXPQHWU50HHY\\u002fJBtI8CQqPX50G25exBADlaQLmcA0K7RANC\\u002fI\\u002fnQQxz0z8b9AFCNaLsQYJgLUH+CMdB\\u002fYaCQTt1zUDoi8ZAT6TPQCOEAkKH+hfB15\\u002frQQ27E8HLEANCLrwTwc+e5kEH4ABCI7u6wM9Z6kGWeoJB5Y7qQe6Df0CiyhfBf\\u002f0TwejUqz\\u002fXmBpA\\u002fg3VQA4vAUKX3gJCbpQBQqi26UHWhwJC8qHsQTCKqj9\\u002fvRjBEz3HQWfdFMGovBnBHRPuQYgJ70Eib81ASNYcweRl6UGtAu1BZ5gBQu2DzkAZEe9BpvDoQb4u2kCVkLrAwygBQlqA7kH4EOpB1Hr\\u002fQdC7xkG\\u002fQNdA2J3MQCeB8kFizupBfeQCQlCtAkLpZdxAdfbwQVL850GKU+1BbqLqQS\\u002f360EfvepBgCITwbQm6kFFOrzA\\u002fXTtQZSpAkIBGKs\\u002f5gkbwcRl6kEjChjB0OkCQi8I7EFJQrvAuyeCQdkoGcGNtytB5DIIP1aMy0CIOvBBBZvwQapAg0AUcRrBb3gbwasK8kFICsxAdnooQU5dAkJtagFCQT8CQg8c1EDYp8pAjegBQqm1AELpvhPBNi\\u002fwQS\\u002fFucD8WQBCguT\\u002fQZtsycBBPCZBi47EwNrYFMGxJwFCRf0AQpLSy8D7I+5BJLDoQZXYG8EuJtFAoArPQHsz5z8Laa0\\u002f1J0AQsCp6UHFWQNCwuwBQkeqJkH4J8dBXYUBQqm\\u002fH8FOyulB7fnxQcNOykBmoyZBctzLQO\\u002fdFcEf7gBCnqsGP3OG6UEcwak\\u002fMxYVwWuX7UGBcMVAw767wEYoA0KDh6k\\u002fGkKzPy3SAEL0Du9B5PS6wMUG6EETvmBAvlLSQH2J1kDZvOxBX43rQdtIGsGjDqs\\u002f+lUmQbydG8Ekb8dBXbkBQvlk6kF+DQFCdSq6wMx\\u002fF8HYDwRCBV3tQXkJ7EGV7OhBAdaFQMWzgkC5FgBCRlkBQhwd6EGZJelBbf7ZQOKn1UBW8udBLXfRQD79K0Fw3pJAkCsAQkZXzkCyGBhAWMLcQFH710CKEQRCIiTnQcyP50HO3AJC6rvIQLhkGsH3vwJCSubsQcVv7UEzB4JBGZWUQJcKzEDSrLxAz+OnP7UQAkK9zRLByMgbwfAy60EPhNBAzQi7wO6yAEI9ou5BgIYAQj257kHW7+1BSX7tQdoP7kG9GNdAZ4PrQeNDDMGYZstAbFATweI0FcFPYxPBy2DsQaUG7EHvqehBMA\\u002fnQYur3UCgvuhBwMsYwQcpA0J5SANCXGWDQK61A0JNCABCQH3sQbC0AEIjCQBCjDLVQPuQ00AItwU\\u002fsAzUQNpPy0DXK+tBuK\\u002fsQbNWGMGP2hbBbScAQlI2AEKAGoNAhl3sQdXLqz9Lg8nA46jDvsLlFsFcGh3BO50SwcGzAEJARRfB1gICQviBx0GtpRTBPZgVwX1nAUJ9gfBBUiLHQTtzGcEfE\\u002fFBmuHxQXuF8UG6H59AAd3LQCUtA0IdKwJCBS7sQSqb50EOxehBa9LyQSMNx0EPtutB5UbyQS3A50EZUxbBqPgDQkheA0Im8aY\\u002ff9PpQS3gGsGOm9RAOGDHQUpcu8BQSRvBCbIZwXWQyUDsBgJC+drsQW5VAkLAR8zA9fHDvilK70HIlgNCeXTNQOQblEAJTe9BlIkAQjT2AEJ3G7VACLHRQKIj8kFqvgBCYWuDQA7l7EE8nQJCi+AAQgXqAEJN9LS+4jeCQX1mAEI8TwFCplaUQGn2AUIzMulBVZjyQXxO6kHK6hHBCLDnQewH7UF5R9FAwgXJQP+vxED08ANCJHTaQHC3A0LuHhLB87LrQcKRF0C7Ox\\u002fBYYToQadD2ED4RRrB9mIqQfslAkIAWszA4bReQGhq60Fm+wrBbTMDQp\\u002fa7UEVYu1BmgACQp5N70FXdINAzpEBQusz8EHihINA+ivHQQ3Z1kByl8xALJUYwVKZE8HuUwBCIxgBQsIwGsHozhfBkYHKQFLkAELfogBCrcbcQMYn50FFPuhBho7qQeI16EFyhS1B\\u002ftDqQWWUAkIo\\u002f9hAzLEBQrnQAUKGQOhBKQAEQr3c6EGI1xnBTgQRwRxfAUKs1OdBVCcIQDZU5kGHQ4JBX9wcwSP1FcE=\"},\"xaxis\":\"x\",\"y\":{\"dtype\":\"f4\",\"bdata\":\"34GzwVLHqkH2LiVBKBezwa8hvUG0bKpBNoUiQTpQq0HmZCVBfxqdQHBZs8ECmKpBvnezwcbFosFfKLPBsF69QZNGt0CkyL1Bltu9QXgGpMGpvqPB03OkwbsGs8EL7L1Bwn+rQfe8pEBJBqxB5mu+QVrSvUG3+KfB\\u002f9O+QeivvUEM1CJB+PqrQewUvkGs0sO99Rt2QfvNs8EeEMBBRzilweARvUFw7KpB+a6xwbp1s8GkmrfA9hWiwb8cvEHu971Bf+u9QYF8o8Hr57xBI9q8QdzivEGmmMBBInC8QYjIqUE3vLTB1KKjwQk2vEGEAqtBbUupQc0kpMHkZ7LBVF4+wDbnukGA76TBFEO7QVyQq0HKoKtB4iu0wWvQvUGOVaPBwgyzwSeVssGxLqtBBE6qQcZTvkHM2qPBjG2ywd27vEFw175BbMGtwB5XIMDiZqTB4BSqQe1LvkFm+bLBtOm8QYDwq0GbFLLBZburwW39pMH3Ggm+wV6xwfR8q0Fs0rxB1m63QDJGtME+xbxBW4G8QQLhvEFajb1BmKi7QZHyq0GWUaLB6nmwwUhrq0Gl56dBe4yzwRFLPcCj86LB6tqpQZDNscAWfSJBXY2ywUNUM8Aw3aLBJ1ujwTW4I0F4tKPBA2KpQarEssFlCrPBFjO\\u002fQegUyL0S6LLBOPogwfGTvEHYGKPBmiWrQSr4ssFUO7PBqkK7QWOqIcBgIrTBViK8QXzYssF4datBB\\u002fO7QaSrosHno6tBckKqQd\\u002fdpEBtkK3AsGWjwWrTvEH4OqTBtNWzwXlWqUG4\\u002fbLB2e2iwf4KscEql7u9qB6xwCAAv0E+P79Bmlejwb2Xv0Gil7hAmLepQd9IpUEl1aPBPLgdwROOscFjuKpBOsqxwXThpMFBR71B+9K+QcjhvkE69Y5ARY2+QRm3uEGGHB\\u002fB+wytQYzYocH+I71BV8SywQErvUEqJbTBpTq3wKowo8G\\u002fZqTBCwy+QQ9HvkGjZ6TBW0e3QOj4pMEoPb1B12etwP\\u002fnqUFmC7HBPtqoQWLwvUEAk7xBZ8WswGSBO8Ash71B6UQxwLuEo8GJyCFBsW6pQZOhuEBfAK\\u002fBU7a7QVtHukEarrHAN\\u002fG7QSNtvUHio6pB8HykwZBUvUE+iyJBspm+QfBhtMG6075Bp51AwIYKGsH0IrPBYtSiwTIlv0GLELLBuQQ7wEkMtMFYXLtBVmSwwftzrUEOxbTBAQG9QcMRpkGLELTBCtuiwRY2dkFPgajBVGy0wZNsj0DzdKhBupKlwTY0vEEpiSJBhqC9QUAvvkFY1qpBgSC\\u002fQfnEu0E7T6TBuf2jwVEqq0Gj1rHBV3OywZBBpcG\\u002fMaTBu7uqQSfsssFWIr5BFg+rQZ1jIMHmAatBgJe\\u002fQQUiq0FoPqpBQ++jwfYUvkHZq6jB0TGrQUxjqkHni6HBHAUlQZl9gb3NbbHB\\u002fH+iwRN5vkHQbb5B5rahwZkjscEXnaHBzfy8Qe0SxEAPeb9B4ucewCIrrEGgBLPBTgqrQZ03vEH8mrDBmoO7QRx1ssEFa6XBRGyywXtwqkFOirHBvRWrQYy1ocGzuLtBoIyhwduxpEBziqtBnk0YwVqSqUHBt75BaFKtQQJlpsGHmrxBQx92QQJ4scEYFK5BMkWiwSaXu0EkELxBkdKywZOus8ECmKTBqRqtwLIvo8EwnbPBCVexwfNwwEHi5b1BCea6QT5awEH27LDBk0uxwbr6ukH+bMRAIPWywWvwo8HqN75BM0K\\u002fQY2xvUHK2rHBDA7AQZU0rEGTgbtBCru7QU2Ro8H+ArxBz9KlQbYcqEE5Ub9BjHSpQaz8rEFlubLBxoqjwQPZdUEvAb5Btsm1wS\\u002fQq0G6gL9BHZe0wVSJpEDOLLLBQtqzwTxzrEHJrqXBEDiywfNjrEEHbL1BONCrQXwvv0GasLxB3h\\u002fAQWT0tMEzlr9BfyKlQWguv0GHUbTBysQ1wDSNssGIt+e9UiitQZbpvkEUqbHBNC+uvfWsq0EtuL9BNWqiwWU+s8HRvKtBxTa\\u002fQa49qUEUkalBk+SxwUyZscErWrTBasO+QYp0ssGYNKPBkQ+xwWSCssFCEKxBGpmoQTwXs8E6+qHBSxCzwYNPqEFekKjBQ9m6QR5OvEEkH7lBQm25QR02xEDRbqtB3NC0wf+1sMGDQ6xBEJWrQQMeIkH6dblBveG3QRBBu0FZDaPBkRSjwb8AvkFrQr5BObd1QWYdrEHHZr5B7+i9QT2ys8EYAyDADFOtQYyBqUHZOqlBnrCNwDrtosGJgLxBv227QZais8EDBR\\u002fAYpq7QaGVIMEymqlB2Ki5QUQStMGN1rpBpSWrQQi1qUE0KsBBBLElQezXuUEU76LBYj29QU5Ku0EyE7XBLxy+QWmZt0DZEqpBa3CjQNM3ssGbI79BogjBQRmywEECJb9BOYvAQfZjo8HNXqpBMGq\\u002fQZ6QpEBEf7DBxs+0wQQvvkGve7DBJKe9QUKOqEFwZKTBBqy9QCmUnECPTrHB+cgkQdftssGL+RfBFYWlwT\\u002f8v0HQTL5BiZ6pQVphscFRVbHBGNO+QV2EIkGpy7xBNBC8Qf\\u002frjkDDN6tB14m7QRU5vEG44alBvxwYwcvKtMGeDbxBoqK8QZMepkGIjatBbSuPQPB0osGKZLXBu82jwQ5uxEAvVrpBm5Q5wIYcpEDWZbtBs+exwTHuqEEkTqhB4wqlwTjHu0GZXbtBoCS6QajHscAOSLxBcsK8QULguUE8ABjB3AitQZUxo8FSdbxBPxa\\u002fQSrFssEaB6tBLXekweLrocH4sLDBb66\\u002fQZmuocE41MNA8\\u002fCwwdljocHVor9B0wDBQYA7sMHHmK\\u002fBDIQ+wEoKrEHchLPBPI2rQV0EpMFB1KhBlUKwwaB2vEFxMLHBghCwwYZkvkH0iKLB+8+5QQlhIkFXra\\u002fB5QylwaikvUGmH8BBf3WvwZRXvUHparlBGA2LwKDZtMHc1rTBA7O9QfXMNcB2yLHBjlnAQdKgrMBTxta9DDd2QXs4osGLeaTBp+ikwfBKssF+IKlB0Qq6QSezqkHVe7DBBWaqQXFavkFHxrHB7m8gwQEtwEFQGXZBI8S\\u002fQbBPo0AOla1BI2apQVybO8BM\\u002fB7AUYyhwa1gtsH9urPBtLazwcsRwEHtprPBwlHAQfHPPMAbR6tBBsngvSxEqkGS\\u002fKlBIlG9QWHou0HzcKXBPuGpQWXwukFOQ7pBfYOxwQnwosFmLrxBLcq6QeEQpMH1gyDBJyKzwR2wvkGzzLhB6zKzwVOrPL19\\u002f6HBiNqlwVxTwEErz7lBMX+0wZVttcFDC6PB1QW8QTowwEF\\u002fvsFBuObAQSRiuEEvMMFBNSGpQaeHwkFEtR\\u002fBhee\\u002fQQ0vs8EPezzAzK6rQQ1Vv0GiNahBcVGwwdRFwUEtLCDBbXd1QQzfqUFopq\\u002fABFclQV1SpMFdUsBB8mnAQbUNl0AJfqhBNR+pQRi9v0GvJKHBjLS0wMC3r8E+TLDB\\u002f76vwSKypcEl2KHBMg2wwUsTssGQEKpBNIDAQRLqIMGW0bLBu+2nwdNnGcE2VbjAlsUbwZMCrUEE+a\\u002fBOMGwwX83GMHtwblB4cu5QfTOqUE0yKHBpoCgwTEFM8BWEDvAsDGzwYaJuUGcnrbBkCS3wcWUt8DABbS9FautwUDqqUEo9b9BiEC\\u002fQTWoo8GQpbfA7VmjwU09q0FfDLDBjjUlQVv\\u002fwEESAz3AXNGpQV1bwUEVj6TBUvIfwSLWsMFNOj3ATQ06wHqMsMHDhb1BQlIgwd82v0G7pY3AfISkwWOMocEnv8FBCWy5QZeZq0EQGzzAIgm4wDaIqkHeiwq+SyCvwdu1ukHJCrHBJLcgwf+VrEGSr7HBWG7AQfBpuUHcKrpBv2qpQLUqnEAPd6jBJzW1wTMeu0GLZ7pBO5GjwTNxpME77MBBcXimwb9Jr8Cib7dAq9WvwTWaoMH\\u002fSSDAwgKjwW0CpcHuw7TBiIm\\u002fQcmNv0GgfbDBV5ijwazLqUFBxa\\u002fBBUnBQVkqu0GYGXVBbi65QNj2pMF+XKPBnk8+wOd9rsEPnKlB74yqQYkNuUGKkqPBW0cgwVlus8HGnblBjxy0wf1ZukH2g7pBRsu5QcujuUG5UaTBxPy4QeghpUEFyqHBzkKsQWlmp0FEG61BC22\\u002fQerkuEEZ8LhBGl66QUyipcFaILhBTUmpQXwassEjCrDBI4KPQOUVssGHfqjBTnrAQfjPscGyhajBKsijwWilosHnMSVB9vajwbwvpMEUS75BxTu\\u002fQboPrUE2OKhBDc6ywRcdqMEja5tAqi7AQfxLPMDuWhnBpKgiQX\\u002fIp0HAhahBeLysQWOQtMEWYqhBEri2wWfC4r3f2KxBc1KtQePSr8Hvyr9Bzm\\u002fUvU\\u002f\\u002fq0GOPMBBzTq\\u002fQbJSvkG6P8RAzpWlwf70rsHbrbbBCG64QSjxvEEZl7tBHmfAQRwrub0hO8JBuAzAQWytwEFrB61BHASzwWuGscGGkj7A0GjBQdFerEEn\\u002fKHB94x5veAeIMEYu6xBT6eoQYUVpMEJxLHBK+PBQUWxtMFy\\u002fhfBA0ciQdLsvEHdS7LBYOChwdSxuEBmVLxBqRqywTzItMELAKTBSPqkwY0AwEHVe7TBUFSPQGMnuUHxjrDBl060wZm\\u002fs8GL+SJBbpZ1QaNns8E4PbXBy+m4QL8FtsEp5bhBcVDAQfYtuEGQlKpB90i7QR7euEG05qDBUG+hwbY6o8EjlLPBu\\u002fCkwX27tMGoUKhBHObBQaX3IMAHwqpBPNq+QXPGpMFpaahBLqixwH1ctsEY9BfBGraMwMDNwEGEhqRB0wCwwU3PuUHfR79B5hOvwdKUu0GxJ49A2jy1wQ7eukHU0KZAvFf1vSxfo8FknKbBzI2tQXNOrEFN9rTBdw61wZo3rUHFEK1BlWGhwQwZscFys7TBCSGiwXFUu0GEdLpByX64QT+6u0EIaqzAaDa8QcsPtsHIWaXBmWO2wYADtsE9o7xBX7+1wReyukGDl61BPfKpQcO2tsGA\\u002f8BBgU0owHPevkEDonVB8BWtQfmtp0E=\"},\"yaxis\":\"y\",\"type\":\"scattergl\"},{\"customdata\":[[\"abroad\",\"\"],[\"absenc\",\"\"],[\"acceler\",\"\"],[\"accept\",\"\"],[\"access\",\"\"],[\"accord\",\"\"],[\"account\",\"\"],[\"achiev\",\"\"],[\"acknowledg\",\"\"],[\"act\",\"\"],[\"action\",\"\"],[\"activ\",\"\"],[\"ad\",\"\"],[\"adapt\",\"\"],[\"address\",\"\"],[\"advoc\",\"\"],[\"advocaci\",\"\"],[\"africa\",\"\"],[\"age\",\"\"],[\"agenc\",\"\"],[\"agenda\",\"\"],[\"algal\",\"\"],[\"alreadi\",\"\"],[\"answer\",\"\"],[\"anywher\",\"\"],[\"applic\",\"\"],[\"aquacultur\",\"\"],[\"area\",\"\"],[\"argu\",\"\"],[\"asc\",\"\"],[\"ask\",\"\"],[\"assess\",\"\"],[\"associ\",\"\"],[\"assur\",\"\"],[\"astonish\",\"\"],[\"australia\",\"\"],[\"avail\",\"\"],[\"awar\",\"\"],[\"bap\",\"\"],[\"baromet\",\"\"],[\"began\",\"\"],[\"begin\",\"\"],[\"best\",\"\"],[\"bind\",\"\"],[\"biodivers\",\"biodivers\"],[\"bloom\",\"\"],[\"board\",\"\"],[\"bodi\",\"\"],[\"brazil\",\"\"],[\"buyer\",\"\"],[\"campaign\",\"campaign\"],[\"case\",\"\"],[\"catch\",\"\"],[\"caus\",\"\"],[\"center\",\"\"],[\"certif\",\"certif\"],[\"certifi\",\"\"],[\"chain\",\"\"],[\"chair\",\"\"],[\"challeng\",\"\"],[\"chief\",\"\"],[\"clear\",\"\"],[\"climat\",\"\"],[\"coast\",\"\"],[\"cole\",\"cole\"],[\"collaps\",\"\"],[\"commit\",\"\"],[\"communiti\",\"\"],[\"complaint\",\"complaint\"],[\"complet\",\"\"],[\"complex\",\"\"],[\"compound\",\"\"],[\"concern\",\"\"],[\"concret\",\"\"],[\"conduct\",\"\"],[\"confid\",\"\"],[\"confirm\",\"\"],[\"conflict\",\"\"],[\"conserv\",\"\"],[\"consum\",\"\"],[\"corpor\",\"\"],[\"council\",\"\"],[\"cousin\",\"\"],[\"csr\",\"\"],[\"declin\",\"\"],[\"despit\",\"\"],[\"difficult\",\"\"],[\"dilig\",\"\"],[\"direct\",\"\"],[\"director\",\"\"],[\"disclos\",\"\"],[\"disclosur\",\"\"],[\"diseas\",\"\"],[\"dismiss\",\"\"],[\"disput\",\"\"],[\"domin\",\"\"],[\"drag\",\"\"],[\"easi\",\"\"],[\"ecolog\",\"\"],[\"ecosystem\",\"\"],[\"educ\",\"\"],[\"endang\",\"\"],[\"energysector\",\"\"],[\"enforc\",\"\"],[\"ensur\",\"\"],[\"enterpris\",\"\"],[\"environ\",\"\"],[\"environment\",\"\"],[\"escal\",\"\"],[\"esg\",\"\"],[\"ethic\",\"\"],[\"event\",\"\"],[\"everi\",\"\"],[\"evolv\",\"\"],[\"examin\",\"\"],[\"exist\",\"\"],[\"exit\",\"\"],[\"expect\",\"\"],[\"exposur\",\"\"],[\"extinct\",\"\"],[\"face\",\"\"],[\"fail\",\"\"],[\"failur\",\"\"],[\"fallout\",\"\"],[\"farm\",\"\"],[\"fast\",\"\"],[\"feder\",\"\"],[\"feed\",\"\"],[\"fight\",\"\"],[\"file\",\"\"],[\"filer\",\"\"],[\"financi\",\"\"],[\"fish\",\"\"],[\"fix\",\"\"],[\"flashpoint\",\"\"],[\"forc\",\"\"],[\"forefront\",\"\"],[\"forese\",\"\"],[\"fragil\",\"\"],[\"framework\",\"\"],[\"frustrat\",\"\"],[\"fund\",\"\"],[\"gambl\",\"\"],[\"gap\",\"\"],[\"geoff\",\"\"],[\"globalgap\",\"\"],[\"gone\",\"\"],[\"govern\",\"\"],[\"greater\",\"\"],[\"green\",\"\"],[\"grievanc\",\"\"],[\"group\",\"\"],[\"guidelin\",\"\"],[\"halo\",\"\"],[\"hand\",\"\"],[\"handl\",\"\"],[\"harbour\",\"harbour\"],[\"harm\",\"\"],[\"heart\",\"\"],[\"heighten\",\"\"],[\"heritag\",\"\"],[\"higher\",\"\"],[\"highest\",\"\"],[\"highlight\",\"\"],[\"illustr\",\"\"],[\"impact\",\"\"],[\"implic\",\"\"],[\"import\",\"\"],[\"indonesia\",\"\"],[\"industri\",\"\"],[\"influenc\",\"\"],[\"ingredi\",\"\"],[\"inquiri\",\"\"],[\"institut\",\"\"],[\"intergovernment\",\"\"],[\"intern\",\"\"],[\"intersect\",\"\"],[\"intervent\",\"\"],[\"interview\",\"\"],[\"intrins\",\"\"],[\"investor\",\"investor\"],[\"issu\",\"\"],[\"join\",\"\"],[\"just\",\"\"],[\"kelli\",\"\"],[\"label\",\"\"],[\"largest\",\"\"],[\"lead\",\"\"],[\"leader\",\"\"],[\"legal\",\"\"],[\"lend\",\"\"],[\"level\",\"\"],[\"limit\",\"\"],[\"list\",\"\"],[\"listen\",\"\"],[\"litig\",\"\"],[\"littl\",\"\"],[\"live\",\"\"],[\"local\",\"\"],[\"lodg\",\"\"],[\"longer\",\"\"],[\"loss\",\"\"],[\"macquari\",\"\"],[\"major\",\"\"],[\"manag\",\"\"],[\"mark\",\"\"],[\"mass\",\"\"],[\"materi\",\"\"],[\"matter\",\"\"],[\"maugean\",\"\"],[\"mean\",\"\"],[\"measur\",\"\"],[\"mechan\",\"\"],[\"meet\",\"\"],[\"member\",\"\"],[\"million\",\"\"],[\"minim\",\"\"],[\"misl\",\"\"],[\"mortal\",\"\"],[\"multin\",\"\"],[\"naturerel\",\"\"],[\"naturerisk\",\"\"],[\"navig\",\"\"],[\"necessari\",\"\"],[\"neglect\",\"\"],[\"newli\",\"\"],[\"ngo\",\"\"],[\"ngos\",\"\"],[\"note\",\"\"],[\"noth\",\"\"],[\"numer\",\"\"],[\"oblig\",\"\"],[\"ocean\",\"\"],[\"oecd\",\"\"],[\"oil\",\"\"],[\"oper\",\"\"],[\"outbreak\",\"\"],[\"outcom\",\"\"],[\"outstand\",\"\"],[\"ownbrand\",\"\"],[\"oxygen\",\"\"],[\"palm\",\"\"],[\"phoeb\",\"\"],[\"planet\",\"\"],[\"play\",\"\"],[\"polici\",\"\"],[\"popul\",\"\"],[\"pose\",\"\"],[\"potenti\",\"\"],[\"practic\",\"\"],[\"preced\",\"\"],[\"prevent\",\"\"],[\"proceed\",\"\"],[\"process\",\"\"],[\"product\",\"\"],[\"progress\",\"\"],[\"prompt\",\"\"],[\"protect\",\"\"],[\"provis\",\"\"],[\"public\",\"\"],[\"publish\",\"\"],[\"quick\",\"\"],[\"rais\",\"\"],[\"rate\",\"\"],[\"ray\",\"\"],[\"real\",\"\"],[\"realm\",\"\"],[\"rebound\",\"\"],[\"reckon\",\"\"],[\"record\",\"\"],[\"reduc\",\"\"],[\"refer\",\"\"],[\"referenc\",\"\"],[\"reflect\",\"\"],[\"refus\",\"\"],[\"region\",\"\"],[\"regul\",\"\"],[\"regulatori\",\"\"],[\"reli\",\"\"],[\"remov\",\"\"],[\"repres\",\"\"],[\"reput\",\"\"],[\"requir\",\"\"],[\"resolut\",\"\"],[\"respect\",\"\"],[\"respons\",\"respons\"],[\"revis\",\"\"],[\"risk\",\"risk\"],[\"roebuck\",\"\"],[\"role\",\"\"],[\"rountre\",\"\"],[\"rug\",\"\"],[\"ryan\",\"\"],[\"salmon\",\"salmon\"],[\"save\",\"\"],[\"say\",\"\"],[\"scheme\",\"\"],[\"scienc\",\"\"],[\"sciencepolici\",\"\"],[\"scientif\",\"\"],[\"scientist\",\"\"],[\"seafood\",\"\"],[\"second\",\"\"],[\"senat\",\"\"],[\"sentiment\",\"\"],[\"share\",\"\"],[\"sharehold\",\"sharehold\"],[\"shield\",\"\"],[\"shift\",\"\"],[\"simpl\",\"\"],[\"simpli\",\"\"],[\"site\",\"\"],[\"sitespecif\",\"\"],[\"skate\",\"skate\"],[\"slow\",\"\"],[\"small\",\"\"],[\"sophi\",\"\"],[\"sourc\",\"sourc\"],[\"soy\",\"\"],[\"speci\",\"speci\"],[\"spokesperson\",\"\"],[\"stake\",\"\"],[\"stakehold\",\"\"],[\"standard\",\"\"],[\"stark\",\"\"],[\"stewardship\",\"\"],[\"stop\",\"\"],[\"studi\",\"\"],[\"substitut\",\"\"],[\"succeed\",\"\"],[\"suggest\",\"\"],[\"supermarket\",\"\"],[\"suppli\",\"suppli\"],[\"supplier\",\"\"],[\"support\",\"\"],[\"surviv\",\"\"],[\"sustain\",\"\"],[\"symbol\",\"\"],[\"taskforc\",\"\"],[\"tasmania\",\"\"],[\"tasmanian\",\"\"],[\"technolog\",\"\"],[\"themselv\",\"\"],[\"thirdparti\",\"\"],[\"threaten\",\"\"],[\"told\",\"\"],[\"trade\",\"\"],[\"transform\",\"\"],[\"transpar\",\"\"],[\"transport\",\"\"],[\"treat\",\"\"],[\"trust\",\"\"],[\"unansw\",\"\"],[\"uncertainti\",\"\"],[\"underscor\",\"\"],[\"undertaken\",\"\"],[\"uniqu\",\"\"],[\"univers\",\"\"],[\"valid\",\"\"],[\"verifi\",\"\"],[\"vice\",\"\"],[\"visibl\",\"\"],[\"volatil\",\"\"],[\"volum\",\"\"],[\"voluntari\",\"\"],[\"vote\",\"\"],[\"warn\",\"\"],[\"wave\",\"\"],[\"welldocu\",\"\"],[\"west\",\"\"],[\"whi\",\"\"],[\"wide\",\"\"],[\"wildcaught\",\"\"],[\"wilder\",\"\"],[\"win\",\"\"],[\"woolworth\",\"woolworth\"],[\"world\",\"\"],[\"worldwid\",\"\"],[\"wwfcommiss\",\"\"]],\"hovertemplate\":\"dominant_topic=0_risk_biodivers_woolworth_investor\\u003cbr\\u003efrequency=%{marker.size}\\u003cbr\\u003eword=%{customdata[0]}\\u003cextra\\u003e\\u003c\\u002fextra\\u003e\",\"legendgroup\":\"0_risk_biodivers_woolworth_investor\",\"marker\":{\"color\":\"#EF553B\",\"size\":{\"dtype\":\"i1\",\"bdata\":\"AQIBAgEBAgEBBwIEAQEDAQEBAQEBAQMCAQECBQQDAQUBAQIDAQECAQEBAgEXAQUCAQEIAgECAQgCBwEDAQIDAQsBAwEIBAEBBAEBAgEBAQMCAQEBAQMDAwIBAwEBAQEDAQECBAEEAQEDAQMEAwEBAgICAQEBAgEEBwcBAgcBAQECAQEFAQECAgEBAgEBAwEEAQEBBwECAgIDAQEBCAECAQIBAQEBBwECAQUCAQIBAQUCAgEBEQIBBQEEBAICAQEBAQECAwEEAwIDAgYCBgIBAgECAwEBAQUFAgEBAQEBAQEBAQECAgIBAQEHAgMBAQECAQEBAgQBAQEFAwIBAQIDAgEDAQMDAQUBAQIBAQEBAQEBAQEBAgEDAQQCAwYBCQIeAwECAQIMBAIDAwEBAQQCAQIBDQEFAQIBAQgBAgMMAQkCAgEFAQECAwEBAQIIAQEBAwEBBgMBAgEDBAIBAQEBBAEBAQECAwEBAQYBAQMEAgEBAQMBAQEBEQMDAQ==\"},\"sizemode\":\"area\",\"sizeref\":0.003,\"symbol\":\"circle\"},\"mode\":\"markers+text\",\"name\":\"0_risk_biodivers_woolworth_investor\",\"showlegend\":true,\"text\":[\"\",\"\",\"\",\"\",\"\",\"\",\"\",\"\",\"\",\"\",\"\",\"\",\"\",\"\",\"\",\"\",\"\",\"\",\"\",\"\",\"\",\"\",\"\",\"\",\"\",\"\",\"\",\"\",\"\",\"\",\"\",\"\",\"\",\"\",\"\",\"\",\"\",\"\",\"\",\"\",\"\",\"\",\"\",\"\",\"biodivers\",\"\",\"\",\"\",\"\",\"\",\"campaign\",\"\",\"\",\"\",\"\",\"certif\",\"\",\"\",\"\",\"\",\"\",\"\",\"\",\"\",\"cole\",\"\",\"\",\"\",\"complaint\",\"\",\"\",\"\",\"\",\"\",\"\",\"\",\"\",\"\",\"\",\"\",\"\",\"\",\"\",\"\",\"\",\"\",\"\",\"\",\"\",\"\",\"\",\"\",\"\",\"\",\"\",\"\",\"\",\"\",\"\",\"\",\"\",\"\",\"\",\"\",\"\",\"\",\"\",\"\",\"\",\"\",\"\",\"\",\"\",\"\",\"\",\"\",\"\",\"\",\"\",\"\",\"\",\"\",\"\",\"\",\"\",\"\",\"\",\"\",\"\",\"\",\"\",\"\",\"\",\"\",\"\",\"\",\"\",\"\",\"\",\"\",\"\",\"\",\"\",\"\",\"\",\"\",\"\",\"\",\"\",\"\",\"\",\"\",\"\",\"\",\"\",\"\",\"harbour\",\"\",\"\",\"\",\"\",\"\",\"\",\"\",\"\",\"\",\"\",\"\",\"\",\"\",\"\",\"\",\"\",\"\",\"\",\"\",\"\",\"\",\"\",\"\",\"investor\",\"\",\"\",\"\",\"\",\"\",\"\",\"\",\"\",\"\",\"\",\"\",\"\",\"\",\"\",\"\",\"\",\"\",\"\",\"\",\"\",\"\",\"\",\"\",\"\",\"\",\"\",\"\",\"\",\"\",\"\",\"\",\"\",\"\",\"\",\"\",\"\",\"\",\"\",\"\",\"\",\"\",\"\",\"\",\"\",\"\",\"\",\"\",\"\",\"\",\"\",\"\",\"\",\"\",\"\",\"\",\"\",\"\",\"\",\"\",\"\",\"\",\"\",\"\",\"\",\"\",\"\",\"\",\"\",\"\",\"\",\"\",\"\",\"\",\"\",\"\",\"\",\"\",\"\",\"\",\"\",\"\",\"\",\"\",\"\",\"\",\"\",\"\",\"\",\"\",\"\",\"\",\"\",\"\",\"\",\"\",\"\",\"\",\"\",\"\",\"\",\"\",\"\",\"\",\"\",\"respons\",\"\",\"risk\",\"\",\"\",\"\",\"\",\"\",\"salmon\",\"\",\"\",\"\",\"\",\"\",\"\",\"\",\"\",\"\",\"\",\"\",\"\",\"sharehold\",\"\",\"\",\"\",\"\",\"\",\"\",\"skate\",\"\",\"\",\"\",\"sourc\",\"\",\"speci\",\"\",\"\",\"\",\"\",\"\",\"\",\"\",\"\",\"\",\"\",\"\",\"\",\"suppli\",\"\",\"\",\"\",\"\",\"\",\"\",\"\",\"\",\"\",\"\",\"\",\"\",\"\",\"\",\"\",\"\",\"\",\"\",\"\",\"\",\"\",\"\",\"\",\"\",\"\",\"\",\"\",\"\",\"\",\"\",\"\",\"\",\"\",\"\",\"\",\"\",\"\",\"\",\"\",\"\",\"\",\"\",\"woolworth\",\"\",\"\",\"\"],\"x\":{\"dtype\":\"f4\",\"bdata\":\"b8kfwqU9qUBJZB\\u002fChsqoQH1SH8LBmB\\u002fCv2IfwpkcH8IYCCDCRPcawt9yH8JUdx\\u002fCoxcgwqFwIMKGiRvCeWUgwtQoIMK4DSHCEwchwjTTIMKDmiHCTcwgwt1kiUASyB\\u002fCN1UgwsnSH8JvXx\\u002fCg7tzQGP5skAbWBvCw80fwlpsG8JuYh7CmKYewk+FqkDUt4xAzggfwh5CIMLBgx\\u002fC98kfwl9hIMJZYSDCIJwgwoivIMLWbBvCUuMfwpMkG8J\\u002fjqhAk58ewozRH8LvgSDCq8sfwnJ\\u002fHcL+dqhAlfQcwo9DH8JIER\\u002fC5O6NQATCH8KHORvC2IsfwuZ1IMLrNRvCT7AgwiutIMLoth\\u002fCZUgbwmcHH8JTs7NA99iCQLUcH8Ldsh\\u002fC6PmyQHPCHcJHaB\\u002fCDzsfwkGQIMKJ8h7C1eIfwojzikBSLx\\u002fCk40fwuRoH8I+0R3ChgIhwszKiUBRqu3BovQawlcis0DJMx\\u002fCOggbwvdzHsJh3R\\u002fCd5AfwidJHcKVVYpAvl4gwkGQH8KTgKlAykCpQFrKIMJzPSDC4r8gwntyHsKRwO3Bnv4ewrjU7cGL\\u002fx7CtSIbwh9tHsLpMx\\u002fCmTGzQKW3qUAdrqdACGIewhvXHcJZWB\\u002fCNZMdwpHqH8LyQx7CGcyOQM4sqECMPx\\u002fChPyyQDF6G8KpaiDCN8YgwtkfIcJ\\u002fYSDCvhggwma9H8JnihvCexQgwlz3H8JnGyHCtU8fwsyeHsKLbR7ChKoewl77HcKhYh\\u002fCsbLtwdE4HsJM9KlAPmkewndnIMJxOiDCWYUbwhMzIMIfXSDCJDAgwiJIqUCQYhvCp9QfwjzUIcL8uyDC7bMhwpklIcKm9CDCEtUgwjjmIMIGjR\\u002fCavAfwsTLHsJ6Dh\\u002fCxzixQE4GIMIhhiDCUl4ewtCVY0CKrqhA8ikewpLMpkCBDx7C4+IdwhzKGsLVc6dAjw4ewgzBH8I2+R3Cp6\\u002ftwcM+H8LffR7CTsftwUmOIMKs\\u002fx\\u002fCXLuDQEfOqEAnDiDCIVghwm6mIMLhPSHCITwfwspfIMIvwh7CekQbwmULIMJw4a5AznOKQEJYH8IW7e3B2I0ewrE7G8JL97JAchobwhtlHsKkWh7CTpIewvrAH8Lt+R\\u002fCJAWLQOHgIMIWnCHCnaAgwiggG8Ixm7FADqCoQBOhIMLKax\\u002fC0ucfwuolHcJSLx7CTGUewo60HsJlqh\\u002fC20sfwvXjH8JpLCHCv2uyQHtWskDgDx7CJhcewtcfHsJRhxvCfh2oQOiLikCC0B7CBNohwv+VIcK6uCHC69AgwkiDH8KLeiDCdduqQA1daEDxRiHCTvIgwtP5IcK5JnJAxl0bwkp7IcKosiHCzkYhwnHgIMKOFYpAv54ewvwEIMJh9u3BAdgewlspi0BPkopAX88dwkLDjUDKRh7CD0wfwht+qEDOoCDCgwAgwoTWIMJ08CDC2K8hwp0aIcLCIiHC+twgwj9jIcJY4CHCLjMhwgywIcJQCYpANwEfwi\\u002fAcEDWbyHCqzKLQKZOG8Jj0iDCnAcbwh66H8Jb\\u002fRrCfV4bwp7SHcJlwh7Cp8wdwixtH8LKQhvCTwqqQGm7pUCyoRvC+lgbwjWtHsKySh7C0\\u002fohwk3YHsKyxqhAnHcfwgS0HsK07yHC9NYfwnOvIMJQq2xAAEMfwgFus0D80h\\u002fCSVQgwqjeHsIB0R7CbUwewmIEhEBCYBrC\\u002fuEgwreqG8LZxR7C6g4hwvFyIcISDRvCJ1kfwppGH8Jt0h7CvbmCQOfCHcLATB3CYNAewqQ0HsL8iB\\u002fCwIgfwqcKH8KPRx\\u002fCCiUbwruBIMJH1iHCLBkbwp5yG8IyFyLC534fwvIyIMLDeRvCQQxiQNzWskC3oB3CN2EdwnPDHcJ4mh3CVgptQLPtH8Iorx\\u002fCLGIgwhafIMJCiqhA\\u002f5btwUuaHsLypx7CHUYfwiEfG8LOzyHCc+AhwqpbG8LbBCHCCA0ewpmbH8JUsx3CYOodwkR8G8LbWh3CGtwdwgB7HcL\\u002flh3C4hkdwrZDG8LE+xrCuc0cwg==\"},\"xaxis\":\"x\",\"y\":{\"dtype\":\"f4\",\"bdata\":\"1FJFwVeJPMExoEbBjIU8wc7DRsG2iEfBWl9EwXpZRcFhFEXBpIyPwepqRcHolkXBvPJBwQs8RMEV85PB3\\u002f1BwXKxQ8GgkEPBeYlBwc7eRsFt7EXBNzNDwRrnpMAPRkrB1VNGwcR1SsFRWkfBbyOWwJLAIcHeM5TBg\\u002f1KwZjak8F6J0jBvPhLwUV9PcGqRKjAtN5GwWO7SME4AkXBZXZEwWuwR8GfREbBtuRGwTHvS8EQ1pLBlWZGwXoekcGKaTzBODVGwa4PQ8H9S0fBfnFPwfhaTcGhWDzBIcRBwRioRcEorUXBlAitwEiMRMEViJTBOL5Dwd6gRsFd1JTBbBpHwfXWSMF\\u002fm0fB77aUwfOzQsGsYCHBej+ewHu3RME9UEfBIL4hwbpCRsG5fUrBH0NGwSZhRsFbKUPBBJw\\u002fwcp8psBDcErBaHxFwWIHTMEIwUbBMQtIwWnspsDveoLBiSOVwV2bIcEKbkXBhQiVwdiMTcFfhUzB0DlPwQI1QcEHnaXADthFwWFtR8Fe5DzB1Mg8wT\\u002fHRMHkLUfBQdZJwadSScHna4LBJ6ZMweNRgsHJx0jBZLSUwdjGSMEIp0nBpZAhwQYcPcEwNzzBPGlEwaFqQ8GyqEHBheBDwbxyPsEnTz\\u002fB74CvwEgfPMGSDUDBnb0hwZNZkcEEhUDB6BJFwb5RQ8EE6kjB7zZHwVtyRMHmtJPBhuNLwbSOS8HKlErBc5JJwfDRTcG3UErBr\\u002fVHwWVrQMHDjEfBrXKCwXwIQ8HOIz3BGZRAwRb4QsG\\u002fUkLBeJ6RwRjAQsHc2kHByGtGwZO8PMEQLZTB+QVCwV+iSMFzeUvBfSdJwYAiTcFJX0rBV91JwTX+S8Hmw07Bp+NMwclQTMEKx0TBC7gkwU26RMF+50XBlD9NwQTZjsBVgjzBQT9KwUKLO8E1WkXBXbBIwYOrjsEl2jvBa2NJwSraQ8EdEEPBhHWCwVO0TcFbCULB81iCwVC+P8FCMkHBARifwMuCPMGSZErBRvdJwSjzQsHcpkPBDZhMwabATcH4MUvBqGGUwR\\u002fHTcG20yrBI\\u002fmlwK4GTMFWQYLBpa9HwYS3lMEayCHBKemTwa7CR8E+a0LBg+0\\u002fwfp0P8EFEULBg6CmwPZwQMGMCEPBQZ9AwWValMH5xSPBFos8wSqKS8EgC03B4shNwY\\u002f6SMHmYEDBA0xJwX8\\u002fRcHAZ0XBmaFDwVQdRMFsBUfBlHchwcMNIsG+wUDBFlRBwUDFQcG7sZHB1D48wSdGpcBwkUPBZwtEwVMUTcFwjUfBEohLwS5DTMFLo0DBq5Y9wfoKkcBQm0TBtpxDwVLDRsFzUJXACI2UwclzScFAPEnBdqNJwcBRTsH\\u002fdKXAjftLwedPT8FAL4LBd9dCwaxlpsBlRafAqPJGwTgEq8Bo60HBhmg\\u002fwfLwPMHiH0HBm1tCwZIqQcEHIULBBDFBweIlQcGI8EnBi8NFwTVJQsF1e0bBLlZLwUnTQ8GSiaXAB\\u002fdAwUeilMCO+UvBQKamwDSflMFrAUzB7LmRwQ0vT8EVC5HBcd6UwXdGS8FEPEvBy4JIwSgXS8HvkpTBKFM8wagOO8GoTJXB4WKUwQdjPsE2i0nBR+VBwV2zQ8GeejzByAtDwcttQ8EpCEbB42pJweMLTcEU3ZLAKu1NwRzcIcHnck7BTO9OwXyGTsGJ+U\\u002fBOSRMwadon8Dbno3BZfhAwfxykMH9tUbBL5dNwRqXTMH29JPBDdlOwSIMTcGQJ0zBBimewD\\u002fqQsF1MkjBIus+wZVIQMF1rT3BFHY9wZCePcEWgT3BG26UwVeWP8HoWkPBXYeUwZTTlMFM3knBTU1BweFvT8G4nJTBMC2OwCHWIcFMEEbBVElKwS7RP8Er9UfBewyTwJI1O8GwTT3B\\u002fm8+wbrWPMGiAj3B2o2CwcFpRcGypUXB0bJBwetRlMGqhknBi75MwcbdlMFK2E3BLjFHwRG9P8E4ZUnBnbxLwePUlMHEp0PBy7BMweunRsEfMEPBvNJLwU+LlMHaCZXBpmRFwQ==\"},\"yaxis\":\"y\",\"type\":\"scattergl\"}],                        {\"template\":{\"data\":{\"barpolar\":[{\"marker\":{\"line\":{\"color\":\"white\",\"width\":0.5},\"pattern\":{\"fillmode\":\"overlay\",\"size\":10,\"solidity\":0.2}},\"type\":\"barpolar\"}],\"bar\":[{\"error_x\":{\"color\":\"#2a3f5f\"},\"error_y\":{\"color\":\"#2a3f5f\"},\"marker\":{\"line\":{\"color\":\"white\",\"width\":0.5},\"pattern\":{\"fillmode\":\"overlay\",\"size\":10,\"solidity\":0.2}},\"type\":\"bar\"}],\"carpet\":[{\"aaxis\":{\"endlinecolor\":\"#2a3f5f\",\"gridcolor\":\"#C8D4E3\",\"linecolor\":\"#C8D4E3\",\"minorgridcolor\":\"#C8D4E3\",\"startlinecolor\":\"#2a3f5f\"},\"baxis\":{\"endlinecolor\":\"#2a3f5f\",\"gridcolor\":\"#C8D4E3\",\"linecolor\":\"#C8D4E3\",\"minorgridcolor\":\"#C8D4E3\",\"startlinecolor\":\"#2a3f5f\"},\"type\":\"carpet\"}],\"choropleth\":[{\"colorbar\":{\"outlinewidth\":0,\"ticks\":\"\"},\"type\":\"choropleth\"}],\"contourcarpet\":[{\"colorbar\":{\"outlinewidth\":0,\"ticks\":\"\"},\"type\":\"contourcarpet\"}],\"contour\":[{\"colorbar\":{\"outlinewidth\":0,\"ticks\":\"\"},\"colorscale\":[[0.0,\"#0d0887\"],[0.1111111111111111,\"#46039f\"],[0.2222222222222222,\"#7201a8\"],[0.3333333333333333,\"#9c179e\"],[0.4444444444444444,\"#bd3786\"],[0.5555555555555556,\"#d8576b\"],[0.6666666666666666,\"#ed7953\"],[0.7777777777777778,\"#fb9f3a\"],[0.8888888888888888,\"#fdca26\"],[1.0,\"#f0f921\"]],\"type\":\"contour\"}],\"heatmap\":[{\"colorbar\":{\"outlinewidth\":0,\"ticks\":\"\"},\"colorscale\":[[0.0,\"#0d0887\"],[0.1111111111111111,\"#46039f\"],[0.2222222222222222,\"#7201a8\"],[0.3333333333333333,\"#9c179e\"],[0.4444444444444444,\"#bd3786\"],[0.5555555555555556,\"#d8576b\"],[0.6666666666666666,\"#ed7953\"],[0.7777777777777778,\"#fb9f3a\"],[0.8888888888888888,\"#fdca26\"],[1.0,\"#f0f921\"]],\"type\":\"heatmap\"}],\"histogram2dcontour\":[{\"colorbar\":{\"outlinewidth\":0,\"ticks\":\"\"},\"colorscale\":[[0.0,\"#0d0887\"],[0.1111111111111111,\"#46039f\"],[0.2222222222222222,\"#7201a8\"],[0.3333333333333333,\"#9c179e\"],[0.4444444444444444,\"#bd3786\"],[0.5555555555555556,\"#d8576b\"],[0.6666666666666666,\"#ed7953\"],[0.7777777777777778,\"#fb9f3a\"],[0.8888888888888888,\"#fdca26\"],[1.0,\"#f0f921\"]],\"type\":\"histogram2dcontour\"}],\"histogram2d\":[{\"colorbar\":{\"outlinewidth\":0,\"ticks\":\"\"},\"colorscale\":[[0.0,\"#0d0887\"],[0.1111111111111111,\"#46039f\"],[0.2222222222222222,\"#7201a8\"],[0.3333333333333333,\"#9c179e\"],[0.4444444444444444,\"#bd3786\"],[0.5555555555555556,\"#d8576b\"],[0.6666666666666666,\"#ed7953\"],[0.7777777777777778,\"#fb9f3a\"],[0.8888888888888888,\"#fdca26\"],[1.0,\"#f0f921\"]],\"type\":\"histogram2d\"}],\"histogram\":[{\"marker\":{\"pattern\":{\"fillmode\":\"overlay\",\"size\":10,\"solidity\":0.2}},\"type\":\"histogram\"}],\"mesh3d\":[{\"colorbar\":{\"outlinewidth\":0,\"ticks\":\"\"},\"type\":\"mesh3d\"}],\"parcoords\":[{\"line\":{\"colorbar\":{\"outlinewidth\":0,\"ticks\":\"\"}},\"type\":\"parcoords\"}],\"pie\":[{\"automargin\":true,\"type\":\"pie\"}],\"scatter3d\":[{\"line\":{\"colorbar\":{\"outlinewidth\":0,\"ticks\":\"\"}},\"marker\":{\"colorbar\":{\"outlinewidth\":0,\"ticks\":\"\"}},\"type\":\"scatter3d\"}],\"scattercarpet\":[{\"marker\":{\"colorbar\":{\"outlinewidth\":0,\"ticks\":\"\"}},\"type\":\"scattercarpet\"}],\"scattergeo\":[{\"marker\":{\"colorbar\":{\"outlinewidth\":0,\"ticks\":\"\"}},\"type\":\"scattergeo\"}],\"scattergl\":[{\"marker\":{\"colorbar\":{\"outlinewidth\":0,\"ticks\":\"\"}},\"type\":\"scattergl\"}],\"scattermapbox\":[{\"marker\":{\"colorbar\":{\"outlinewidth\":0,\"ticks\":\"\"}},\"type\":\"scattermapbox\"}],\"scattermap\":[{\"marker\":{\"colorbar\":{\"outlinewidth\":0,\"ticks\":\"\"}},\"type\":\"scattermap\"}],\"scatterpolargl\":[{\"marker\":{\"colorbar\":{\"outlinewidth\":0,\"ticks\":\"\"}},\"type\":\"scatterpolargl\"}],\"scatterpolar\":[{\"marker\":{\"colorbar\":{\"outlinewidth\":0,\"ticks\":\"\"}},\"type\":\"scatterpolar\"}],\"scatter\":[{\"fillpattern\":{\"fillmode\":\"overlay\",\"size\":10,\"solidity\":0.2},\"type\":\"scatter\"}],\"scatterternary\":[{\"marker\":{\"colorbar\":{\"outlinewidth\":0,\"ticks\":\"\"}},\"type\":\"scatterternary\"}],\"surface\":[{\"colorbar\":{\"outlinewidth\":0,\"ticks\":\"\"},\"colorscale\":[[0.0,\"#0d0887\"],[0.1111111111111111,\"#46039f\"],[0.2222222222222222,\"#7201a8\"],[0.3333333333333333,\"#9c179e\"],[0.4444444444444444,\"#bd3786\"],[0.5555555555555556,\"#d8576b\"],[0.6666666666666666,\"#ed7953\"],[0.7777777777777778,\"#fb9f3a\"],[0.8888888888888888,\"#fdca26\"],[1.0,\"#f0f921\"]],\"type\":\"surface\"}],\"table\":[{\"cells\":{\"fill\":{\"color\":\"#EBF0F8\"},\"line\":{\"color\":\"white\"}},\"header\":{\"fill\":{\"color\":\"#C8D4E3\"},\"line\":{\"color\":\"white\"}},\"type\":\"table\"}]},\"layout\":{\"annotationdefaults\":{\"arrowcolor\":\"#2a3f5f\",\"arrowhead\":0,\"arrowwidth\":1},\"autotypenumbers\":\"strict\",\"coloraxis\":{\"colorbar\":{\"outlinewidth\":0,\"ticks\":\"\"}},\"colorscale\":{\"diverging\":[[0,\"#8e0152\"],[0.1,\"#c51b7d\"],[0.2,\"#de77ae\"],[0.3,\"#f1b6da\"],[0.4,\"#fde0ef\"],[0.5,\"#f7f7f7\"],[0.6,\"#e6f5d0\"],[0.7,\"#b8e186\"],[0.8,\"#7fbc41\"],[0.9,\"#4d9221\"],[1,\"#276419\"]],\"sequential\":[[0.0,\"#0d0887\"],[0.1111111111111111,\"#46039f\"],[0.2222222222222222,\"#7201a8\"],[0.3333333333333333,\"#9c179e\"],[0.4444444444444444,\"#bd3786\"],[0.5555555555555556,\"#d8576b\"],[0.6666666666666666,\"#ed7953\"],[0.7777777777777778,\"#fb9f3a\"],[0.8888888888888888,\"#fdca26\"],[1.0,\"#f0f921\"]],\"sequentialminus\":[[0.0,\"#0d0887\"],[0.1111111111111111,\"#46039f\"],[0.2222222222222222,\"#7201a8\"],[0.3333333333333333,\"#9c179e\"],[0.4444444444444444,\"#bd3786\"],[0.5555555555555556,\"#d8576b\"],[0.6666666666666666,\"#ed7953\"],[0.7777777777777778,\"#fb9f3a\"],[0.8888888888888888,\"#fdca26\"],[1.0,\"#f0f921\"]]},\"colorway\":[\"#636efa\",\"#EF553B\",\"#00cc96\",\"#ab63fa\",\"#FFA15A\",\"#19d3f3\",\"#FF6692\",\"#B6E880\",\"#FF97FF\",\"#FECB52\"],\"font\":{\"color\":\"#2a3f5f\"},\"geo\":{\"bgcolor\":\"white\",\"lakecolor\":\"white\",\"landcolor\":\"white\",\"showlakes\":true,\"showland\":true,\"subunitcolor\":\"#C8D4E3\"},\"hoverlabel\":{\"align\":\"left\"},\"hovermode\":\"closest\",\"mapbox\":{\"style\":\"light\"},\"paper_bgcolor\":\"white\",\"plot_bgcolor\":\"white\",\"polar\":{\"angularaxis\":{\"gridcolor\":\"#EBF0F8\",\"linecolor\":\"#EBF0F8\",\"ticks\":\"\"},\"bgcolor\":\"white\",\"radialaxis\":{\"gridcolor\":\"#EBF0F8\",\"linecolor\":\"#EBF0F8\",\"ticks\":\"\"}},\"scene\":{\"xaxis\":{\"backgroundcolor\":\"white\",\"gridcolor\":\"#DFE8F3\",\"gridwidth\":2,\"linecolor\":\"#EBF0F8\",\"showbackground\":true,\"ticks\":\"\",\"zerolinecolor\":\"#EBF0F8\"},\"yaxis\":{\"backgroundcolor\":\"white\",\"gridcolor\":\"#DFE8F3\",\"gridwidth\":2,\"linecolor\":\"#EBF0F8\",\"showbackground\":true,\"ticks\":\"\",\"zerolinecolor\":\"#EBF0F8\"},\"zaxis\":{\"backgroundcolor\":\"white\",\"gridcolor\":\"#DFE8F3\",\"gridwidth\":2,\"linecolor\":\"#EBF0F8\",\"showbackground\":true,\"ticks\":\"\",\"zerolinecolor\":\"#EBF0F8\"}},\"shapedefaults\":{\"line\":{\"color\":\"#2a3f5f\"}},\"ternary\":{\"aaxis\":{\"gridcolor\":\"#DFE8F3\",\"linecolor\":\"#A2B1C6\",\"ticks\":\"\"},\"baxis\":{\"gridcolor\":\"#DFE8F3\",\"linecolor\":\"#A2B1C6\",\"ticks\":\"\"},\"bgcolor\":\"white\",\"caxis\":{\"gridcolor\":\"#DFE8F3\",\"linecolor\":\"#A2B1C6\",\"ticks\":\"\"}},\"title\":{\"x\":0.05},\"xaxis\":{\"automargin\":true,\"gridcolor\":\"#EBF0F8\",\"linecolor\":\"#EBF0F8\",\"ticks\":\"\",\"title\":{\"standoff\":15},\"zerolinecolor\":\"#EBF0F8\",\"zerolinewidth\":2},\"yaxis\":{\"automargin\":true,\"gridcolor\":\"#EBF0F8\",\"linecolor\":\"#EBF0F8\",\"ticks\":\"\",\"title\":{\"standoff\":15},\"zerolinecolor\":\"#EBF0F8\",\"zerolinewidth\":2}}},\"xaxis\":{\"anchor\":\"y\",\"domain\":[0.0,1.0],\"title\":{\"text\":\"UMAP_1\"}},\"yaxis\":{\"anchor\":\"x\",\"domain\":[0.0,1.0],\"title\":{\"text\":\"UMAP_1\"}},\"legend\":{\"title\":{\"text\":\"dominant_topic\"},\"tracegroupgap\":0,\"itemsizing\":\"constant\"},\"margin\":{\"t\":60}},                        {\"responsive\": true}                    )                };            </script>        </div>"
      ],
      "text/plain": [
       "Figure({\n",
       "    'data': [{'customdata': array([['abandon', ''],\n",
       "                                   ['abil', ''],\n",
       "                                   ['abl', ''],\n",
       "                                   ...,\n",
       "                                   ['york', ''],\n",
       "                                   ['younger', ''],\n",
       "                                   ['zone', '']], shape=(941, 2), dtype=object),\n",
       "              'hovertemplate': ('dominant_topic=1_spacex_said_l' ... '{customdata[0]}<extra></extra>'),\n",
       "              'legendgroup': '1_spacex_said_locker_foot',\n",
       "              'marker': {'color': '#636efa',\n",
       "                         'size': {'bdata': ('AQECAQEBBAICBAEBAQEBAQIEAQEBAQ' ... 'EBAQEKAQEBAQEBAQEBAQEBCwEFAQE='),\n",
       "                                  'dtype': 'i1'},\n",
       "                         'sizemode': 'area',\n",
       "                         'sizeref': 0.003,\n",
       "                         'symbol': 'circle'},\n",
       "              'mode': 'markers+text',\n",
       "              'name': '1_spacex_said_locker_foot',\n",
       "              'showlegend': True,\n",
       "              'text': array(['', '', '', ..., '', '', ''], shape=(941,), dtype=object),\n",
       "              'type': 'scattergl',\n",
       "              'x': {'bdata': ('5QMCQr5IF8Gq/wQ//TYCQoFG6kGf6h' ... 'dBVCcIQDZU5kGHQ4JBX9wcwSP1FcE='),\n",
       "                    'dtype': 'f4'},\n",
       "              'xaxis': 'x',\n",
       "              'y': {'bdata': ('34GzwVLHqkH2LiVBKBezwa8hvUG0bK' ... 'BBgU0owHPevkEDonVB8BWtQfmtp0E='),\n",
       "                    'dtype': 'f4'},\n",
       "              'yaxis': 'y'},\n",
       "             {'customdata': array([['abroad', ''],\n",
       "                                   ['absenc', ''],\n",
       "                                   ['acceler', ''],\n",
       "                                   ...,\n",
       "                                   ['world', ''],\n",
       "                                   ['worldwid', ''],\n",
       "                                   ['wwfcommiss', '']], shape=(379, 2), dtype=object),\n",
       "              'hovertemplate': ('dominant_topic=0_risk_biodiver' ... '{customdata[0]}<extra></extra>'),\n",
       "              'legendgroup': '0_risk_biodivers_woolworth_investor',\n",
       "              'marker': {'color': '#EF553B',\n",
       "                         'size': {'bdata': ('AQIBAgEBAgEBBwIEAQEDAQEBAQEBAQ' ... 'EBAQYBAQMEAgEBAQMBAQEBEQMDAQ=='),\n",
       "                                  'dtype': 'i1'},\n",
       "                         'sizemode': 'area',\n",
       "                         'sizeref': 0.003,\n",
       "                         'symbol': 'circle'},\n",
       "              'mode': 'markers+text',\n",
       "              'name': '0_risk_biodivers_woolworth_investor',\n",
       "              'showlegend': True,\n",
       "              'text': array(['', '', '', ..., '', '', ''], shape=(379,), dtype=object),\n",
       "              'type': 'scattergl',\n",
       "              'x': {'bdata': ('b8kfwqU9qUBJZB/ChsqoQH1SH8LBmB' ... 'L/lh3C4hkdwrZDG8LE+xrCuc0cwg=='),\n",
       "                    'dtype': 'f4'},\n",
       "              'xaxis': 'x',\n",
       "              'y': {'bdata': ('1FJFwVeJPMExoEbBjIU8wc7DRsG2iE' ... 'EfMEPBvNJLwU+LlMHaCZXBpmRFwQ=='),\n",
       "                    'dtype': 'f4'},\n",
       "              'yaxis': 'y'}],\n",
       "    'layout': {'legend': {'itemsizing': 'constant', 'title': {'text': 'dominant_topic'}, 'tracegroupgap': 0},\n",
       "               'margin': {'t': 60},\n",
       "               'template': '...',\n",
       "               'xaxis': {'anchor': 'y', 'domain': [0.0, 1.0], 'title': {'text': 'UMAP_1'}},\n",
       "               'yaxis': {'anchor': 'x', 'domain': [0.0, 1.0], 'title': {'text': 'UMAP_1'}}}\n",
       "})"
      ]
     },
     "execution_count": 40,
     "metadata": {},
     "output_type": "execute_result"
    }
   ],
   "source": [
    "from topicwizard.figures import word_map\n",
    "\n",
    "topic_data = topic_pipeline.prepare_topic_data(texts)\n",
    "\n",
    "word_map(topic_data)"
   ]
  }
 ],
 "metadata": {
  "kernelspec": {
   "display_name": "ftenv",
   "language": "python",
   "name": "python3"
  },
  "language_info": {
   "codemirror_mode": {
    "name": "ipython",
    "version": 3
   },
   "file_extension": ".py",
   "mimetype": "text/x-python",
   "name": "python",
   "nbconvert_exporter": "python",
   "pygments_lexer": "ipython3",
   "version": "3.12.6"
  }
 },
 "nbformat": 4,
 "nbformat_minor": 5
}
