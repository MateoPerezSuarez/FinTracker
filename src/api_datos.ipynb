{
 "cells": [
  {
   "cell_type": "code",
   "execution_count": null,
   "id": "d47487e7",
   "metadata": {},
   "outputs": [
    {
     "ename": "FinnhubAPIException",
     "evalue": "FinnhubAPIException(status_code: 401): Invalid API key.",
     "output_type": "error",
     "traceback": [
      "\u001b[31m---------------------------------------------------------------------------\u001b[39m",
      "\u001b[31mFinnhubAPIException\u001b[39m                       Traceback (most recent call last)",
      "\u001b[36mCell\u001b[39m\u001b[36m \u001b[39m\u001b[32mIn[1]\u001b[39m\u001b[32m, line 7\u001b[39m\n\u001b[32m      4\u001b[39m finnhub_client = finnhub.Client(api_key=\u001b[33m\"\u001b[39m\u001b[33mYOUR API KEY\u001b[39m\u001b[33m\"\u001b[39m)\n\u001b[32m      6\u001b[39m \u001b[38;5;66;03m# Stock candles\u001b[39;00m\n\u001b[32m----> \u001b[39m\u001b[32m7\u001b[39m res = \u001b[43mfinnhub_client\u001b[49m\u001b[43m.\u001b[49m\u001b[43mstock_candles\u001b[49m\u001b[43m(\u001b[49m\u001b[33;43m'\u001b[39;49m\u001b[33;43mAAPL\u001b[39;49m\u001b[33;43m'\u001b[39;49m\u001b[43m,\u001b[49m\u001b[43m \u001b[49m\u001b[33;43m'\u001b[39;49m\u001b[33;43mD\u001b[39;49m\u001b[33;43m'\u001b[39;49m\u001b[43m,\u001b[49m\u001b[43m \u001b[49m\u001b[32;43m1590988249\u001b[39;49m\u001b[43m,\u001b[49m\u001b[43m \u001b[49m\u001b[32;43m1591852249\u001b[39;49m\u001b[43m)\u001b[49m\n\u001b[32m      8\u001b[39m \u001b[38;5;28mprint\u001b[39m(res)\n",
      "\u001b[36mFile \u001b[39m\u001b[32mc:\\Users\\Iñigo Peña\\Desktop\\Clase\\2025-26\\ProcesamientoDelLenguajeNatural\\FinTracker\\ftenv\\Lib\\site-packages\\finnhub\\client.py:226\u001b[39m, in \u001b[36mClient.stock_candles\u001b[39m\u001b[34m(self, symbol, resolution, _from, to, **kwargs)\u001b[39m\n\u001b[32m    218\u001b[39m \u001b[38;5;28;01mdef\u001b[39;00m\u001b[38;5;250m \u001b[39m\u001b[34mstock_candles\u001b[39m(\u001b[38;5;28mself\u001b[39m, symbol, resolution, _from, to, **kwargs):\n\u001b[32m    219\u001b[39m     params = \u001b[38;5;28mself\u001b[39m._merge_two_dicts({\n\u001b[32m    220\u001b[39m         \u001b[33m\"\u001b[39m\u001b[33msymbol\u001b[39m\u001b[33m\"\u001b[39m: symbol,\n\u001b[32m    221\u001b[39m         \u001b[33m\"\u001b[39m\u001b[33mresolution\u001b[39m\u001b[33m\"\u001b[39m: resolution,\n\u001b[32m    222\u001b[39m         \u001b[33m\"\u001b[39m\u001b[33mfrom\u001b[39m\u001b[33m\"\u001b[39m: _from,\n\u001b[32m    223\u001b[39m         \u001b[33m\"\u001b[39m\u001b[33mto\u001b[39m\u001b[33m\"\u001b[39m: to\n\u001b[32m    224\u001b[39m     }, kwargs)\n\u001b[32m--> \u001b[39m\u001b[32m226\u001b[39m     \u001b[38;5;28;01mreturn\u001b[39;00m \u001b[38;5;28;43mself\u001b[39;49m\u001b[43m.\u001b[49m\u001b[43m_get\u001b[49m\u001b[43m(\u001b[49m\u001b[33;43m\"\u001b[39;49m\u001b[33;43m/stock/candle\u001b[39;49m\u001b[33;43m\"\u001b[39;49m\u001b[43m,\u001b[49m\u001b[43m \u001b[49m\u001b[43mparams\u001b[49m\u001b[43m=\u001b[49m\u001b[43mparams\u001b[49m\u001b[43m)\u001b[49m\n",
      "\u001b[36mFile \u001b[39m\u001b[32mc:\\Users\\Iñigo Peña\\Desktop\\Clase\\2025-26\\ProcesamientoDelLenguajeNatural\\FinTracker\\ftenv\\Lib\\site-packages\\finnhub\\client.py:71\u001b[39m, in \u001b[36mClient._get\u001b[39m\u001b[34m(self, path, **kwargs)\u001b[39m\n\u001b[32m     70\u001b[39m \u001b[38;5;28;01mdef\u001b[39;00m\u001b[38;5;250m \u001b[39m\u001b[34m_get\u001b[39m(\u001b[38;5;28mself\u001b[39m, path, **kwargs):\n\u001b[32m---> \u001b[39m\u001b[32m71\u001b[39m     \u001b[38;5;28;01mreturn\u001b[39;00m \u001b[38;5;28;43mself\u001b[39;49m\u001b[43m.\u001b[49m\u001b[43m_request\u001b[49m\u001b[43m(\u001b[49m\u001b[33;43m\"\u001b[39;49m\u001b[33;43mget\u001b[39;49m\u001b[33;43m\"\u001b[39;49m\u001b[43m,\u001b[49m\u001b[43m \u001b[49m\u001b[43mpath\u001b[49m\u001b[43m,\u001b[49m\u001b[43m \u001b[49m\u001b[43m*\u001b[49m\u001b[43m*\u001b[49m\u001b[43mkwargs\u001b[49m\u001b[43m)\u001b[49m\n",
      "\u001b[36mFile \u001b[39m\u001b[32mc:\\Users\\Iñigo Peña\\Desktop\\Clase\\2025-26\\ProcesamientoDelLenguajeNatural\\FinTracker\\ftenv\\Lib\\site-packages\\finnhub\\client.py:41\u001b[39m, in \u001b[36mClient._request\u001b[39m\u001b[34m(self, method, path, **kwargs)\u001b[39m\n\u001b[32m     38\u001b[39m kwargs[\u001b[33m\"\u001b[39m\u001b[33mparams\u001b[39m\u001b[33m\"\u001b[39m] = \u001b[38;5;28mself\u001b[39m._format_params(kwargs.get(\u001b[33m\"\u001b[39m\u001b[33mparams\u001b[39m\u001b[33m\"\u001b[39m, {}))\n\u001b[32m     40\u001b[39m response = \u001b[38;5;28mgetattr\u001b[39m(\u001b[38;5;28mself\u001b[39m._session, method)(uri, **kwargs)\n\u001b[32m---> \u001b[39m\u001b[32m41\u001b[39m \u001b[38;5;28;01mreturn\u001b[39;00m \u001b[38;5;28;43mself\u001b[39;49m\u001b[43m.\u001b[49m\u001b[43m_handle_response\u001b[49m\u001b[43m(\u001b[49m\u001b[43mresponse\u001b[49m\u001b[43m)\u001b[49m\n",
      "\u001b[36mFile \u001b[39m\u001b[32mc:\\Users\\Iñigo Peña\\Desktop\\Clase\\2025-26\\ProcesamientoDelLenguajeNatural\\FinTracker\\ftenv\\Lib\\site-packages\\finnhub\\client.py:46\u001b[39m, in \u001b[36mClient._handle_response\u001b[39m\u001b[34m(response)\u001b[39m\n\u001b[32m     43\u001b[39m \u001b[38;5;129m@staticmethod\u001b[39m\n\u001b[32m     44\u001b[39m \u001b[38;5;28;01mdef\u001b[39;00m\u001b[38;5;250m \u001b[39m\u001b[34m_handle_response\u001b[39m(response):\n\u001b[32m     45\u001b[39m     \u001b[38;5;28;01mif\u001b[39;00m \u001b[38;5;129;01mnot\u001b[39;00m response.ok:\n\u001b[32m---> \u001b[39m\u001b[32m46\u001b[39m         \u001b[38;5;28;01mraise\u001b[39;00m FinnhubAPIException(response)\n\u001b[32m     48\u001b[39m     \u001b[38;5;28;01mtry\u001b[39;00m:\n\u001b[32m     49\u001b[39m         content_type = response.headers.get(\u001b[33m'\u001b[39m\u001b[33mContent-Type\u001b[39m\u001b[33m'\u001b[39m, \u001b[33m'\u001b[39m\u001b[33m'\u001b[39m)\n",
      "\u001b[31mFinnhubAPIException\u001b[39m: FinnhubAPIException(status_code: 401): Invalid API key."
     ]
    }
   ],
   "source": [
    "import websocket"
   ]
  }
 ],
 "metadata": {
  "kernelspec": {
   "display_name": "ftenv",
   "language": "python",
   "name": "python3"
  },
  "language_info": {
   "codemirror_mode": {
    "name": "ipython",
    "version": 3
   },
   "file_extension": ".py",
   "mimetype": "text/x-python",
   "name": "python",
   "nbconvert_exporter": "python",
   "pygments_lexer": "ipython3",
   "version": "3.12.6"
  }
 },
 "nbformat": 4,
 "nbformat_minor": 5
}
